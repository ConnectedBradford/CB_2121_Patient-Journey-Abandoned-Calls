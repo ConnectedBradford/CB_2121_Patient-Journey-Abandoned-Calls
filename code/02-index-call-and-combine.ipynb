{
 "cells": [
  {
   "cell_type": "code",
   "execution_count": null,
   "id": "016775ea-e049-4e5f-b130-f90c705ec20c",
   "metadata": {},
   "outputs": [],
   "source": [
    "unlink('data/walk_files/*')"
   ]
  },
  {
   "cell_type": "code",
   "execution_count": null,
   "id": "4eb6e0cd-626f-4cef-bcb5-be127c2c56d6",
   "metadata": {},
   "outputs": [],
   "source": [
    "suppressPackageStartupMessages(library(tidyverse))\n",
    "library(lubridate)\n",
    "library(glue)\n",
    "library(furrr)"
   ]
  },
  {
   "cell_type": "code",
   "execution_count": null,
   "id": "1d3df91e-b27a-4a4d-8ae3-4341423cb27e",
   "metadata": {},
   "outputs": [],
   "source": [
    "no_cores <- availableCores() - 1\n",
    "no_cores"
   ]
  },
  {
   "cell_type": "markdown",
   "id": "65245a68-dce3-4e01-b8a8-0e7ce7c6cd96",
   "metadata": {},
   "source": [
    "# Helper functions"
   ]
  },
  {
   "cell_type": "code",
   "execution_count": null,
   "id": "316856d8-60c8-4486-8c20-585612fb13c9",
   "metadata": {},
   "outputs": [],
   "source": [
    "date_diff_fn <- function(df, p_id, endtime, backwards = FALSE, follow_up_time = 72) {\n",
    "  # endtime = 111 consultation finish time\n",
    "  # start = start of 999/GP call etc.\n",
    "\n",
    "  df1 <- df %>%\n",
    "    dplyr::filter(person_id == p_id) %>%\n",
    "    mutate(\n",
    "       # time1 - time2 or difftime(time1, time2)\n",
    "        # So we are comparing the end time of the split dataframe value with the current dataset row end time\n",
    "      call_time_diff = difftime(start, endtime, units = \"hours\")\n",
    "    )\n",
    "\n",
    "    if(backwards) {\n",
    "        # Need to check for IUC calls before index event (AC calls only)\n",
    "        num_cases = nrow(df1 %>% filter(!is.na(call_time_diff) & (call_time_diff < 0 & call_time_diff >= -follow_up_time)))\n",
    "        return (num_cases)\n",
    "    } else {\n",
    "        # Remove values with no datetimes recorded and \n",
    "        # only return cases which occured within follow_up_time of the call.\n",
    "        df2 <- df1 %>% filter(!is.na(call_time_diff) & (call_time_diff >= 0 & call_time_diff <= follow_up_time))\n",
    "\n",
    "        return (list(df2))\n",
    "    }\n",
    "    \n",
    "}\n",
    "\n",
    "\n",
    "calc_min_callback <- function(df) {\n",
    "  df %>%\n",
    "    pull(call_time_diff) %>%\n",
    "    min(na.rm = T)\n",
    "}\n",
    "\n",
    "manage_split <- function(df, iter, df2, filename, follow_up_time = 72) { \n",
    "  # default is end of 111 call\n",
    "  # message(glue::glue(\"Processing {filename}\"))\n",
    "  var1 = glue(\"{filename}_visit_{follow_up_time}_df\")\n",
    "        \n",
    "  min_date = min(df$start)\n",
    "  max_date = max(df$end)\n",
    "  #message(glue(\"Min date is {min_date} and max date is {max_date}\"))\n",
    "    \n",
    "  df3 <- df2 %>%\n",
    "    filter(\n",
    "        start >= min_date - hours(follow_up_time),\n",
    "        end <= max_date + hours(follow_up_time)\n",
    "    )\n",
    "    \n",
    "    #df3 %>% glimpse()\n",
    "    \n",
    "  #message(glue::glue(\"df3 contains {nrow(df3)} incidents where min_date is {min_date} and max_date is {max_date + hours(72)}\"))\n",
    "  #message(\"----------------\")\n",
    "    \n",
    "  #df %>% head(1) %>% glimpse()\n",
    "  \n",
    "  df1 <- df %>% \n",
    "   rowwise() %>%\n",
    "    mutate(\n",
    "      \"{filename}_visit_{follow_up_time}_df\" := date_diff_fn(df3, person_id, end), # change end to start \n",
    "      \"{filename}_calls_in_{follow_up_time}_hrs\" := nrow((!!sym(var1))[0]),\n",
    "      \"{filename}_calls_{follow_up_time}_before_df\" := date_diff_fn(df3, person_id, end, TRUE)\n",
    "    ) %>% \n",
    "    select(unique_id, person_id, starts_with(filename))\n",
    "    \n",
    "   #df1 %>% glimpse()\n",
    "    \n",
    "   #message(glue(\"{var1} has {nrow(df1)} matches\"))\n",
    "    \n",
    "   saveRDS(df1, paste0('data/walk_files/', filename, '_', iter, '.rds'))\n",
    "}"
   ]
  },
  {
   "cell_type": "markdown",
   "id": "d49cd9d9-e54f-4b1f-b3ef-1f0f2ca80be6",
   "metadata": {},
   "source": [
    "# Abandoned Calls"
   ]
  },
  {
   "cell_type": "code",
   "execution_count": null,
   "id": "cc4a980d-e45a-4b9a-a633-d0fd65201667",
   "metadata": {},
   "outputs": [],
   "source": [
    "# There are 2 ac_df files, one contains only the index abandoned call and the other, includes all calls"
   ]
  },
  {
   "cell_type": "code",
   "execution_count": null,
   "id": "2014ee84-d515-4b1f-8ca0-2cc015e22692",
   "metadata": {},
   "outputs": [],
   "source": [
    "ac_index_df <- readRDS('data/ac_df_index.rds')"
   ]
  },
  {
   "cell_type": "code",
   "execution_count": null,
   "id": "10f028ef-23c9-4971-987c-9149b30effd6",
   "metadata": {},
   "outputs": [],
   "source": [
    "ac_index_df %>% glimpse()"
   ]
  },
  {
   "cell_type": "code",
   "execution_count": null,
   "id": "5a7a7bec-c907-4d70-baff-9b64fc4c7cf5",
   "metadata": {},
   "outputs": [],
   "source": [
    "n <- 250\n",
    "nr <- nrow(ac_index_df)\n",
    "\n",
    "split_ac_df <- split(ac_index_df, rep(1:ceiling(nr/n), each=n, length.out=nr))"
   ]
  },
  {
   "cell_type": "code",
   "execution_count": null,
   "id": "e88eef63-0475-4e72-b0cb-606bc7fc4d35",
   "metadata": {},
   "outputs": [],
   "source": [
    "split_ac_df[[1]] %>% glimpse()"
   ]
  },
  {
   "cell_type": "markdown",
   "id": "1d3506c0-dd28-417e-a18f-19f7d3f160df",
   "metadata": {},
   "source": [
    "## Non-index abandoned calls"
   ]
  },
  {
   "cell_type": "code",
   "execution_count": null,
   "id": "efc74adc-e258-40ad-832c-2c27c982c72c",
   "metadata": {},
   "outputs": [],
   "source": [
    "ac_df <- readRDS('data/ac_df_all.rds') %>% filter(index_event == 0)"
   ]
  },
  {
   "cell_type": "code",
   "execution_count": null,
   "id": "af091c31-a9bc-4467-8216-b48018752055",
   "metadata": {},
   "outputs": [],
   "source": [
    "ac_df %>% count() # 2913 v2 2034 (kids removed)"
   ]
  },
  {
   "cell_type": "code",
   "execution_count": null,
   "id": "84cc11c9-a077-4028-8fcd-4920d34fe3f2",
   "metadata": {
    "scrolled": true,
    "tags": []
   },
   "outputs": [],
   "source": [
    "plan(multisession, workers = no_cores)\n",
    "\n",
    "start <- Sys.time()\n",
    "future_walk2(split_ac_df, rep(1:ceiling(nr/n)), ~manage_split(.x, .y, ac_df, \"ac_nest\", follow_up_time = 72))\n",
    "end <- Sys.time()"
   ]
  },
  {
   "cell_type": "code",
   "execution_count": null,
   "id": "06ec5624-bf16-40af-94b2-57a2906a30d1",
   "metadata": {},
   "outputs": [],
   "source": [
    "end-start # 1.2 mins"
   ]
  },
  {
   "cell_type": "code",
   "execution_count": null,
   "id": "05d94a35-d8df-469e-bd7f-e26b1d13a111",
   "metadata": {},
   "outputs": [],
   "source": [
    "test_df <- readRDS('data/walk_files/ac_nest_1.rds')\n",
    "test_df %>% glimpse()"
   ]
  },
  {
   "cell_type": "code",
   "execution_count": null,
   "id": "c36779fd-ef8a-486e-81b0-b4de25890e2f",
   "metadata": {},
   "outputs": [],
   "source": [
    "test_df %>% count(ac_nest_calls_in_72_hrs ) \n",
    "# 0\t236\n",
    "# 1\t14   v2 0 232, 1 18"
   ]
  },
  {
   "cell_type": "markdown",
   "id": "3e5dc492-c83b-4a27-b07f-541ad6557b7e",
   "metadata": {},
   "source": [
    "# IUC Calls"
   ]
  },
  {
   "cell_type": "code",
   "execution_count": null,
   "id": "03c4017e-91c1-47d4-9fbe-4b3ab1601808",
   "metadata": {},
   "outputs": [],
   "source": [
    "iuc_df <- readRDS('data/iuc_df.rds')"
   ]
  },
  {
   "cell_type": "code",
   "execution_count": null,
   "id": "1e428dcb-8ef2-4663-977f-e18c6453eaf8",
   "metadata": {},
   "outputs": [],
   "source": [
    "iuc_df %>% count() # 193526 v2 272193"
   ]
  },
  {
   "cell_type": "code",
   "execution_count": null,
   "id": "bf3e7387-8855-48c4-a50c-4a64dc7e9ead",
   "metadata": {},
   "outputs": [],
   "source": [
    "iuc_df %>% glimpse()"
   ]
  },
  {
   "cell_type": "code",
   "execution_count": null,
   "id": "66574dd5-bf25-48d3-b841-a60a61576690",
   "metadata": {
    "scrolled": true,
    "tags": []
   },
   "outputs": [],
   "source": [
    "plan(multisession, workers = no_cores)\n",
    "\n",
    "start <- Sys.time()\n",
    "future_walk2(split_ac_df, rep(1:ceiling(nr/n)), ~manage_split(.x,.y, iuc_df, \"iuc_nest\", follow_up_time = 72))\n",
    "end <- Sys.time()"
   ]
  },
  {
   "cell_type": "code",
   "execution_count": null,
   "id": "387bc597-b5cc-43c2-bf13-9e41e1aeef27",
   "metadata": {},
   "outputs": [],
   "source": [
    "end-start # 1.8 mins"
   ]
  },
  {
   "cell_type": "markdown",
   "id": "d7db268e-aeba-470e-b2f5-00c08269242a",
   "metadata": {},
   "source": [
    "# GP calls"
   ]
  },
  {
   "cell_type": "code",
   "execution_count": null,
   "id": "54457082-6a1f-4092-9c28-c6d4c31f7127",
   "metadata": {},
   "outputs": [],
   "source": [
    "gp_df <- readRDS('data/gp_df.rds')"
   ]
  },
  {
   "cell_type": "code",
   "execution_count": null,
   "id": "8722eb9b-e570-40b3-a22a-7efba7abda8a",
   "metadata": {},
   "outputs": [],
   "source": [
    "gp_df %>% glimpse()"
   ]
  },
  {
   "cell_type": "code",
   "execution_count": null,
   "id": "6c5ed137-6f8c-4b7d-9b57-eae7e62ea5f8",
   "metadata": {},
   "outputs": [],
   "source": [
    "plan(multisession, workers = no_cores)\n",
    "\n",
    "start <- Sys.time()\n",
    "future_walk2(split_ac_df, rep(1:ceiling(nr/n)), ~manage_split(.x,.y, gp_df, \"gp_nest\", follow_up_time = 72))\n",
    "end <- Sys.time()"
   ]
  },
  {
   "cell_type": "code",
   "execution_count": null,
   "id": "c4ab51de-19ec-4aba-aacb-dc3329c2f6fb",
   "metadata": {},
   "outputs": [],
   "source": [
    "end-start # 6 mins"
   ]
  },
  {
   "cell_type": "code",
   "execution_count": null,
   "id": "f577d43d-69bc-4be5-ae5e-d2b5c6c07d44",
   "metadata": {},
   "outputs": [],
   "source": [
    "readRDS('data/walk_files/gp_nest_1.rds') %>% glimpse()"
   ]
  },
  {
   "cell_type": "code",
   "execution_count": null,
   "id": "7e98b7ce-1f86-4d3b-80da-baa450a5ad6f",
   "metadata": {},
   "outputs": [],
   "source": [
    "readRDS('data/walk_files/gp_nest_1.rds') %>% count(gp_nest_calls_in_72_hrs)\n",
    "#0\t236    238\n",
    "#1\t10     9\n",
    "#2\t3      2\n",
    "#3\t1   v2 1"
   ]
  },
  {
   "cell_type": "markdown",
   "id": "73fe4dc9-d1f3-42ff-adbe-eca7d005f70e",
   "metadata": {},
   "source": [
    "# CAD"
   ]
  },
  {
   "cell_type": "code",
   "execution_count": null,
   "id": "14490f33-e7fd-4493-87ec-7c016ae4cc3d",
   "metadata": {},
   "outputs": [],
   "source": [
    "cad_df <- readRDS('data/cad_df.rds')"
   ]
  },
  {
   "cell_type": "code",
   "execution_count": null,
   "id": "6a232f73-e0e6-4418-8d13-beacad94eb39",
   "metadata": {},
   "outputs": [],
   "source": [
    "cad_df %>% glimpse()"
   ]
  },
  {
   "cell_type": "code",
   "execution_count": null,
   "id": "6c98b641-8489-4e1c-9a5a-c69b1b8e6cef",
   "metadata": {},
   "outputs": [],
   "source": [
    "plan(multisession, workers = no_cores)\n",
    "\n",
    "start <- Sys.time()\n",
    "future_walk2(split_ac_df, rep(1:ceiling(nr/n)), ~manage_split(.x,.y, cad_df, \"cad_nest\", follow_up_time = 72))\n",
    "end <- Sys.time()"
   ]
  },
  {
   "cell_type": "code",
   "execution_count": null,
   "id": "3ee6411d-3b82-4289-b86a-db16f74bf95d",
   "metadata": {},
   "outputs": [],
   "source": [
    "end-start # 1.4 mins"
   ]
  },
  {
   "cell_type": "markdown",
   "id": "ce88c254-c3a5-4fa8-bbc8-f947e790e683",
   "metadata": {},
   "source": [
    "# ED datasets"
   ]
  },
  {
   "cell_type": "code",
   "execution_count": null,
   "id": "17d413ea-255c-4317-85bf-8e373de87346",
   "metadata": {},
   "outputs": [],
   "source": [
    "hosp_ed_df <- readRDS('data/hosp_ed_df.rds')"
   ]
  },
  {
   "cell_type": "code",
   "execution_count": null,
   "id": "c5e3a363-2802-4faa-8e29-0d6ad730a2c8",
   "metadata": {
    "scrolled": true,
    "tags": []
   },
   "outputs": [],
   "source": [
    "plan(multisession, workers = no_cores)\n",
    "\n",
    "start <- Sys.time()\n",
    "future_walk2(split_ac_df, rep(1:ceiling(nr/n)), ~manage_split(.x,.y, hosp_ed_df, \"hosp_ed_nest\", follow_up_time = 72))\n",
    "end <- Sys.time()"
   ]
  },
  {
   "cell_type": "code",
   "execution_count": null,
   "id": "dd8acc61-6f01-41f7-b186-1f6a87db3c0c",
   "metadata": {},
   "outputs": [],
   "source": [
    "end-start # 1.9mins"
   ]
  },
  {
   "cell_type": "markdown",
   "id": "c62839e4-400e-4d46-872d-b34f4fdd4e3c",
   "metadata": {},
   "source": [
    "# In-patient data"
   ]
  },
  {
   "cell_type": "code",
   "execution_count": null,
   "id": "c0a90d40-dce2-4f63-8181-25ec7364ab3e",
   "metadata": {},
   "outputs": [],
   "source": [
    "hosp_ip_df <- readRDS('data/hosp_ip_df.rds')"
   ]
  },
  {
   "cell_type": "code",
   "execution_count": null,
   "id": "dcbde55b-f0bd-4db7-a437-da0867b88196",
   "metadata": {
    "scrolled": true,
    "tags": []
   },
   "outputs": [],
   "source": [
    "plan(multisession, workers = no_cores)\n",
    "\n",
    "start <- Sys.time()\n",
    "future_walk2(split_ac_df, rep(1:ceiling(nr/n)), ~manage_split(.x,.y, hosp_ip_df, \"hosp_ip_nest\", follow_up_time = 72))\n",
    "end <- Sys.time()"
   ]
  },
  {
   "cell_type": "code",
   "execution_count": null,
   "id": "1cf64d06-a10b-4281-8ded-5f10411d036d",
   "metadata": {},
   "outputs": [],
   "source": [
    "end-start #2 min"
   ]
  },
  {
   "cell_type": "markdown",
   "id": "96e314de-9972-4c5f-903b-21f564007662",
   "metadata": {},
   "source": [
    "# Combine data"
   ]
  },
  {
   "cell_type": "code",
   "execution_count": null,
   "id": "03b77a72-d1d8-4f2f-8281-72c6f909e5fc",
   "metadata": {},
   "outputs": [],
   "source": [
    "combine_rds <- function(file_path, filename) {\n",
    "  list.files(path = file_path, glue(\"^{filename}\"), full.names = T) %>%\n",
    "    map_dfr(readRDS)\n",
    "}"
   ]
  },
  {
   "cell_type": "code",
   "execution_count": null,
   "id": "a28f1a9e-3c6e-4fff-9275-6707b6ad06cf",
   "metadata": {},
   "outputs": [],
   "source": [
    "ac_nest_df <- combine_rds(\"data/walk_files\", \"ac_nest\")"
   ]
  },
  {
   "cell_type": "code",
   "execution_count": null,
   "id": "f28ecf8b-93b7-4c20-b1f8-a617e2b4c72a",
   "metadata": {},
   "outputs": [],
   "source": [
    "ac_nest_df %>% glimpse() "
   ]
  },
  {
   "cell_type": "code",
   "execution_count": null,
   "id": "d8b7798b-193c-42cb-9f28-b923b1b4403d",
   "metadata": {},
   "outputs": [],
   "source": [
    "iuc_nest_df <- combine_rds(\"data/walk_files\", \"iuc_nest\")"
   ]
  },
  {
   "cell_type": "code",
   "execution_count": null,
   "id": "489153f8-fb26-493f-b8f5-4b823cbc7661",
   "metadata": {},
   "outputs": [],
   "source": [
    "iuc_nest_df %>% glimpse()"
   ]
  },
  {
   "cell_type": "code",
   "execution_count": null,
   "id": "6048d5b6-32a3-4b7a-80eb-d80b1adb951e",
   "metadata": {},
   "outputs": [],
   "source": [
    "gp_nest_df <- combine_rds(\"data/walk_files\", \"gp_nest\")"
   ]
  },
  {
   "cell_type": "code",
   "execution_count": null,
   "id": "0086d107-cd08-41cd-bba5-88d8711c1462",
   "metadata": {},
   "outputs": [],
   "source": [
    "gp_nest_df %>% glimpse()"
   ]
  },
  {
   "cell_type": "code",
   "execution_count": null,
   "id": "f2423fe9-d8ab-4107-8f27-2696d4eb4c02",
   "metadata": {},
   "outputs": [],
   "source": [
    "cad_nest_df <- combine_rds(\"data/walk_files\", \"cad_nest\")"
   ]
  },
  {
   "cell_type": "code",
   "execution_count": null,
   "id": "9f180594-17d0-41b1-8975-9c0923899369",
   "metadata": {},
   "outputs": [],
   "source": [
    "cad_nest_df %>% glimpse()"
   ]
  },
  {
   "cell_type": "code",
   "execution_count": null,
   "id": "ac6e9de3-c061-4a98-872a-99c03111bf3b",
   "metadata": {},
   "outputs": [],
   "source": [
    "hosp_ed_nest_df <- combine_rds(\"data/walk_files\", \"hosp_ed_nest\")"
   ]
  },
  {
   "cell_type": "code",
   "execution_count": null,
   "id": "1f1e9871-976b-4c02-b8df-76f0642a628b",
   "metadata": {},
   "outputs": [],
   "source": [
    "hosp_ed_nest_df %>% glimpse()"
   ]
  },
  {
   "cell_type": "code",
   "execution_count": null,
   "id": "92c908bf-a625-4f88-962b-162b0d2f9ad0",
   "metadata": {},
   "outputs": [],
   "source": [
    "hosp_ip_nest_df <- combine_rds(\"data/walk_files\", \"hosp_ip_nest\")"
   ]
  },
  {
   "cell_type": "code",
   "execution_count": null,
   "id": "377bf35f-6da1-4e3a-92ca-c953dd7a0153",
   "metadata": {},
   "outputs": [],
   "source": [
    "hosp_ip_nest_df %>% glimpse()"
   ]
  },
  {
   "cell_type": "code",
   "execution_count": null,
   "id": "0ec1636b-ff75-4cc1-9efd-c8ace93544ec",
   "metadata": {},
   "outputs": [],
   "source": [
    "iuc_nest_df %>% glimpse()"
   ]
  },
  {
   "cell_type": "code",
   "execution_count": null,
   "id": "622125f7-5b16-48e9-acd3-18e83c4a31ea",
   "metadata": {},
   "outputs": [],
   "source": [
    "# This dataset will be the one we use to identify cases to remove for triaged 111 calls"
   ]
  },
  {
   "cell_type": "code",
   "execution_count": null,
   "id": "b664d475-55c6-47fe-8038-f8b74f29b536",
   "metadata": {},
   "outputs": [],
   "source": [
    "final_nest_df <- ac_index_df %>%\n",
    "  left_join(ac_nest_df,       by=c(\"unique_id\", \"person_id\")) %>%\n",
    "  left_join(iuc_nest_df,      by=c(\"unique_id\", \"person_id\")) %>% \n",
    "  left_join(gp_nest_df,       by=c(\"unique_id\", \"person_id\")) %>%\n",
    "  left_join(cad_nest_df,      by=c(\"unique_id\", \"person_id\")) %>%\n",
    "  left_join(hosp_ed_nest_df,  by=c(\"unique_id\", \"person_id\")) %>%\n",
    "  left_join(hosp_ip_nest_df,  by=c(\"unique_id\", \"person_id\"))"
   ]
  },
  {
   "cell_type": "code",
   "execution_count": null,
   "id": "ad6e27c8-a33e-4157-b879-c068daed6c5d",
   "metadata": {},
   "outputs": [],
   "source": [
    "final_nest_df %>% glimpse()"
   ]
  },
  {
   "cell_type": "code",
   "execution_count": null,
   "id": "de5031d3-ea44-4b2d-ad9b-c13d38f9194f",
   "metadata": {},
   "outputs": [],
   "source": [
    "# This will be the final abandoned call dataset with "
   ]
  },
  {
   "cell_type": "code",
   "execution_count": null,
   "id": "c9207b4d-e463-40ad-b196-12d7493dd540",
   "metadata": {},
   "outputs": [],
   "source": [
    "# Note: modify if follow_up_time is not 72 hours\n",
    "final_nest_df1 <- final_nest_df %>% #head() %>%\n",
    "    mutate(\n",
    "        # Flag to identify if any healthcare contact made within 72 hours\n",
    "        made_contact = if_else(rowSums(across(ends_with('in_72_hrs'))) > 0, 1, 0),\n",
    "        # Simple flag for triaged 111 call in the 72 hours prior to Ab call.\n",
    "        contacted_iuc_b4_ac = if_else(iuc_nest_calls_72_before_df > 0, 1, 0),\n",
    "        # Simple flag for abandoned call but triaged IUC call within 72 hours of ab call.\n",
    "        contacted_iuc_after_ac = if_else(iuc_nest_calls_in_72_hrs > 0, 1, 0)\n",
    "    ) %>%\n",
    "    group_by(call_id) %>%\n",
    "    mutate(\n",
    "        # Cases with multiple patients who have had a healthcare contacts associated with a single call_id\n",
    "        # cannot be included as we don't know which person actually made the contact (or the abandoned call)\n",
    "        delete_flag = case_when(\n",
    "            # Only one match\n",
    "            n() == 1 ~ 0,\n",
    "            # multiple matches allowed as long as there only one of the group has a contact recorded\n",
    "            sum(made_contact) > 1 ~ 1,\n",
    "            TRUE ~ 0\n",
    "        )\n",
    "    ) %>% ungroup()"
   ]
  },
  {
   "cell_type": "code",
   "execution_count": null,
   "id": "8e986f84-22eb-4c30-897d-28e68e2fa2bc",
   "metadata": {},
   "outputs": [],
   "source": [
    "saveRDS(final_nest_df1, 'data/final_nest_df.rds')"
   ]
  },
  {
   "cell_type": "code",
   "execution_count": null,
   "id": "667bc636-904c-411e-842f-532e0a4988ec",
   "metadata": {},
   "outputs": [],
   "source": [
    "final_nest_df1 %>% glimpse()"
   ]
  },
  {
   "cell_type": "code",
   "execution_count": null,
   "id": "0b59f1c1-e5b9-4136-9d8a-8c41df7c8357",
   "metadata": {},
   "outputs": [],
   "source": [
    "final_nest_df1 %>% count(contacted_iuc_b4_ac, contacted_iuc_after_ac)\n",
    "#A tibble: 4 × 3\n",
    "#contacted_iuc_b4_ac\tcontacted_iuc_after_ac\tn\n",
    "#<dbl>\t<dbl>\t<int>\n",
    "#0\t0\t27581\n",
    "#0\t1\t3724\n",
    "#1\t0\t1312\n",
    "#1\t1\t715\n",
    "\n",
    "# v2\n",
    "# 0\t0\t16657\n",
    "# 0\t1\t3583\n",
    "# 1\t0\t1275\n",
    "# 1\t1\t755\n"
   ]
  },
  {
   "cell_type": "code",
   "execution_count": null,
   "id": "cca11219-b7ee-4f6b-a5c1-204e4214c422",
   "metadata": {},
   "outputs": [],
   "source": [
    "final_nest_df1 %>% count(made_contact) # 0 23601, 1 9731 v2 0 14973 1 7297"
   ]
  },
  {
   "cell_type": "code",
   "execution_count": null,
   "id": "c4f4f276-a8fb-4ba6-afde-9a401bad1c1b",
   "metadata": {},
   "outputs": [],
   "source": [
    "final_nest_df1 %>% count(delete_flag) # 0 30576, 1 2756 v2 0 20995 1 1275"
   ]
  },
  {
   "cell_type": "code",
   "execution_count": null,
   "id": "d9baa70d-aebd-46de-a449-45793ff339bb",
   "metadata": {},
   "outputs": [],
   "source": [
    "final_nest_df2 <- final_nest_df1 %>%\n",
    "    # Remove all cases with the delete_flag set\n",
    "     filter(delete_flag == 0)"
   ]
  },
  {
   "cell_type": "code",
   "execution_count": null,
   "id": "29161da6-7d13-479f-9ee9-8202ee0fd5fb",
   "metadata": {},
   "outputs": [],
   "source": [
    "saveRDS(final_nest_df2, 'data/final_abandoned_call_nest_df.rds')"
   ]
  }
 ],
 "metadata": {
  "environment": {
   "kernel": "ir",
   "name": ".m112",
   "type": "gcloud",
   "uri": "gcr.io/deeplearning-platform-release/:m112"
  },
  "kernelspec": {
   "display_name": "R",
   "language": "R",
   "name": "ir"
  },
  "language_info": {
   "codemirror_mode": "r",
   "file_extension": ".r",
   "mimetype": "text/x-r-source",
   "name": "R",
   "pygments_lexer": "r",
   "version": "4.2.3"
  }
 },
 "nbformat": 4,
 "nbformat_minor": 5
}
