{
 "cells": [
  {
   "cell_type": "code",
   "execution_count": 1,
   "id": "8d8f158f-2b31-4b3c-9123-7339237a2216",
   "metadata": {},
   "outputs": [
    {
     "name": "stderr",
     "output_type": "stream",
     "text": [
      "Loading required package: ggpubr\n",
      "\n",
      "\n",
      "Attaching package: ‘survminer’\n",
      "\n",
      "\n",
      "The following object is masked from ‘package:survival’:\n",
      "\n",
      "    myeloma\n",
      "\n",
      "\n"
     ]
    }
   ],
   "source": [
    "suppressPackageStartupMessages(library(tidyverse))\n",
    "library(lubridate)\n",
    "library(glue)\n",
    "# library(bupaR)\n",
    "# library(processanimateR)\n",
    "library(survival)\n",
    "library(ggplot2)\n",
    "library(ggfortify)\n",
    "library(patchwork)\n",
    "library(ggsurvfit)\n",
    "library(survminer)\n",
    "library(gtsummary)\n",
    "suppressPackageStartupMessages(library(flextable))\n",
    "suppressPackageStartupMessages(library(Greg))"
   ]
  },
  {
   "cell_type": "code",
   "execution_count": 2,
   "id": "035f432f-f687-43b0-acbb-751ef0261dae",
   "metadata": {},
   "outputs": [],
   "source": [
    "est_ci_fn <- function(df) {\n",
    "    as.character(df %>% reframe(glue::glue(\"{round(estimate, 2)} ({round(conf.low, 2)}--{round(conf.high,2)})\")) %>% pull())\n",
    "}\n",
    "\n",
    "regression_summary <- function(grouping_number, ed_adn_type = \"non_avoid\") {\n",
    "\n",
    "    basic_avoid_df <- readRDS(glue::glue(\"output/grouping{grouping_number}_cox_basic_non_avoid.rds\"))\n",
    "    adj_avoid_df <- readRDS(glue::glue(\"output/grouping{grouping_number}_cox_adj_non_avoid.rds\"))\n",
    "    basic_all_df <- readRDS(glue::glue(\"output/grouping{grouping_number}_cox_basic_all.rds\"))\n",
    "    adj_all_df <- readRDS(glue::glue(\"output/grouping{grouping_number}_cox_adj_all.rds\"))\n",
    "    summary_df <- readRDS(glue::glue(\"output/grouping{grouping_number}_summary_df.rds\")) %>%\n",
    "        count(strata)\n",
    "    \n",
    "    # mutate(across(telex:players, ~ format(., big.mark = \",\", scientific = F)))\n",
    "    un_hr_avoid = est_ci_fn(basic_avoid_df[[2]])\n",
    "    adj_hr_avoid = est_ci_fn(adj_avoid_df[[2]][1,])\n",
    "    un_hr_all = est_ci_fn(basic_all_df[[2]])\n",
    "    adj_hr_all = est_ci_fn(adj_all_df[[2]][1,])\n",
    "\n",
    "    #print(un_hr_avoid)\n",
    "    \n",
    "    result <- tibble(\n",
    "        grouping = glue::glue(\"Grouping {grouping_number}\"),\n",
    "        abn = summary_df$n[summary_df$strata == \"ABN\"],\n",
    "        iuc = summary_df$n[summary_df$strata == \"IUC\"],\n",
    "        un_hr_avoid = un_hr_avoid,\n",
    "        adj_hr_avoid = adj_hr_avoid,\n",
    "        un_hr_all = un_hr_all,\n",
    "        adj_hr_all = adj_hr_all\n",
    "    )\n",
    "\n",
    "    result\n",
    "    \n",
    "    \n",
    "}"
   ]
  },
  {
   "cell_type": "code",
   "execution_count": 3,
   "id": "871642e8-6825-400d-875c-b688688fdd09",
   "metadata": {},
   "outputs": [],
   "source": [
    "cox_summary_tbl <- dplyr::bind_rows(\n",
    "    regression_summary(1),\n",
    "    regression_summary(2),\n",
    "    regression_summary(3)\n",
    ")"
   ]
  },
  {
   "cell_type": "code",
   "execution_count": 4,
   "id": "e6a32540-b135-4c85-a594-4cdc860acecb",
   "metadata": {},
   "outputs": [
    {
     "data": {
      "text/html": [
       "<table class=\"dataframe\">\n",
       "<caption>A tibble: 3 × 7</caption>\n",
       "<thead>\n",
       "\t<tr><th scope=col>grouping</th><th scope=col>abn</th><th scope=col>iuc</th><th scope=col>un_hr_avoid</th><th scope=col>adj_hr_avoid</th><th scope=col>un_hr_all</th><th scope=col>adj_hr_all</th></tr>\n",
       "\t<tr><th scope=col>&lt;glue&gt;</th><th scope=col>&lt;int&gt;</th><th scope=col>&lt;int&gt;</th><th scope=col>&lt;chr&gt;</th><th scope=col>&lt;chr&gt;</th><th scope=col>&lt;chr&gt;</th><th scope=col>&lt;chr&gt;</th></tr>\n",
       "</thead>\n",
       "<tbody>\n",
       "\t<tr><td>Grouping 1</td><td> 1938</td><td>172137</td><td>1.3 (1.15--1.47) </td><td>1.37 (1.21--1.55)</td><td>1.17 (1.05--1.3) </td><td>1.35 (1.22--1.5) </td></tr>\n",
       "\t<tr><td>Grouping 2</td><td>19057</td><td>168612</td><td>3.35 (3.15--3.56)</td><td>1.42 (1.33--1.5) </td><td>3.21 (3.04--3.39)</td><td>1.43 (1.35--1.51)</td></tr>\n",
       "\t<tr><td>Grouping 3</td><td>20995</td><td>168623</td><td>2.92 (2.76--3.08)</td><td>1.42 (1.34--1.5) </td><td>2.76 (2.63--2.9) </td><td>1.43 (1.36--1.5) </td></tr>\n",
       "</tbody>\n",
       "</table>\n"
      ],
      "text/latex": [
       "A tibble: 3 × 7\n",
       "\\begin{tabular}{lllllll}\n",
       " grouping & abn & iuc & un\\_hr\\_avoid & adj\\_hr\\_avoid & un\\_hr\\_all & adj\\_hr\\_all\\\\\n",
       " <glue> & <int> & <int> & <chr> & <chr> & <chr> & <chr>\\\\\n",
       "\\hline\n",
       "\t Grouping 1 &  1938 & 172137 & 1.3 (1.15--1.47)  & 1.37 (1.21--1.55) & 1.17 (1.05--1.3)  & 1.35 (1.22--1.5) \\\\\n",
       "\t Grouping 2 & 19057 & 168612 & 3.35 (3.15--3.56) & 1.42 (1.33--1.5)  & 3.21 (3.04--3.39) & 1.43 (1.35--1.51)\\\\\n",
       "\t Grouping 3 & 20995 & 168623 & 2.92 (2.76--3.08) & 1.42 (1.34--1.5)  & 2.76 (2.63--2.9)  & 1.43 (1.36--1.5) \\\\\n",
       "\\end{tabular}\n"
      ],
      "text/markdown": [
       "\n",
       "A tibble: 3 × 7\n",
       "\n",
       "| grouping &lt;glue&gt; | abn &lt;int&gt; | iuc &lt;int&gt; | un_hr_avoid &lt;chr&gt; | adj_hr_avoid &lt;chr&gt; | un_hr_all &lt;chr&gt; | adj_hr_all &lt;chr&gt; |\n",
       "|---|---|---|---|---|---|---|\n",
       "| Grouping 1 |  1938 | 172137 | 1.3 (1.15--1.47)  | 1.37 (1.21--1.55) | 1.17 (1.05--1.3)  | 1.35 (1.22--1.5)  |\n",
       "| Grouping 2 | 19057 | 168612 | 3.35 (3.15--3.56) | 1.42 (1.33--1.5)  | 3.21 (3.04--3.39) | 1.43 (1.35--1.51) |\n",
       "| Grouping 3 | 20995 | 168623 | 2.92 (2.76--3.08) | 1.42 (1.34--1.5)  | 2.76 (2.63--2.9)  | 1.43 (1.36--1.5)  |\n",
       "\n"
      ],
      "text/plain": [
       "  grouping   abn   iuc    un_hr_avoid       adj_hr_avoid      un_hr_all        \n",
       "1 Grouping 1  1938 172137 1.3 (1.15--1.47)  1.37 (1.21--1.55) 1.17 (1.05--1.3) \n",
       "2 Grouping 2 19057 168612 3.35 (3.15--3.56) 1.42 (1.33--1.5)  3.21 (3.04--3.39)\n",
       "3 Grouping 3 20995 168623 2.92 (2.76--3.08) 1.42 (1.34--1.5)  2.76 (2.63--2.9) \n",
       "  adj_hr_all       \n",
       "1 1.35 (1.22--1.5) \n",
       "2 1.43 (1.35--1.51)\n",
       "3 1.43 (1.36--1.5) "
      ]
     },
     "metadata": {},
     "output_type": "display_data"
    }
   ],
   "source": [
    "cox_summary_tbl"
   ]
  },
  {
   "cell_type": "code",
   "execution_count": 5,
   "id": "f00d58ea-e4d9-48db-b0db-6ff5db56af95",
   "metadata": {},
   "outputs": [
    {
     "data": {
      "text/plain": [
       "a flextable object.\n",
       "col_keys: `Grouping`, `Abandoned calls (N)`, `Triaged 111 calls (N)`, `Unadjusted HR (95% CI)`, `Adjusted HR (95% CI)`, `Unadjusted HR (95%CI)`, `Adjusted HR (95%CI)` \n",
       "header has 3 row(s) \n",
       "body has 3 row(s) \n",
       "original dataset sample: \n",
       "    Grouping Abandoned calls (N) Triaged 111 calls (N) Unadjusted HR (95% CI)\n",
       "1 Grouping 1                1938                172137       1.3 (1.15--1.47)\n",
       "2 Grouping 2               19057                168612      3.35 (3.15--3.56)\n",
       "3 Grouping 3               20995                168623      2.92 (2.76--3.08)\n",
       "  Adjusted HR (95% CI) Unadjusted HR (95%CI) Adjusted HR (95%CI)\n",
       "1    1.37 (1.21--1.55)      1.17 (1.05--1.3)    1.35 (1.22--1.5)\n",
       "2     1.42 (1.33--1.5)     3.21 (3.04--3.39)   1.43 (1.35--1.51)\n",
       "3     1.42 (1.34--1.5)      2.76 (2.63--2.9)    1.43 (1.36--1.5)"
      ]
     },
     "metadata": {},
     "output_type": "display_data"
    }
   ],
   "source": [
    "cst <- cox_summary_tbl %>%\n",
    "    rename(\n",
    "        Grouping = grouping,\n",
    "        `Abandoned calls (N)` = abn,\n",
    "        `Triaged 111 calls (N)` = iuc,\n",
    "        `Unadjusted HR (95% CI)` = un_hr_avoid,\n",
    "        `Adjusted HR (95% CI)` = adj_hr_avoid,\n",
    "        `Unadjusted HR (95%CI)` = un_hr_all,\n",
    "        `Adjusted HR (95%CI)` = adj_hr_all\n",
    "    ) %>%\n",
    "    as_flextable() %>%\n",
    "    add_header_row(\n",
    "      values = c(\"\", \"Non-avoidable ED attendances\", \"All ED attendances\"),\n",
    "      colwidths = c(3, 2, 2)\n",
    "    )\n",
    "\n",
    "cst"
   ]
  },
  {
   "cell_type": "code",
   "execution_count": 6,
   "id": "6f4ec2df-27fd-442f-8645-e963dbf3334c",
   "metadata": {},
   "outputs": [],
   "source": [
    "saveRDS(cst, 'output/cox_regression_flex_table.rds')"
   ]
  },
  {
   "cell_type": "code",
   "execution_count": 7,
   "id": "4f4b6d49-c899-498f-a4f4-9b170f4ce4e3",
   "metadata": {},
   "outputs": [],
   "source": [
    "cst %>%\n",
    "    save_as_docx(path = glue::glue(\"output/cox_regression_table.docx\"))"
   ]
  },
  {
   "cell_type": "code",
   "execution_count": null,
   "id": "5f992cad-809f-47f2-94a8-276745c62b53",
   "metadata": {},
   "outputs": [],
   "source": []
  }
 ],
 "metadata": {
  "environment": {
   "kernel": "ir",
   "name": ".m112",
   "type": "gcloud",
   "uri": "gcr.io/deeplearning-platform-release/:m112"
  },
  "kernelspec": {
   "display_name": "R",
   "language": "R",
   "name": "ir"
  },
  "language_info": {
   "codemirror_mode": "r",
   "file_extension": ".r",
   "mimetype": "text/x-r-source",
   "name": "R",
   "pygments_lexer": "r",
   "version": "4.2.3"
  }
 },
 "nbformat": 4,
 "nbformat_minor": 5
}
