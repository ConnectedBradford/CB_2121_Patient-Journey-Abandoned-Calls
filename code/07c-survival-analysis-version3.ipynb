{
 "cells": [
  {
   "cell_type": "markdown",
   "id": "565c2366-4c08-47e3-900c-2b5cc5ee62af",
   "metadata": {},
   "source": [
    "# Version 3 survival analysis\n",
    "\n",
    "Final prep of final models"
   ]
  },
  {
   "cell_type": "code",
   "execution_count": null,
   "id": "2a79e085-1889-4c19-8350-04b988d08b50",
   "metadata": {},
   "outputs": [],
   "source": [
    "suppressPackageStartupMessages(library(tidyverse))\n",
    "library(lubridate)\n",
    "library(glue)\n",
    "# library(bupaR)\n",
    "# library(processanimateR)\n",
    "library(survival)\n",
    "library(ggplot2)\n",
    "library(ggfortify)\n",
    "library(patchwork)\n",
    "library(ggsurvfit)\n",
    "library(survminer)\n",
    "library(gtsummary)\n",
    "suppressPackageStartupMessages(library(flextable))\n",
    "suppressPackageStartupMessages(library(Greg))"
   ]
  },
  {
   "cell_type": "code",
   "execution_count": null,
   "id": "10a4553e-029f-4878-b830-896b6c9641c2",
   "metadata": {},
   "outputs": [],
   "source": [
    "follow_up_time = 72\n",
    "\n",
    "grouping_number = 3\n",
    "\n",
    "follow_up_time_str = \"\"\n",
    "if(follow_up_time != 72) {\n",
    " follow_up_time_str <- glue::glue(\"_{follow_up_time}\")   \n",
    "}\n",
    "\n",
    "options(repr.plot.width=14, repr.plot.height=6)"
   ]
  },
  {
   "cell_type": "markdown",
   "id": "bbf42792-9f7a-4303-b612-07a9797a141d",
   "metadata": {},
   "source": [
    "## Groups\n",
    "\n",
    "+ Group 1: Abandoned calls with previous 111 triage\n",
    "+ Group 2: Abandoned calls with no previous 111 triage\n",
    "+ Group 3: All abandoned calls irrespective of previous 111 triage"
   ]
  },
  {
   "cell_type": "code",
   "execution_count": null,
   "id": "96b5d9ac-34cd-463a-b976-ebccbaadf514",
   "metadata": {},
   "outputs": [],
   "source": [
    " grouping1_df <- readRDS(glue::glue('data/grouping1_survival_df{follow_up_time_str}.rds'))\n",
    " grouping2_df <- readRDS(glue::glue('data/grouping2_survival_df{follow_up_time_str}.rds'))\n",
    " grouping3_df <- readRDS(glue::glue('data/grouping3_survival_df{follow_up_time_str}.rds'))"
   ]
  },
  {
   "cell_type": "code",
   "execution_count": null,
   "id": "6c7c4f6b-bb1b-49aa-8fe1-7da75257a89e",
   "metadata": {},
   "outputs": [],
   "source": [
    "imd_ethnicity_fn <- function(df) {\n",
    " df %>%\n",
    "    mutate(\n",
    "        person_id = bit64::as.integer.integer64(person_id),\n",
    "        imd_quintile = as.factor(case_when(\n",
    "            bit64::as.integer.integer64(imd_decile) %in% c(1, 2) ~ 1,\n",
    "            bit64::as.integer.integer64(imd_decile) %in% c(3, 4) ~ 2,\n",
    "            bit64::as.integer.integer64(imd_decile) %in% c(5, 6) ~ 3,\n",
    "            bit64::as.integer.integer64(imd_decile) %in% c(7, 8) ~ 4,\n",
    "            bit64::as.integer.integer64(imd_decile) %in% c(9, 10) ~ 5,\n",
    "            TRUE ~ NA_integer_\n",
    "        )),\n",
    "        # Small number of cases where birthdate calculation results in age being -1\n",
    "        age = case_when(\n",
    "            age < 0 ~ 0.0,\n",
    "            age > 107 ~ NA_real_,\n",
    "            TRUE ~ as.numeric(as.character(age))\n",
    "        ),\n",
    "        age_cat = case_when(\n",
    "            between(age, 18, 64) ~ \"18-64\",\n",
    "            age > 64 ~ \"over 65\"\n",
    "        ),\n",
    "        ethnicity_simple = fct_relevel(as.factor(str_extract(ethnicity_source_value, \"[^:]+\")), 'White'),\n",
    "        gp_visit_non_avoid = as.factor(if_else(!is.na(num_GP_contacts_to_ED_non_avoid_attend), \"gp_visit\", \"no_gp_visit\")),\n",
    "        gp_visit = as.factor(if_else(!is.na(num_GP_contacts_to_ED_attend), \"gp_visit\", \"no_gp_visit\")),\n",
    "    ) %>% filter(!is.na(age))\n",
    "}"
   ]
  },
  {
   "cell_type": "code",
   "execution_count": null,
   "id": "1d49b871-b19f-412c-92b5-b9c0c7aec896",
   "metadata": {},
   "outputs": [],
   "source": [
    "grouping1a_df <- imd_ethnicity_fn(grouping1_df)\n",
    "grouping2a_df <- imd_ethnicity_fn(grouping2_df)\n",
    "grouping3a_df <- imd_ethnicity_fn(grouping3_df)"
   ]
  },
  {
   "cell_type": "code",
   "execution_count": null,
   "id": "f8376a60-ccc2-4265-aff4-16aac9d1591d",
   "metadata": {},
   "outputs": [],
   "source": [
    "grouping1a_df %>% glimpse()"
   ]
  },
  {
   "cell_type": "code",
   "execution_count": null,
   "id": "44dbd44b-c778-4621-a683-f2defaeb5316",
   "metadata": {},
   "outputs": [],
   "source": [
    "grouping1a_df %>% count(is.na(age))"
   ]
  },
  {
   "cell_type": "markdown",
   "id": "b90631ff-c922-4793-a867-eed6bd039fd8",
   "metadata": {},
   "source": [
    "### KM plots"
   ]
  },
  {
   "cell_type": "code",
   "execution_count": null,
   "id": "70a7a02f-664e-4676-a2eb-b22abb661e4c",
   "metadata": {},
   "outputs": [],
   "source": [
    "km_plot_fn <- function(df, miny = 0, maxy = 0.99, grouping_num = 1, legend_pos = 'LOW', follow_up_time = 72) {\n",
    "    \n",
    "    legend_pos_y = 0.25\n",
    "    if(legend_pos != 'LOW') {\n",
    "        legend_pos_y = 0.75\n",
    "    }\n",
    "    \n",
    "    follow_up_time_str = \"\"\n",
    "    if(follow_up_time != 72) {\n",
    "     follow_up_time_str <- glue::glue(\"_{follow_up_time}\")   \n",
    "    }\n",
    "     \n",
    "    non_avoid_model <- coxph(Surv(fu_time_non_avoid, status_non_avoid) ~ cohort, data = df)\n",
    "    non_avoid_zph <- cox.zph(non_avoid_model)\n",
    "    \n",
    "    km_non_avoid_fit <- survfit2(Surv(fu_time_non_avoid, status_non_avoid) ~ cohort, data = df)\n",
    "    km_surv_non_avoid_diff <- survdiff(Surv(fu_time_non_avoid, status_non_avoid) ~ cohort, data = df)\n",
    "    \n",
    "    non_avoid_plot <- km_non_avoid_fit %>% \n",
    "      ggsurvfit() +\n",
    "      labs(\n",
    "        title = \"Non-avoidable ED attendances\",\n",
    "        x = \"Hours\",\n",
    "        y = \"Overall probability of not attending ED for a non-avoidance attendance\"\n",
    "        ) + \n",
    "      scale_y_continuous(limits = c(miny, maxy), label = scales::label_percent()) +\n",
    "      scale_x_continuous(limits = c(0, follow_up_time), label = seq(0, follow_up_time, 12), breaks = seq(0, follow_up_time, 12)) +\n",
    "      add_confidence_interval() +\n",
    "      #add_risktable() +\n",
    "      theme(legend.position.inside = c(0.85, legend_pos_y)) \n",
    "    \n",
    "    all_model <- coxph(Surv(fu_time, status) ~ cohort, data = df)\n",
    "    all_zph <- cox.zph(all_model)\n",
    "    \n",
    "    km_fit <- survfit2(Surv(fu_time, status) ~ cohort, data = df)\n",
    "    km_surv_diff <- survdiff(Surv(fu_time, status) ~ cohort, data = df)\n",
    "    \n",
    "    all_plot <- km_fit %>% \n",
    "      ggsurvfit() +\n",
    "      labs(\n",
    "        title = \"All ED attendances\",\n",
    "        x = \"Hours\",\n",
    "        y = \"Overall probability of not attending ED\"\n",
    "        ) + \n",
    "      scale_y_continuous(limits = c(miny, maxy), label = scales::label_percent()) +\n",
    "      scale_x_continuous(limits = c(0, follow_up_time), label = seq(0, follow_up_time, 12), breaks = seq(0, follow_up_time, 12)) +\n",
    "      add_confidence_interval() +\n",
    "      #add_risktable() +\n",
    "      theme(legend.position.inside = c(0.85, legend_pos_y)) \n",
    "    \n",
    "    #options(repr.plot.width=20, repr.plot.height=8)\n",
    "    build_non_avoid_plot <- ggsurvfit_build(non_avoid_plot) \n",
    "    build_all_plot <- ggsurvfit_build(all_plot) \n",
    "    \n",
    "    pdf(glue::glue(\"output/log_log_plots_grouping{grouping_num}{follow_up_time_str}.pdf\"),width=12)\n",
    "    par(mfrow=c(1,2))\n",
    "    plot(km_non_avoid_fit, fun=\"cloglog\")\n",
    "    plot(km_fit, fun=\"cloglog\")\n",
    "    dev.off()\n",
    "    \n",
    "    \n",
    "    final_plot <- patchwork::wrap_plots(wrap_elements(build_non_avoid_plot), wrap_elements(build_all_plot), ncol = 2)\n",
    "    #plot_annotation(title = glue::glue(\"Kaplan-Myer plots for Cohort {cohort_num}\"))\n",
    "    ggsave(plot = final_plot, file = glue::glue(\"output/km_plots_grouping{grouping_num}{follow_up_time_str}.pdf\"), width = 12)\n",
    "    \n",
    "    return(list(final_plot, km_surv_non_avoid_diff, km_surv_diff, non_avoid_model, all_model, non_avoid_zph, all_zph))\n",
    "    \n",
    "}"
   ]
  },
  {
   "cell_type": "markdown",
   "id": "96a10119-1a6a-4f7d-9bb3-0ff47c61fa50",
   "metadata": {},
   "source": [
    "## Grouping 1"
   ]
  },
  {
   "cell_type": "code",
   "execution_count": null,
   "id": "0da4bee2-667c-4fcc-986d-3bf6c5640a9d",
   "metadata": {},
   "outputs": [],
   "source": [
    "grouping1_km <- km_plot_fn(grouping1a_df, 0, 0.99, 1, follow_up_time = 72)"
   ]
  },
  {
   "cell_type": "code",
   "execution_count": null,
   "id": "6ecbded7-f777-479a-a9d5-0750b098275b",
   "metadata": {},
   "outputs": [],
   "source": [
    "grouping1_km[[1]]"
   ]
  },
  {
   "cell_type": "code",
   "execution_count": null,
   "id": "ea1e8c46-aa05-45f5-bce1-4b18fbf790fd",
   "metadata": {},
   "outputs": [],
   "source": [
    "# Avoid ED\n",
    "grouping1_km[[2]]\n",
    "# All ED\n",
    "grouping1_km[[3]]"
   ]
  },
  {
   "cell_type": "code",
   "execution_count": null,
   "id": "dcd01f38-e97c-420b-b102-fdacdaef9a7b",
   "metadata": {},
   "outputs": [],
   "source": [
    "# Avoid ED\n",
    "grouping1_km[[4]]\n",
    "# All ED\n",
    "grouping1_km[[5]]"
   ]
  },
  {
   "cell_type": "code",
   "execution_count": null,
   "id": "15d6c3f3-4241-4b78-96f9-d9b5d04b4f84",
   "metadata": {},
   "outputs": [],
   "source": [
    "# Avoid ED\n",
    "grouping1_km[[6]]\n",
    "# All ED\n",
    "grouping1_km[[7]]"
   ]
  },
  {
   "cell_type": "markdown",
   "id": "01d2bfc7-ddcd-44e3-874b-5dd294320169",
   "metadata": {},
   "source": [
    "## Grouping 2"
   ]
  },
  {
   "cell_type": "code",
   "execution_count": null,
   "id": "78a9312d-f765-42d0-b3e0-7281842efcef",
   "metadata": {},
   "outputs": [],
   "source": [
    "grouping2_km <- km_plot_fn(grouping2a_df, 0, 0.99, 2, follow_up_time = 72)"
   ]
  },
  {
   "cell_type": "code",
   "execution_count": null,
   "id": "7591fa90-e4ca-48c0-a6fb-93199429e59d",
   "metadata": {},
   "outputs": [],
   "source": [
    "grouping2_km[[1]]"
   ]
  },
  {
   "cell_type": "code",
   "execution_count": null,
   "id": "cec0daf9-b887-4bcc-ab91-23db471377e9",
   "metadata": {},
   "outputs": [],
   "source": [
    "# Avoid ED\n",
    "grouping2_km[[2]]\n",
    "# All ED\n",
    "grouping2_km[[3]]"
   ]
  },
  {
   "cell_type": "code",
   "execution_count": null,
   "id": "2cda23cc-5646-47c6-ae1c-0b54f6795e12",
   "metadata": {},
   "outputs": [],
   "source": [
    "# Avoid ED\n",
    "grouping2_km[[6]]\n",
    "# All E\n",
    "grouping2_km[[7]]"
   ]
  },
  {
   "cell_type": "markdown",
   "id": "7ab57bce-cfce-40c1-82aa-126e0242584d",
   "metadata": {},
   "source": [
    "## Grouping 3"
   ]
  },
  {
   "cell_type": "code",
   "execution_count": null,
   "id": "6ad92954-5120-4c82-85e9-0ede7da5e18e",
   "metadata": {},
   "outputs": [],
   "source": [
    "grouping3_km <- km_plot_fn(grouping3a_df, 0, 0.99, 3)"
   ]
  },
  {
   "cell_type": "code",
   "execution_count": null,
   "id": "1e4417eb-8189-4444-b9dc-06724c24c918",
   "metadata": {},
   "outputs": [],
   "source": [
    "# Avoid ED\n",
    "grouping3_km[[2]]\n",
    "# All ED\n",
    "grouping3_km[[3]]"
   ]
  },
  {
   "cell_type": "markdown",
   "id": "e304be64-ad2e-4a66-8d06-f586987620cc",
   "metadata": {},
   "source": [
    "# Cox regression\n",
    "ED admission ignore avoidable/non-avoidable"
   ]
  },
  {
   "cell_type": "code",
   "execution_count": null,
   "id": "d776caee-e131-4962-9353-ae713bfbad93",
   "metadata": {},
   "outputs": [],
   "source": [
    "grouping1a_df %>% glimpse()"
   ]
  },
  {
   "cell_type": "code",
   "execution_count": null,
   "id": "39f097df-ec08-4d4b-ad02-d2ef8332dc8c",
   "metadata": {},
   "outputs": [],
   "source": [
    "exponentiate <- function(data, col = \"estimate\") {\n",
    "  data <- data %>% mutate(across(all_of(col), exp))\n",
    "  \n",
    "  if (\"conf.low\" %in% colnames(data)) {\n",
    "    data <- data %>% mutate(across(c(conf.low, conf.high), exp))\n",
    "  }\n",
    "  \n",
    "  data\n",
    "}\n",
    "\n",
    "tidy_coxme <- function(x, exponentiate = FALSE, conf.int = TRUE, conf.level = 0.95, ...){\n",
    "  s <- summary(x)\n",
    "  co <- stats::coef(s)\n",
    "  se <- sqrt(diag(vcov(x)))\n",
    "  z <- qnorm((1 + conf.level)/2, 0, 1)\n",
    "  ret <- tibble(\n",
    "    \"term\"      = names(co),\n",
    "    \"estimate\"  = co,\n",
    "    \"std.error\" = se,\n",
    "    \"statistic\" = co/se,\n",
    "    \"p.value\"   = 1 - pchisq((co/se)^2, 1),\n",
    "    \"conf.low\"  =  co - z * se,\n",
    "    \"conf.high\" =  co + z * se\n",
    "  )\n",
    "  \n",
    "  if(!conf.int) {\n",
    "    ret <- ret %>% select(-starts_with('conf'))\n",
    "  }\n",
    "  \n",
    "  if (exponentiate) {\n",
    "    ret <- exponentiate(ret)\n",
    "  }\n",
    "  ret\n",
    "}"
   ]
  },
  {
   "cell_type": "code",
   "execution_count": null,
   "id": "e5a183ce-6725-4a94-bb3e-2bb8d32c4415",
   "metadata": {},
   "outputs": [],
   "source": [
    "cox_fn <- function(\n",
    "    df, \n",
    "    grouping = 1, \n",
    "    non_avoid = FALSE, \n",
    "    basic = FALSE, \n",
    "    follow_up_time = 72\n",
    ") {\n",
    " \n",
    "    cox_df <- df %>%\n",
    "        filter(!is.na(age) & age >= 18) %>% # 5 rows with no age in this dataset\n",
    "        transmute(\n",
    "            person_id,\n",
    "            fu_time_non_avoid,\n",
    "            fu_time,\n",
    "            status_non_avoid,\n",
    "            status,\n",
    "            cohort,\n",
    "            age,\n",
    "            sex,\n",
    "            gp_visit_non_avoid,\n",
    "            gp_visit,\n",
    "            imd_quintile,\n",
    "            ethnicity_simple,\n",
    "            ooh\n",
    "        ) %>% na.omit()\n",
    "    \n",
    "    if(follow_up_time != 72) {\n",
    "     if(non_avoid) {\n",
    "         cox_df <- cox_df %>% filter(fu_time_non_avoid <= follow_up_time)\n",
    "        } else {\n",
    "         cox_df <- cox_df %>% filter(fu_time <= follow_up_time)\n",
    "        }\n",
    "    }\n",
    "    \n",
    "    status_str = \"status\"\n",
    "    fu_time_str = \"fu_time\"\n",
    "    gp_visit_str = \"gp_visit\"\n",
    "    \n",
    "    if(non_avoid == TRUE) {\n",
    "        status_str = \"status_non_avoid\"\n",
    "        fu_time_str = \"fu_time_non_avoid\"\n",
    "        gp_visit_str = \"gp_visit_non_avoid\"\n",
    "    }\n",
    "    \n",
    "    spl_mod_df <- cox_df %>%\n",
    "      timeSplitter(by = 1,\n",
    "                   event_var = status_str,\n",
    "                   time_var = fu_time_str\n",
    "      ) %>%\n",
    "        mutate(\n",
    "            # Some suggestion by the internet that t=0 might cause problems\n",
    "            Start_time = if_else(Start_time == 0, 0.5, Start_time)\n",
    "        )\n",
    "        \n",
    "    if(basic == FALSE) {\n",
    "        cox_formula = glue::glue(\"Surv(Start_time, Stop_time, {status_str}) ~ cohort + age + sex + imd_quintile + ethnicity_simple + strata(ooh) + {gp_visit_str}\")\n",
    "        cox <- coxph(as.formula(cox_formula), data = spl_mod_df, cluster = person_id)\n",
    "    } else {\n",
    "        cox_formula = glue::glue(\"Surv({fu_time_str}, {status_str}) ~ cohort\")\n",
    "        cox <- coxph(as.formula(cox_formula), data = cox_df)\n",
    "    }\n",
    "    print(glue::glue(\"Formula will be: {cox_formula}\"))\n",
    "\n",
    "\n",
    "    final_df <- broom::tidy(cox, exponentiate = TRUE, conf.int = TRUE) %>% \n",
    "        select(-statistic, -std.error) %>% \n",
    "        mutate(\n",
    "            across(where(is.numeric), ~round(.x, 3))\n",
    "        ) %>%\n",
    "        select(term, estimate, conf.low, conf.high, p.value)   \n",
    "\n",
    "      return(list(cox, final_df))\n",
    "    \n",
    "}"
   ]
  },
  {
   "cell_type": "markdown",
   "id": "c6dc42c2-975e-496a-ad31-26999f8c1e59",
   "metadata": {},
   "source": [
    "## Refactored Cox regression code"
   ]
  },
  {
   "cell_type": "code",
   "execution_count": null,
   "id": "2387b535-47bb-435a-8d05-9e44946ffe80",
   "metadata": {},
   "outputs": [],
   "source": [
    "process_group <- function(x) {\n",
    "    print(glue::glue(\"** Processing group {x} **\"))\n",
    "    # Note addition of 'a'\n",
    "    df <- glue::glue(\"grouping{x}a_df\")\n",
    "    print(glue::glue(\"Grouping df has {nrow(get(df))} rows\"))\n",
    "    \n",
    "    print('Processing basic models')\n",
    "    \n",
    "    cox_basic_non_avoid <- cox_fn(get(df), x, non_avoid = TRUE, basic = TRUE)\n",
    "    saveRDS(cox_basic_non_avoid, glue::glue(\"output/grouping{x}_cox_basic_non_avoid.rds\"))\n",
    "    \n",
    "    cox_basic_all <- cox_fn(get(df), x, non_avoid = FALSE, basic = TRUE)\n",
    "    saveRDS(cox_basic_all, glue::glue(\"output/grouping{x}_cox_basic_all.rds\"))\n",
    "    \n",
    "    print('Processing adjusted models')\n",
    "    \n",
    "    cox_adj_non_avoid <- cox_fn(get(df), x, non_avoid = TRUE, basic = FALSE)\n",
    "    saveRDS(cox_adj_non_avoid, glue::glue(\"output/grouping{x}_cox_adj_non_avoid.rds\"))\n",
    "    \n",
    "    cox_adj_all <- cox_fn(get(df), x, non_avoid = FALSE, basic = FALSE)\n",
    "    saveRDS(cox_adj_all, glue::glue(\"output/grouping{x}_cox_adj_all.rds\"))\n",
    "    \n",
    "    \n",
    "    \n",
    "}"
   ]
  },
  {
   "cell_type": "code",
   "execution_count": null,
   "id": "254e1495-6935-4dcb-b04e-280c06882f10",
   "metadata": {},
   "outputs": [],
   "source": [
    "# Run R script instead of the notebook\n",
    "#process_group(grouping_number)"
   ]
  }
 ],
 "metadata": {
  "environment": {
   "kernel": "ir",
   "name": ".m112",
   "type": "gcloud",
   "uri": "gcr.io/deeplearning-platform-release/:m112"
  },
  "kernelspec": {
   "display_name": "R",
   "language": "R",
   "name": "ir"
  },
  "language_info": {
   "codemirror_mode": "r",
   "file_extension": ".r",
   "mimetype": "text/x-r-source",
   "name": "R",
   "pygments_lexer": "r",
   "version": "4.2.3"
  }
 },
 "nbformat": 4,
 "nbformat_minor": 5
}
