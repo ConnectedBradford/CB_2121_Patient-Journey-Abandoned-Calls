{
 "cells": [
  {
   "cell_type": "code",
   "execution_count": null,
   "id": "5e7fd109-e356-41ab-938c-870a5324cc4a",
   "metadata": {},
   "outputs": [],
   "source": [
    "suppressPackageStartupMessages(library(tidyverse))\n",
    "library(lubridate)\n",
    "library(glue)\n",
    "library(furrr)"
   ]
  },
  {
   "cell_type": "code",
   "execution_count": null,
   "id": "faa655e3-e093-4bd9-bd48-0230ad0a9742",
   "metadata": {},
   "outputs": [],
   "source": [
    "no_cores <- availableCores() - 1\n",
    "no_cores"
   ]
  },
  {
   "cell_type": "markdown",
   "id": "e34246bb-b259-4682-88d7-f7941fa9cbb3",
   "metadata": {},
   "source": [
    "## Cohort number\n",
    "This is re-factored code. Enter the cohort number below"
   ]
  },
  {
   "cell_type": "code",
   "execution_count": null,
   "id": "c21bbada-08f7-42d6-944a-351edf7a9620",
   "metadata": {},
   "outputs": [],
   "source": [
    "grouping_number = 3 # This notebook will need to be run 3 times, adjusting the grouping to 1, 2 or 3 (which includes 4)\n",
    "\n",
    "follow_up_time = 72\n",
    "follow_up_time_str = \"\"\n",
    "if(follow_up_time != 72) {\n",
    " follow_up_time_str <- glue::glue(\"_{follow_up_time}\")   \n",
    "}"
   ]
  },
  {
   "cell_type": "code",
   "execution_count": null,
   "id": "8746a1ca-24ea-49d5-b069-25639803935f",
   "metadata": {},
   "outputs": [],
   "source": [
    "# Delete walk_files directory content\n",
    "unlink('data/walk_files/*')"
   ]
  },
  {
   "cell_type": "markdown",
   "id": "3dab1f98-b91a-4c97-8f6c-58fdcaa3068f",
   "metadata": {},
   "source": [
    "# Helper functions"
   ]
  },
  {
   "cell_type": "code",
   "execution_count": null,
   "id": "9d8440fd-bb00-4a66-9036-ec27798987f1",
   "metadata": {},
   "outputs": [],
   "source": [
    "date_diff_fn <- function(df, p_id, endtime, follow_up_time = 72) {\n",
    "  # endtime = 111 consultation finish time (or start time in sensitivity analysis)\n",
    "  # start = start of 999/GP call etc.\n",
    "\n",
    "  df1 <- df %>%\n",
    "    dplyr::filter(person_id == p_id) %>%\n",
    "    mutate(\n",
    "      # time1 - time2 or difftime(time1, time2)\n",
    "      call_time_diff = difftime(start, endtime, units = \"hours\")\n",
    "    ) #%>% #select(visit_111_call_time_diff)\n",
    "    # Remove values with no datetimes recorded and \n",
    "    # only return cases which occured within follow_up_time of the call.\n",
    "    \n",
    "    #message('df1')\n",
    "    #df1 %>% glimpse()\n",
    "    \n",
    "    df2 <- df1 %>% filter(!is.na(call_time_diff) & (call_time_diff >= 0 & call_time_diff <= follow_up_time))\n",
    "    #message('df2')\n",
    "    #df2 %>% glimpse()\n",
    "    #df2 %>% glimpse()\n",
    "\n",
    "    return (list(df2))\n",
    "    \n",
    "}\n",
    "\n",
    "\n",
    "calc_min_callback <- function(df) {\n",
    "  df %>%\n",
    "    pull(call_time_diff) %>%\n",
    "    min(na.rm = T)\n",
    "}\n",
    "\n",
    "manage_split <- function(df, iter, df2, filename, uniq_id_to_remove, follow_up_time = 72) { # default is end of 111 call\n",
    "  #message(glue::glue(\"Processing {filename}\"))\n",
    "  var1 = glue(\"{filename}_visit_{follow_up_time}_df\")\n",
    "        \n",
    "  #df %>% glimpse()\n",
    "  min_date = min(df$start)\n",
    "  max_date = max(df$end)\n",
    "  #message(glue(\"Min date is {min_date} and max date is {max_date}\"))\n",
    "    \n",
    "  df3 <- df2 %>%\n",
    "    anti_join(uniq_id_to_remove, by=\"unique_id\") %>% \n",
    "    filter(\n",
    "        start >= min_date,\n",
    "        end <= max_date + hours(follow_up_time)\n",
    "    )\n",
    "    \n",
    "    df3 %>% glimpse()\n",
    "    \n",
    "  #message(glue::glue(\"df3 contains {nrow(df3)} incidents where min_date is {min_date} and max_date is {max_date + hours(72)}\"))\n",
    "  #message(\"----------------\")\n",
    "    \n",
    "  #df %>% head(1) %>% glimpse()\n",
    "  \n",
    "  df1 <- df %>% \n",
    "   rowwise() %>%\n",
    "    mutate(\n",
    "      \"{filename}_visit_{follow_up_time}_df\" := date_diff_fn(df3, person_id, end), # change end to start \n",
    "      \"{filename}_calls_in_{follow_up_time}_hrs\" := nrow((!!sym(var1))[0])\n",
    "    ) %>% \n",
    "    select(unique_id, person_id, starts_with(filename))\n",
    "    \n",
    "   saveRDS(df1, paste0('data/walk_files/', filename, '_', iter, '.rds'))\n",
    "}"
   ]
  },
  {
   "cell_type": "markdown",
   "id": "e677004b-d4da-4040-9394-20250909dded",
   "metadata": {},
   "source": [
    "# Abandoned calls"
   ]
  },
  {
   "cell_type": "code",
   "execution_count": null,
   "id": "5077105c-c0b9-4f79-8cbd-16b4350d47e5",
   "metadata": {},
   "outputs": [],
   "source": [
    "ab_df <- readRDS(glue::glue(\"data/final_abandoned_call_nest_df{follow_up_time_str}.rds\"))\n",
    "ab_df %>% glimpse()"
   ]
  },
  {
   "cell_type": "markdown",
   "id": "3ed83d6b-7d29-4000-89ee-ff9a0e70de33",
   "metadata": {},
   "source": [
    "# Final nested dataframe\n",
    "fina_nest_df includes abandoned calls where more than 1 person is associated with the call (about 2,753 out of 30,579, 9%)"
   ]
  },
  {
   "cell_type": "code",
   "execution_count": null,
   "id": "4cf8c924-7c09-48bc-bf1a-9d9409860b31",
   "metadata": {},
   "outputs": [],
   "source": [
    "final_nest_df <- readRDS(glue::glue(\"data/final_nest_df{follow_up_time_str}.rds\"))"
   ]
  },
  {
   "cell_type": "code",
   "execution_count": null,
   "id": "ef229922-8000-42b2-aa4c-ca30a66cd7c0",
   "metadata": {},
   "outputs": [],
   "source": [
    "final_nest_df %>% glimpse()"
   ]
  },
  {
   "cell_type": "code",
   "execution_count": null,
   "id": "136cfb22-f9ac-43c5-8468-5b91774414c5",
   "metadata": {},
   "outputs": [],
   "source": [
    "final_nest_df %>% count(delete_flag) # 0 30579 1 2753 v2 0 30450 1 2882"
   ]
  },
  {
   "cell_type": "code",
   "execution_count": null,
   "id": "18a35b10-c286-4a49-96f6-05e4f2187bc0",
   "metadata": {},
   "outputs": [],
   "source": [
    "final_nest_df1 <- final_nest_df %>%\n",
    "    filter(made_contact == 1)"
   ]
  },
  {
   "cell_type": "code",
   "execution_count": null,
   "id": "8fedf6e1-c943-4526-aa25-5ae5fa9b73ae",
   "metadata": {},
   "outputs": [],
   "source": [
    "final_nest_df1 %>% count() # 9722 v2 10567"
   ]
  },
  {
   "cell_type": "code",
   "execution_count": null,
   "id": "83cd92bf-0bc1-4869-8237-1be42cad701c",
   "metadata": {},
   "outputs": [],
   "source": [
    "process_nest <- function(nest_df_name, df) {\n",
    "    print(glue::glue(\"Processing {nest_df_name}\"))\n",
    "    df %>%\n",
    "        select(!!nest_df_name) %>%\n",
    "        unnest(!!nest_df_name) %>%\n",
    "        distinct(unique_id) #%>% \n",
    "        #pull()\n",
    "}"
   ]
  },
  {
   "cell_type": "markdown",
   "id": "65163faa-9efd-4a91-94af-6509ba15a96f",
   "metadata": {},
   "source": [
    "# Cohort data "
   ]
  },
  {
   "cell_type": "code",
   "execution_count": null,
   "id": "1fd86a48-a1a4-4d50-91d9-7805d1bfb241",
   "metadata": {},
   "outputs": [],
   "source": [
    "# Note use of final_nest_df and not final_nest_df1 since we are looking backwards\n",
    "if(grouping_number == 1) {\n",
    "    print('Grouping 1: Abandoned calls with previous 111 triage')\n",
    "    group_df <- final_nest_df %>%\n",
    "        filter(contacted_iuc_b4_ac == 1)\n",
    "} else if(grouping_number == 2) {\n",
    "    print('Grouping 2: Abandoned calls with no previous 111 triage')\n",
    "    group_df <- final_nest_df %>%\n",
    "        filter(contacted_iuc_b4_ac == 0)\n",
    "} else {\n",
    "     print('Grouping 3: All abandoned calls irrespective of previous 111 triage')   \n",
    "    group_df <- final_nest_df \n",
    "}\n"
   ]
  },
  {
   "cell_type": "code",
   "execution_count": null,
   "id": "82f262d6-faad-4d4e-88c4-d3782bd3afe6",
   "metadata": {},
   "outputs": [],
   "source": [
    "group_df %>% count() # Grouping 1: 2027 Grouping 2: 31305 Grouping 3: 33332 v2 Grouping 1: 2823 Grouping 2: 30509 Grouping 3: 33332"
   ]
  },
  {
   "cell_type": "code",
   "execution_count": null,
   "id": "c423bf08-af70-43d7-8295-7532007d0383",
   "metadata": {},
   "outputs": [],
   "source": [
    "group_unique_id_GP_df <- process_nest(glue::glue(\"gp_nest_visit_{follow_up_time}_df\"), group_df)\n",
    "saveRDS(group_unique_id_GP_df, glue::glue(\"data/grouping{grouping_number}_unique_id_GP_df.rds\"))"
   ]
  },
  {
   "cell_type": "code",
   "execution_count": null,
   "id": "6d012b79-1b46-4829-a2b9-93b0fb604087",
   "metadata": {},
   "outputs": [],
   "source": [
    "group_unique_id_GP_df %>% count() # Cohort 1: 852 Cohort 2: 4260 Cohort 3: 5112 v2 Grouping 1: 1123  GRouping 2: 3989 Grouping 3 5112"
   ]
  },
  {
   "cell_type": "code",
   "execution_count": null,
   "id": "1c26c114-c4ae-4cb1-a624-65b8ffd60dd8",
   "metadata": {},
   "outputs": [],
   "source": [
    "group_unique_id_IUC_df <- process_nest(glue::glue(\"iuc_nest_visit_{follow_up_time}_df\"), group_df)\n",
    "saveRDS(group_unique_id_IUC_df, glue::glue(\"data/grouping{grouping_number}_unique_id_IUC_df.rds\"))"
   ]
  },
  {
   "cell_type": "code",
   "execution_count": null,
   "id": "1559ebbe-bccf-46c8-a3a5-5c5c2473c855",
   "metadata": {},
   "outputs": [],
   "source": [
    "group_unique_id_CAD_df <- process_nest(glue::glue(\"cad_nest_visit_{follow_up_time}_df\"), group_df)\n",
    "saveRDS(group_unique_id_CAD_df, glue::glue(\"data/grouping{grouping_number}_unique_id_CAD_df.rds\"))"
   ]
  },
  {
   "cell_type": "code",
   "execution_count": null,
   "id": "e06b02fe-de99-4609-9fcb-a7d1245fbb16",
   "metadata": {},
   "outputs": [],
   "source": [
    "group_unique_id_CAD_df %>% count() # Grouping 1: 180 Grouping 2: 793 Grouping 3: 973 v2 Grouping 1: 202 grouping 2: 771 grouping 3: 973"
   ]
  },
  {
   "cell_type": "code",
   "execution_count": null,
   "id": "a6a77c08-d8d6-4b94-9ef3-b1eb60779cb0",
   "metadata": {},
   "outputs": [],
   "source": [
    "group_unique_id_ED_df <- process_nest(glue::glue(\"hosp_ed_nest_visit_{follow_up_time}_df\"), group_df)\n",
    "saveRDS(group_unique_id_ED_df, glue::glue(\"data/grouping{grouping_number}_unique_id_ED_df.rds\"))"
   ]
  },
  {
   "cell_type": "code",
   "execution_count": null,
   "id": "f134925f-99c5-4987-a458-f20a4da7c63b",
   "metadata": {},
   "outputs": [],
   "source": [
    "group_unique_id_ED_df %>% count() # Grouping 1: 417 Grouping 2: 2941 Grouping 3: 3410 v2 Grouping 1 611 Grouping 2 2473 grouping 3: 3084"
   ]
  },
  {
   "cell_type": "code",
   "execution_count": null,
   "id": "c428414d-f6ac-4c01-a1f8-911c005eb135",
   "metadata": {},
   "outputs": [],
   "source": [
    "group_unique_id_IP_df <- process_nest(glue::glue(\"hosp_ip_nest_visit_{follow_up_time}_df\"), group_df)\n",
    "saveRDS(group_unique_id_IP_df, glue::glue(\"data/grouping{grouping_number}_unique_id_IP_df.rds\"))"
   ]
  },
  {
   "cell_type": "markdown",
   "id": "6f9ad71c-9cb2-4577-996d-321093bcff80",
   "metadata": {},
   "source": [
    "# IUC call data"
   ]
  },
  {
   "cell_type": "code",
   "execution_count": null,
   "id": "547b7012-53a7-4aa4-a788-4e13d3bc9160",
   "metadata": {},
   "outputs": [],
   "source": [
    "iuc_df <- readRDS('data/iuc_df.rds')"
   ]
  },
  {
   "cell_type": "code",
   "execution_count": null,
   "id": "81b4ff5b-426e-42c8-a4d6-63057f28ca93",
   "metadata": {},
   "outputs": [],
   "source": [
    "iuc_df %>% count() # 193526 v2 272193"
   ]
  },
  {
   "cell_type": "code",
   "execution_count": null,
   "id": "8807ef1c-1ab3-496b-991c-6e21984eb57f",
   "metadata": {},
   "outputs": [],
   "source": [
    "iuc_df %>% glimpse()"
   ]
  },
  {
   "cell_type": "markdown",
   "id": "f351c739-f12b-4b2c-a0e1-4771830184de",
   "metadata": {},
   "source": [
    "## First step is to filter out all 111 calls in abandoned call dataset"
   ]
  },
  {
   "cell_type": "code",
   "execution_count": null,
   "id": "1f783c19-1cd7-4a80-890b-4b3f52dbc8ae",
   "metadata": {},
   "outputs": [],
   "source": [
    "iuc_df1 <- iuc_df %>% anti_join(group_unique_id_IUC_df)\n",
    "iuc_df1 %>% count() # Grouping 1: 192496 Grouping 2: 189109 grouping 3: 188079 v2 Grouping 1: 270755 Grouping 2: 266083 Grouping 3: 264645\n"
   ]
  },
  {
   "cell_type": "code",
   "execution_count": null,
   "id": "c03ba788-203b-4cda-bbc5-8ee64af324ad",
   "metadata": {},
   "outputs": [],
   "source": [
    "index_event_fn <- function(person_id, row_num, end, follow_up_time = 72) {\n",
    "  #print(row_num)\n",
    "  df <- tibble(person_id = person_id, row_num = row_num, end = end, index_ref = NA_integer_) %>%\n",
    "    arrange(end)\n",
    "  \n",
    "  if(nrow(df) == 1) {\n",
    "    # Easy, only one record so must be index call\n",
    "    df <- df %>% \n",
    "      mutate(\n",
    "        prev_row_num = row_num,\n",
    "        index_event = 1,\n",
    "        index_ref = NA_integer_\n",
    "    )\n",
    "  } else {\n",
    "    \n",
    "    df <- df %>% \n",
    "      mutate(\n",
    "        #index_event = 1,\n",
    "        index_event = case_when(\n",
    "          row_number() == 1 ~ 1,\n",
    "          as.numeric(difftime(end, lag(end), units = 'hours')) > follow_up_time ~ 1,\n",
    "          TRUE ~ 0\n",
    "        )\n",
    "      )\n",
    "    \n",
    "    # Bit hacky but couldn't work out another way to capture the index event row number\n",
    "    # and then replicate this through subsequent calls that occured within 72 hours\n",
    "    # and so were linked to the index event\n",
    "    index_ref_num = 0\n",
    "    for (row in 1:nrow(df)) {\n",
    "      #print(row)\n",
    "      if(df$index_event[row] == 1) {\n",
    "       # print('index row')\n",
    "        index_ref_num = df$row_num[row]\n",
    "        df$index_ref[row] = NA_integer_\n",
    "      } else {\n",
    "        df$index_ref[row] = index_ref_num\n",
    "      }\n",
    "      \n",
    "    }\n",
    "    \n",
    "  }\n",
    "  \n",
    "  return(df %>% select(index_event, index_ref))\n",
    "}"
   ]
  },
  {
   "cell_type": "code",
   "execution_count": null,
   "id": "df048bb0-2a19-4a9d-aba8-ef09f70df580",
   "metadata": {},
   "outputs": [],
   "source": [
    "iuc_df2 <- iuc_df1 %>% \n",
    "    arrange(person_id, end) %>%\n",
    "    mutate(\n",
    "        row_num = row_number(),\n",
    "        #person_id = bit64::as.integer.integer64(person_id)\n",
    "    ) %>%\n",
    "    group_by(person_id) %>%\n",
    "    mutate(\n",
    "     index_event_fn(person_id, row_num, end, follow_up_time = follow_up_time)   \n",
    "    ) %>%\n",
    "    ungroup()"
   ]
  },
  {
   "cell_type": "code",
   "execution_count": null,
   "id": "2e1617de-30fc-4a64-af15-dbc467180b7e",
   "metadata": {},
   "outputs": [],
   "source": [
    "saveRDS(iuc_df2, glue::glue(\"data/grouping{grouping_number}_iuc_df.rds\"))"
   ]
  },
  {
   "cell_type": "markdown",
   "id": "51266e88-f58e-4cd3-982e-8d4a16f8a5d2",
   "metadata": {},
   "source": [
    "## Get index call for IUC cohort"
   ]
  },
  {
   "cell_type": "code",
   "execution_count": null,
   "id": "de7416ee-ca36-49af-aeb4-1c9771a550b1",
   "metadata": {},
   "outputs": [],
   "source": [
    "index_iuc_df <- iuc_df2 %>% filter(index_event == 1)"
   ]
  },
  {
   "cell_type": "code",
   "execution_count": null,
   "id": "0b66abb0-93cb-4a64-a13b-5152a5ddfcda",
   "metadata": {},
   "outputs": [],
   "source": [
    "iuc_df2 %>% count(index_event) # 0 26425 1 166071 v2 0 36760 1 233995, 0 37197 1 22886, 0 35756 1 228889"
   ]
  },
  {
   "cell_type": "code",
   "execution_count": null,
   "id": "56a7140e-7d68-4a06-b588-4143e85da26b",
   "metadata": {},
   "outputs": [],
   "source": [
    "index_iuc_df %>% glimpse()"
   ]
  },
  {
   "cell_type": "code",
   "execution_count": null,
   "id": "0cbc1ebd-1eec-466f-a767-af6a1f7cc62f",
   "metadata": {},
   "outputs": [],
   "source": [
    "n <- 250\n",
    "nr <- nrow(index_iuc_df)\n",
    "index_iuc_df <- index_iuc_df %>% arrange(call_commenced_date_time)\n",
    "\n",
    "split_iuc_df <- split(index_iuc_df, rep(1:ceiling(nr/n), each=n, length.out=nr))"
   ]
  },
  {
   "cell_type": "code",
   "execution_count": null,
   "id": "463034aa-664a-4366-88ad-7c26a199d0f3",
   "metadata": {},
   "outputs": [],
   "source": [
    "split_iuc_df[[1]] %>% glimpse()"
   ]
  },
  {
   "cell_type": "markdown",
   "id": "abe7513c-af13-4d4b-8942-48d23ecd548c",
   "metadata": {},
   "source": [
    "# IUC calls"
   ]
  },
  {
   "cell_type": "code",
   "execution_count": null,
   "id": "eed0df6c-7f53-4965-9185-3b758d6af90d",
   "metadata": {
    "scrolled": true,
    "tags": []
   },
   "outputs": [],
   "source": [
    "plan(multisession, workers = no_cores)\n",
    "\n",
    "start <- Sys.time()\n",
    "future_walk2(split_iuc_df, rep(1:ceiling(nr/n)), ~manage_split(.x,.y, iuc_df2 %>% filter(index_event == 0), \"iuc_nest\", group_unique_id_IUC_df, follow_up_time = follow_up_time))\n",
    "end <- Sys.time()"
   ]
  },
  {
   "cell_type": "code",
   "execution_count": null,
   "id": "9ea75ea3-256d-473c-b749-193defea185b",
   "metadata": {},
   "outputs": [],
   "source": [
    "end-start # Grouping 1: 4.9 mins GRouping 2: 4.8 mins GRouping 3: 4.7 mins"
   ]
  },
  {
   "cell_type": "markdown",
   "id": "de702264-685b-40c4-9d46-c0ea4da9b0d3",
   "metadata": {},
   "source": [
    "# GP calls"
   ]
  },
  {
   "cell_type": "code",
   "execution_count": null,
   "id": "8afaed9d-4571-405a-89ad-5178810369a1",
   "metadata": {},
   "outputs": [],
   "source": [
    "gp_df <- readRDS('data/gp_df.rds')"
   ]
  },
  {
   "cell_type": "code",
   "execution_count": null,
   "id": "c9569650-6093-4d28-9ce9-d6b949cdce76",
   "metadata": {
    "scrolled": true,
    "tags": []
   },
   "outputs": [],
   "source": [
    "plan(multisession, workers = no_cores)\n",
    "\n",
    "start <- Sys.time()\n",
    "future_walk2(split_iuc_df, rep(1:ceiling(nr/n)), ~manage_split(.x,.y, gp_df, \"gp_nest\", group_unique_id_GP_df, follow_up_time = follow_up_time))\n",
    "end <- Sys.time()"
   ]
  },
  {
   "cell_type": "code",
   "execution_count": null,
   "id": "337fe967-2326-4051-b4e9-8292458a86a2",
   "metadata": {},
   "outputs": [],
   "source": [
    "end-start # Grouping 1: 9 mins Grouping 2: 6.2 mins GRouping 3: 8.8 mins"
   ]
  },
  {
   "cell_type": "markdown",
   "id": "749659d6-3b24-4038-b10e-be39b929735e",
   "metadata": {},
   "source": [
    "# CAD calls"
   ]
  },
  {
   "cell_type": "code",
   "execution_count": null,
   "id": "0f9ab859-c105-44ef-8314-97ca0475171c",
   "metadata": {},
   "outputs": [],
   "source": [
    "cad_df <- readRDS('data/cad_df.rds')"
   ]
  },
  {
   "cell_type": "code",
   "execution_count": null,
   "id": "0ec7604a-1d4d-4f11-9583-ad31cbbf0f35",
   "metadata": {
    "scrolled": true,
    "tags": []
   },
   "outputs": [],
   "source": [
    "plan(multisession, workers = no_cores)\n",
    "\n",
    "start <- Sys.time()\n",
    "future_walk2(split_iuc_df, rep(1:ceiling(nr/n)), ~manage_split(.x,.y, cad_df, \"cad_nest\", group_unique_id_CAD_df, follow_up_time = follow_up_time))\n",
    "end <- Sys.time()"
   ]
  },
  {
   "cell_type": "code",
   "execution_count": null,
   "id": "403e7e6f-3de8-4254-8436-7c2e32b690f6",
   "metadata": {},
   "outputs": [],
   "source": [
    "end-start # Grouping 1: 4 mins Grouping 2: 2.9 mins Grouping 3: 4.0 mins"
   ]
  },
  {
   "cell_type": "markdown",
   "id": "f3148309-03cb-42f5-8f85-1f5fcc9270e4",
   "metadata": {},
   "source": [
    "# ED datasets"
   ]
  },
  {
   "cell_type": "code",
   "execution_count": null,
   "id": "6b626f20-0a5c-42e7-8d21-54390ddc7bc4",
   "metadata": {},
   "outputs": [],
   "source": [
    "hosp_ed_df <- readRDS('data/hosp_ed_df.rds')"
   ]
  },
  {
   "cell_type": "code",
   "execution_count": null,
   "id": "a02b173e-588b-474e-b9b9-223d0c0f6e60",
   "metadata": {
    "scrolled": true,
    "tags": []
   },
   "outputs": [],
   "source": [
    "plan(multisession, workers = no_cores)\n",
    "\n",
    "start <- Sys.time()\n",
    "future_walk2(split_iuc_df, rep(1:ceiling(nr/n)), ~manage_split(.x,.y, hosp_ed_df, \"hosp_ed_nest\", group_unique_id_ED_df, follow_up_time = follow_up_time))\n",
    "end <- Sys.time()"
   ]
  },
  {
   "cell_type": "code",
   "execution_count": null,
   "id": "2f07e4a9-5ba9-4d57-9a48-59bc6ddee4b8",
   "metadata": {},
   "outputs": [],
   "source": [
    "end-start # Grouping 1: 4.5 mins Grouping 2: 5 mins Grouping 3: 4.47 mins"
   ]
  },
  {
   "cell_type": "markdown",
   "id": "290a0860-250b-4be6-b058-805ba8189167",
   "metadata": {},
   "source": [
    "# In-patient data"
   ]
  },
  {
   "cell_type": "code",
   "execution_count": null,
   "id": "e5f31e9f-8f62-49be-a8fd-4980427a5bbc",
   "metadata": {},
   "outputs": [],
   "source": [
    "hosp_ip_df <- readRDS('data/hosp_ip_df.rds')"
   ]
  },
  {
   "cell_type": "code",
   "execution_count": null,
   "id": "710c3fb0-96f5-4378-83a4-ef4456ff03ff",
   "metadata": {
    "scrolled": true,
    "tags": []
   },
   "outputs": [],
   "source": [
    "plan(multisession, workers = no_cores)\n",
    "\n",
    "start <- Sys.time()\n",
    "future_walk2(split_iuc_df, rep(1:ceiling(nr/n)), ~manage_split(.x,.y, hosp_ip_df, \"hosp_ip_nest\", group_unique_id_IP_df, follow_up_time = follow_up_time))\n",
    "end <- Sys.time()"
   ]
  },
  {
   "cell_type": "code",
   "execution_count": null,
   "id": "f2fe901e-5321-4af6-a57b-fb436a6f8dc9",
   "metadata": {},
   "outputs": [],
   "source": [
    "end-start # Grouping 1: 4.7 mins Grouping 2: 4.6 mins Grouping 3: 4.4 mins"
   ]
  },
  {
   "cell_type": "markdown",
   "id": "61b0f0d5-b058-4fcb-9ace-f03ea07c2849",
   "metadata": {},
   "source": [
    "# Combine data"
   ]
  },
  {
   "cell_type": "code",
   "execution_count": null,
   "id": "f2f585c1-f06a-46c8-b820-52e387e2563c",
   "metadata": {},
   "outputs": [],
   "source": [
    "combine_rds <- function(file_path, filename) {\n",
    "  list.files(path = file_path, glue(\"^{filename}\"), full.names = T) %>%\n",
    "    map_dfr(readRDS)\n",
    "}"
   ]
  },
  {
   "cell_type": "code",
   "execution_count": null,
   "id": "4deb9433-7f35-4b07-a4df-6a9c5b1fbc94",
   "metadata": {},
   "outputs": [],
   "source": [
    "iuc_nest_df <- combine_rds(\"data/walk_files\", \"iuc_nest\")\n",
    "gp_nest_df <- combine_rds(\"data/walk_files\", \"gp_nest\")\n",
    "cad_nest_df <- combine_rds(\"data/walk_files\", \"cad_nest\")\n",
    "hosp_ed_nest_df <- combine_rds(\"data/walk_files\", \"hosp_ed_nest\")\n",
    "hosp_ip_nest_df <- combine_rds(\"data/walk_files\", \"hosp_ip_nest\")"
   ]
  },
  {
   "cell_type": "code",
   "execution_count": null,
   "id": "9b1fed29-4c90-49c9-8013-2ae67370498b",
   "metadata": {},
   "outputs": [],
   "source": [
    "final_nest_df <- index_iuc_df %>%\n",
    "  left_join(iuc_nest_df,      by=c(\"unique_id\", \"person_id\")) %>% \n",
    "  left_join(gp_nest_df,       by=c(\"unique_id\", \"person_id\")) %>%\n",
    "  left_join(cad_nest_df,      by=c(\"unique_id\", \"person_id\")) %>%\n",
    "  left_join(hosp_ed_nest_df,  by=c(\"unique_id\", \"person_id\")) %>%\n",
    "  left_join(hosp_ip_nest_df,  by=c(\"unique_id\", \"person_id\"))"
   ]
  },
  {
   "cell_type": "code",
   "execution_count": null,
   "id": "8b39803b-69f6-40d8-9320-631394caab3d",
   "metadata": {},
   "outputs": [],
   "source": [
    "follow_up_time_str <- \"\"\n",
    "if(follow_up_time != 72) {\n",
    " follow_up_time_str <- glue::glue(\"_{follow_up_time}\")   \n",
    "}\n",
    "saveRDS(final_nest_df, glue::glue(\"data/grouping{grouping_number}_iuc_nest_df{follow_up_time_str}.rds\"))"
   ]
  },
  {
   "cell_type": "code",
   "execution_count": null,
   "id": "e3b6bcf8-80d1-43d2-8ad6-67881d7d3ac7",
   "metadata": {},
   "outputs": [],
   "source": [
    "final_nest_df %>% glimpse()"
   ]
  },
  {
   "cell_type": "code",
   "execution_count": null,
   "id": "17db9a68-0e77-4e7d-ad88-0c8ff44ac739",
   "metadata": {},
   "outputs": [],
   "source": [
    "final_nest_df1 <- final_nest_df %>%\n",
    "    mutate(\n",
    "        made_contact = if_else(rowSums(across(ends_with(glue::glue(\"in_{follow_up_time}_hrs\")))) > 0, 1, 0),\n",
    "    )"
   ]
  },
  {
   "cell_type": "code",
   "execution_count": null,
   "id": "b0af5685-8872-4781-8a94-9fbc86b20120",
   "metadata": {},
   "outputs": [],
   "source": [
    "final_nest_df1 %>% count(made_contact) # Grouping 1: 0 82866 1 83205 Grouping 2: 0 80553 1 81845 Grouping 3: 0 81106 1 81296\n",
    "# v2 Grouping 1: 0 116942 1 117053 Grouping 2: 0 113698 1 115188 Grouping 3: 0 114504 1 114385"
   ]
  }
 ],
 "metadata": {
  "environment": {
   "kernel": "ir",
   "name": ".m112",
   "type": "gcloud",
   "uri": "gcr.io/deeplearning-platform-release/:m112"
  },
  "kernelspec": {
   "display_name": "R",
   "language": "R",
   "name": "ir"
  },
  "language_info": {
   "codemirror_mode": "r",
   "file_extension": ".r",
   "mimetype": "text/x-r-source",
   "name": "R",
   "pygments_lexer": "r",
   "version": "4.2.3"
  }
 },
 "nbformat": 4,
 "nbformat_minor": 5
}
