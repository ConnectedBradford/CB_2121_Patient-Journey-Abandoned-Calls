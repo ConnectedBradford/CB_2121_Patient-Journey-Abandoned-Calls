{
 "cells": [
  {
   "cell_type": "code",
   "execution_count": null,
   "id": "5119f466-6d81-4ce7-acc1-9cb243765e3c",
   "metadata": {},
   "outputs": [],
   "source": [
    "library(DBI)\n",
    "library(dbplyr)\n",
    "library(bigrquery)\n",
    "suppressPackageStartupMessages(library(tidyverse))\n",
    "library(lubridate)"
   ]
  },
  {
   "cell_type": "code",
   "execution_count": null,
   "id": "a340ad80-9995-4272-a8ec-250d8515db08",
   "metadata": {},
   "outputs": [],
   "source": [
    "options(tibble.width = Inf\n",
    "# The page size was adjusted as bigquery was throwing errors\n",
    "con <- DBI::dbConnect(bigquery(), project = \"yhcr-prd-phm-bia-core\", bigint = \"integer64\", page_size = 15000)"
   ]
  },
  {
   "cell_type": "code",
   "execution_count": null,
   "id": "691090f5-8fae-40f9-9440-1af4b6bc89ec",
   "metadata": {},
   "outputs": [],
   "source": [
    "db <- 'CB_STAGING_DATABASE_YAS_FDM_Format'\n",
    "gp_db <- 'CB_FDM_PrimaryCare'\n",
    "\n",
    "start_date = '2022-01-01'\n",
    "end_date = '2023-07-01'"
   ]
  },
  {
   "cell_type": "markdown",
   "id": "728d7ef8-5446-425e-960d-582a16719289",
   "metadata": {
    "tags": []
   },
   "source": [
    "# Retrieve IUC data"
   ]
  },
  {
   "cell_type": "code",
   "execution_count": null,
   "id": "3edfcdaa-6716-4b68-ac0c-fb97cafb770c",
   "metadata": {},
   "outputs": [],
   "source": [
    "iuc_tbl <- tbl(con, glue::glue(\"yhcr-prd-phm-bia-core.{db}.tbl_YAS_IUC\"))"
   ]
  },
  {
   "cell_type": "code",
   "execution_count": null,
   "id": "aa85930f-0801-4ee4-b1df-bf55ee057db6",
   "metadata": {},
   "outputs": [],
   "source": [
    "iuc_tbl %>% glimpse()"
   ]
  },
  {
   "cell_type": "code",
   "execution_count": null,
   "id": "4896bad5-9daf-4bca-92d9-e8c77f9c1628",
   "metadata": {},
   "outputs": [],
   "source": [
    "iuc_tbl2 <- iuc_tbl %>%\n",
    "    #head() %>%\n",
    "    select(\n",
    "        CaseRef,\n",
    "        person_id,\n",
    "        Call_Commenced_Date_Time,\n",
    "        tbl_YAS_IUC_start_date,\n",
    "        Call_Handler_1_Triage_Start_Time, \n",
    "        Call_Handler_2_Triage_Start_Time, \n",
    "        Call_Handler_3_Triage_Start_Time, \n",
    "        Clinical_Advisor_1_Triage_Start_Time, \n",
    "        Clinical_Advisor_2_Triage_Start_Time, \n",
    "        Clinical_Advisor_3_Triage_Start_Time,\n",
    "        Highest_Skillset,\n",
    "        Age,\n",
    "        Sex,\n",
    "        GP_Surgery_ID,\n",
    "        Final_Symptom_Group,\n",
    "        Final_Symptom_Discriminator,\n",
    "        Final_Dx_Code,\n",
    "        Final_Dx_Description,\n",
    "        Referral_Service,\n",
    "        Referral_Service_Type,\n",
    "        Rejected_Service,\n",
    "        Rejected_Service_Reason,\n",
    "    ) %>%\n",
    "    filter(\n",
    "        tbl_YAS_IUC_start_date >= start_date,\n",
    "        tbl_YAS_IUC_start_date < end_date\n",
    "    ) %>%\n",
    "    distinct()\n",
    "        "
   ]
  },
  {
   "cell_type": "code",
   "execution_count": null,
   "id": "16d91c4f-80f0-4994-b998-635319932944",
   "metadata": {},
   "outputs": [],
   "source": [
    "iuc_tbl2 %>% glimpse()"
   ]
  },
  {
   "cell_type": "code",
   "execution_count": null,
   "id": "b1568b93-2363-4ebf-9900-cc7d03230546",
   "metadata": {},
   "outputs": [],
   "source": [
    "iuc_tbl2 %>% summarise(thedate = max(tbl_YAS_IUC_start_date)) "
   ]
  },
  {
   "cell_type": "code",
   "execution_count": null,
   "id": "78522f67-6968-44e6-a87b-4ae8b05767f3",
   "metadata": {},
   "outputs": [],
   "source": [
    "iuc_tbl2 %>% count() # 1529576 # v2 2100112"
   ]
  },
  {
   "cell_type": "markdown",
   "id": "919fd586-8bd6-4d90-96ba-23a0ede9aaaa",
   "metadata": {},
   "source": [
    "## LSOA IMD 2019 CSV"
   ]
  },
  {
   "cell_type": "code",
   "execution_count": null,
   "id": "3d03cb1a-ebb1-4c2e-b263-60e721b22c12",
   "metadata": {},
   "outputs": [],
   "source": [
    "# The first time this code is run, you'll need to uncomment this code chunk and the next one.\n",
    "\n",
    "#lsoa_imd_2019_df <- read_csv('data/imd2019lsoa.csv')"
   ]
  },
  {
   "cell_type": "code",
   "execution_count": null,
   "id": "46563e3c-203f-4ea1-94b1-8e763587ccf7",
   "metadata": {},
   "outputs": [],
   "source": [
    "# lsoa_imd_2019_df2 <- lsoa_imd_2019_df %>%\n",
    "#     group_by(FeatureCode) %>%\n",
    "#     summarise(\n",
    "#      imd_rank = first(Value[Measurement == \"Rank\"]),\n",
    "#      imd_decile = first(Value[Measurement == \"Decile\"])\n",
    "#     ) %>% ungroup() %>% distinct() %>%\n",
    "#     rename(\n",
    "#      lsoa = FeatureCode\n",
    "#     )\n",
    "#  #Create table for master joining later\n",
    "# DBI::dbWriteTable(con, \"yhcr-prd-phm-bia-core.CB_2121.lsoa_csv_tbl\", lsoa_imd_2019_df2)"
   ]
  },
  {
   "cell_type": "code",
   "execution_count": null,
   "id": "f0731ec4-c836-47c9-9dc8-75e49975fad4",
   "metadata": {},
   "outputs": [],
   "source": [
    "#lsoa_imd_2019_df2 %>% glimpse()"
   ]
  },
  {
   "cell_type": "code",
   "execution_count": null,
   "id": "c9cdc8d4-ea10-4001-aa21-cddadcced2b9",
   "metadata": {},
   "outputs": [],
   "source": [
    "csv_lsoa_tbl <- tbl(con, \"yhcr-prd-phm-bia-core.CB_2121.lsoa_csv_tbl\")"
   ]
  },
  {
   "cell_type": "code",
   "execution_count": null,
   "id": "bbd150ef-fbf1-4fc0-949e-d2891dc01693",
   "metadata": {},
   "outputs": [],
   "source": [
    "csv_lsoa_tbl %>% glimpse()"
   ]
  },
  {
   "cell_type": "markdown",
   "id": "7c89c812-2e37-44fe-a975-61e8c9e00858",
   "metadata": {
    "tags": []
   },
   "source": [
    "# Retrieve Patients with Bradford GP"
   ]
  },
  {
   "cell_type": "code",
   "execution_count": null,
   "id": "7ae8d30f-7b49-4cdd-baec-146ba6c6933e",
   "metadata": {},
   "outputs": [],
   "source": [
    "# Note no date restriction on this query\n",
    "gp_person_tbl <- tbl(con, glue::glue(\"yhcr-prd-phm-bia-core.{gp_db}.person\")) %>% #glimpse()\n",
    "    distinct(person_id, ethnicity_source_value, gender_source_value, birth_datetime)"
   ]
  },
  {
   "cell_type": "code",
   "execution_count": null,
   "id": "c6f725dc-2092-4fc9-b75d-880e142fa6b6",
   "metadata": {},
   "outputs": [],
   "source": [
    "gp_person_tbl %>% count() # 1177931 v2 same number"
   ]
  },
  {
   "cell_type": "markdown",
   "id": "dafb0669-c830-43ad-bc37-382ccc515ac1",
   "metadata": {
    "tags": []
   },
   "source": [
    "# Assign LSOA to patients"
   ]
  },
  {
   "cell_type": "code",
   "execution_count": null,
   "id": "6e809248-60ce-4b4c-95f8-bc1398089acc",
   "metadata": {},
   "outputs": [],
   "source": [
    "# Couple of tables required for LSOA and IMD lookup\n",
    "id_lsoa_tbl <-  tbl(con, glue::glue(\"yhcr-prd-phm-bia-core.CB_LOOKUPS.tbl_person_lsoa\"))"
   ]
  },
  {
   "cell_type": "code",
   "execution_count": null,
   "id": "f05eae15-f77a-4cc0-b80f-65e291832499",
   "metadata": {},
   "outputs": [],
   "source": [
    "id_lsoa_tbl %>% count() # 1621481 v2 same"
   ]
  },
  {
   "cell_type": "code",
   "execution_count": null,
   "id": "6935d08d-af80-485f-8cec-bd4ddf22d25c",
   "metadata": {},
   "outputs": [],
   "source": [
    "person_lsoa_imd_tbl <- id_lsoa_tbl  %>% left_join(csv_lsoa_tbl, by=\"lsoa\")"
   ]
  },
  {
   "cell_type": "code",
   "execution_count": null,
   "id": "ee926de6-319c-48d8-9949-b750abd708c3",
   "metadata": {},
   "outputs": [],
   "source": [
    "person_lsoa_imd_tbl %>% glimpse()"
   ]
  },
  {
   "cell_type": "code",
   "execution_count": null,
   "id": "bc19fdc9-a6bb-414c-bdd2-3f2ec2dba0fa",
   "metadata": {},
   "outputs": [],
   "source": [
    "person_lsoa_imd_tbl %>% count(imd_decile) %>% print(n=11)"
   ]
  },
  {
   "cell_type": "code",
   "execution_count": null,
   "id": "a0411fa8-bbcf-425d-8df8-ca90f7396aa4",
   "metadata": {},
   "outputs": [],
   "source": [
    "person_lsoa_tbl <- gp_person_tbl %>%\n",
    "    left_join(person_lsoa_imd_tbl, by=\"person_id\") "
   ]
  },
  {
   "cell_type": "code",
   "execution_count": null,
   "id": "5ec91f54-f915-49cc-97b1-291e39c669ed",
   "metadata": {},
   "outputs": [],
   "source": [
    "person_lsoa_tbl %>% count() # 1210393 v2 same"
   ]
  },
  {
   "cell_type": "code",
   "execution_count": null,
   "id": "618e85d8-99f6-494c-97ff-964395ffdad8",
   "metadata": {},
   "outputs": [],
   "source": [
    "person_lsoa_tbl %>% glimpse()"
   ]
  },
  {
   "cell_type": "code",
   "execution_count": null,
   "id": "0cd73cf0-0fde-4d61-8c7f-242112a1ea5d",
   "metadata": {},
   "outputs": [],
   "source": [
    "person_lsoa_tbl %>% collect() %>% count(!is.na(lsoa), is.na(imd_decile))"
   ]
  },
  {
   "cell_type": "code",
   "execution_count": null,
   "id": "24b02078-d047-4bf1-b846-c23a62f34df8",
   "metadata": {},
   "outputs": [],
   "source": [
    "iuc_tbl3 <- iuc_tbl2 %>% \n",
    "    inner_join(person_lsoa_tbl, by=\"person_id\") "
   ]
  },
  {
   "cell_type": "code",
   "execution_count": null,
   "id": "884eaacf-542a-49ed-90d0-24fc0d7025df",
   "metadata": {},
   "outputs": [],
   "source": [
    "iuc_tbl2 %>% count() # 1529576 v2 2100112\n",
    "iuc_tbl3 %>% count() # 216936  v2 298298"
   ]
  },
  {
   "cell_type": "code",
   "execution_count": null,
   "id": "a81655c5-9b24-45d5-bdb2-8be8cc22829e",
   "metadata": {},
   "outputs": [],
   "source": [
    "iuc_tbl3 %>% glimpse()"
   ]
  },
  {
   "cell_type": "code",
   "execution_count": null,
   "id": "766b1f2d-e65e-4af1-b28b-b66e0d2b0e2e",
   "metadata": {},
   "outputs": [],
   "source": [
    "iuc_df <- iuc_tbl3 %>% collect() "
   ]
  },
  {
   "cell_type": "code",
   "execution_count": null,
   "id": "5572ed2d-2d96-4ad1-8e20-c4ea5b90e6ca",
   "metadata": {},
   "outputs": [],
   "source": [
    "iuc_df %>% glimpse()"
   ]
  },
  {
   "cell_type": "code",
   "execution_count": null,
   "id": "3b17ae8e-a210-427d-b83d-e8e5087e4f73",
   "metadata": {},
   "outputs": [],
   "source": [
    "#iuc_df %>% filter(between(tbl_YAS_IUC_start_date, ymd(\"2023-02-01\"), ymd(\"2023-02-07\"))) %>% head()"
   ]
  },
  {
   "cell_type": "markdown",
   "id": "91b44cb5-7ec6-4670-a299-0d18580c09bb",
   "metadata": {
    "tags": []
   },
   "source": [
    "# Symptom group and discriminator lookup"
   ]
  },
  {
   "cell_type": "code",
   "execution_count": null,
   "id": "040a1f02-79d5-4086-b891-dd177d5d8fc3",
   "metadata": {},
   "outputs": [],
   "source": [
    "wrangle_dt <- function(dt_str) {\n",
    " dt_str %>% map_chr(\\(dt) if_else(nchar(dt) == 16, paste0(dt, \":00\"), dt))   \n",
    "}"
   ]
  },
  {
   "cell_type": "code",
   "execution_count": null,
   "id": "b76636e3-a055-49b7-8672-9e5f3cd4bcca",
   "metadata": {},
   "outputs": [],
   "source": [
    "iuc_df2 <- iuc_df %>% #head() %>%\n",
    "  distinct(CaseRef, .keep_all = T) %>% # To be pragmatic, we'll only keep one row per CaseRef\n",
    "  rename_with(tolower, everything()) %>%\n",
    "  mutate(\n",
    "    sex = case_when(\n",
    "         sex == \"M\" ~ \"male\",\n",
    "         sex == \"F\" ~ \"female\",\n",
    "         TRUE ~ NA_character_\n",
    "      ),\n",
    "     age = as.numeric(age)\n",
    "      # Added filter for adults only\n",
    "  ) %>% filter(!is.na(age) & age >= 18) %>%\n",
    "  mutate(\n",
    "    # Some date times have a second value, some don't, sigh.\n",
    "    across(ends_with('_time'), wrangle_dt),\n",
    "    across(ends_with('_time'), dmy_hms)\n",
    "  ) %>%\n",
    "  rowwise() %>%\n",
    "  mutate(\n",
    "    exit_111_date_time = max(c_across(ends_with('_time')), na.rm = T),\n",
    "    # Matches on column names that start with Clinical_Advisor, has anything in the middle and ends with Time\n",
    "    clinical_advisor = ifelse(highest_skillset == \"Clinical Advisor\", TRUE, FALSE),\n",
    "  ) %>%\n",
    "  ungroup() %>%\n",
    "  select(person_id, age, sex, gp_surgery_id, call_commenced_date_time, final_dx_code, final_symptom_group, final_symptom_discriminator, exit_111_date_time, clinical_advisor, ethnicity_source_value,\n",
    "         rejected_service,\n",
    "         rejected_service_reason, referral_service, referral_service_type, lsoa, imd_rank, imd_decile) %>%\n",
    "  distinct()"
   ]
  },
  {
   "cell_type": "code",
   "execution_count": null,
   "id": "ffdb0475-911e-4d9e-b26b-9a694b4fd2ac",
   "metadata": {},
   "outputs": [],
   "source": [
    "iuc_df2 %>% glimpse()"
   ]
  },
  {
   "cell_type": "code",
   "execution_count": null,
   "id": "c0600b64-30f9-4474-a013-a57c4c1b5fd1",
   "metadata": {},
   "outputs": [],
   "source": [
    "iuc_df2 %>% count() # 193526 v2 201232 - but excludes children now."
   ]
  },
  {
   "cell_type": "code",
   "execution_count": null,
   "id": "7db5842e-8cfa-4d13-9983-927c3c3dec49",
   "metadata": {},
   "outputs": [],
   "source": [
    "sg_df <- read_csv('data/symptom_groups.csv')\n",
    "sd_df <- read_csv('data/symptom_discriminators.csv')\n",
    "\n",
    "iuc_df3 <- iuc_df2 %>% #head() %>%\n",
    "    mutate(\n",
    "        final_symptom_group = as.numeric(final_symptom_group),\n",
    "        final_symptom_discriminator = as.numeric(final_symptom_discriminator),\n",
    "        start = call_commenced_date_time,\n",
    "        end = exit_111_date_time\n",
    "    ) %>%\n",
    "    left_join(sg_df, by=c(\"final_symptom_group\"=\"id\")) %>%\n",
    "    rename(symtom_group_desc = description) %>%\n",
    "    left_join(sd_df, by=c(\"final_symptom_discriminator\"=\"id\")) %>%\n",
    "    rename(symptom_discriminator_desc = description) %>%\n",
    "    mutate(\n",
    "        unique_id = glue::glue(\"IUC_{row_number()}\")\n",
    "    )"
   ]
  },
  {
   "cell_type": "code",
   "execution_count": null,
   "id": "3058eb2a-34dc-45e4-8ea2-6df5e0c6b43e",
   "metadata": {},
   "outputs": [],
   "source": [
    "iuc_df3 %>% count() # 193526 v2 201323"
   ]
  },
  {
   "cell_type": "code",
   "execution_count": null,
   "id": "22fb6abd-da1e-4439-af2e-648ccb1e683b",
   "metadata": {},
   "outputs": [],
   "source": [
    "iuc_df3 %>% glimpse()"
   ]
  },
  {
   "cell_type": "code",
   "execution_count": null,
   "id": "fd0d47d4-101b-42dc-b455-bc0dd6e7a333",
   "metadata": {},
   "outputs": [],
   "source": [
    "saveRDS(iuc_df3, 'data/iuc_df.rds')"
   ]
  },
  {
   "cell_type": "markdown",
   "id": "c07dcfec-6c66-4027-a86b-793ea48f4c1c",
   "metadata": {
    "tags": []
   },
   "source": [
    "# Abandoned call data"
   ]
  },
  {
   "cell_type": "code",
   "execution_count": null,
   "id": "0990600a-cde5-4fab-b6c4-0bc28589980b",
   "metadata": {},
   "outputs": [],
   "source": [
    "ac_tbl <- tbl(con, glue::glue(\"yhcr-prd-phm-bia-core.{db}.cb_abandoned_calls\"))"
   ]
  },
  {
   "cell_type": "code",
   "execution_count": null,
   "id": "4c471d5e-4a08-40e3-b124-10d01cad44d8",
   "metadata": {},
   "outputs": [],
   "source": [
    "ac_tbl2 <- ac_tbl %>% inner_join(person_lsoa_tbl, by=\"person_id\")"
   ]
  },
  {
   "cell_type": "code",
   "execution_count": null,
   "id": "a0c02ae6-37d7-4233-8434-d75b81f71128",
   "metadata": {},
   "outputs": [],
   "source": [
    "ac_df <- ac_tbl2 %>% collect() %>% filter(!is.na(person_id)) # Warning: filtering NAs before collection does not appear to work"
   ]
  },
  {
   "cell_type": "code",
   "execution_count": null,
   "id": "d2437d19-4c74-406c-98a6-496172c3c258",
   "metadata": {},
   "outputs": [],
   "source": [
    "ac_df %>% glimpse()"
   ]
  },
  {
   "cell_type": "code",
   "execution_count": null,
   "id": "9d93f874-3864-4aee-a052-1dfd69cda7a4",
   "metadata": {},
   "outputs": [],
   "source": [
    "ac_df %>% count() # 37476 v2 same"
   ]
  },
  {
   "cell_type": "code",
   "execution_count": null,
   "id": "b0377ad5-bc0d-40c0-a924-66c3b2729d20",
   "metadata": {},
   "outputs": [],
   "source": [
    "ac_df2 <- ac_df %>% #head() %>%\n",
    "    transmute(\n",
    "        person_id,\n",
    "        call_id = as.numeric(ID),\n",
    "        start = as_datetime(as.numeric(segstart_utc)),\n",
    "        end = as_datetime(as.numeric(segstop_utc)),\n",
    "        queuetime = as.numeric(queuetime),\n",
    "        ringtime = as.numeric(ringtime),\n",
    "        lsoa,\n",
    "        ethnicity_source_value,\n",
    "        age = as.integer(difftime(start, birth_datetime, unit= \"weeks\")/52),\n",
    "        unique_id = glue::glue(\"ABN_{row_number()}\"),\n",
    "        imd_rank,\n",
    "        imd_decile,\n",
    "        sex = case_when(\n",
    "            gender_source_value %in% c(\"1\", \"M\", \"Male\") ~ \"male\",\n",
    "            gender_source_value %in% c(\"2\", \"F\", \"Female\") ~ \"female\",\n",
    "            TRUE ~ NA_character_\n",
    "        ) \n",
    "    ) %>% \n",
    "    # There's some duplication in the AC records. Remove duplicates that are from the same person with the same start and end call times\n",
    "    distinct(person_id, start, end, .keep_all = T) %>%\n",
    "    filter(!is.na(age) & age >= 18)"
   ]
  },
  {
   "cell_type": "code",
   "execution_count": null,
   "id": "3b8436af-296f-4e0a-9429-5dbef5d96c75",
   "metadata": {},
   "outputs": [],
   "source": [
    "ac_df2 %>% count() # 36245 v2 24304 (excluding children)"
   ]
  },
  {
   "cell_type": "code",
   "execution_count": null,
   "id": "99313a6e-c64f-46ee-bff9-7541dde46320",
   "metadata": {},
   "outputs": [],
   "source": [
    "ac_df2 %>% glimpse()"
   ]
  },
  {
   "cell_type": "code",
   "execution_count": null,
   "id": "e7201987-20ad-47c7-9936-839568eae298",
   "metadata": {},
   "outputs": [],
   "source": [
    "ac_df2 %>% filter(!is.na(lsoa), is.na(imd_rank)) %>% count() # 1098 with no IMD, but with an LSOA v2 same"
   ]
  },
  {
   "cell_type": "code",
   "execution_count": null,
   "id": "d362baca-9da9-417c-966c-9e27623144f3",
   "metadata": {},
   "outputs": [],
   "source": [
    "ac_df2 %>% count(n_distinct(person_id)) # 25489, 36245 v2 16693, 24304"
   ]
  },
  {
   "cell_type": "code",
   "execution_count": null,
   "id": "28f072be-4106-4ca3-9540-4364b8c750f5",
   "metadata": {},
   "outputs": [],
   "source": [
    "index_event_fn <- function(person_id, row_num, end) {\n",
    "  #print(row_num)\n",
    "  df <- tibble(person_id = person_id, row_num = row_num, end = end, index_ref = NA_integer_) %>%\n",
    "    arrange(end)\n",
    "  \n",
    "  if(nrow(df) == 1) {\n",
    "    # Easy, only one record so must be index call\n",
    "    df <- df %>% \n",
    "      mutate(\n",
    "        prev_row_num = row_num,\n",
    "        index_event = 1,\n",
    "        index_ref = NA_integer_\n",
    "    )\n",
    "  } else {\n",
    "    \n",
    "    df <- df %>% \n",
    "      mutate(\n",
    "        #index_event = 1,\n",
    "        index_event = case_when(\n",
    "          row_number() == 1 ~ 1,\n",
    "          as.numeric(difftime(end, lag(end), units = 'hours')) > 72 ~ 1,\n",
    "          TRUE ~ 0\n",
    "        )\n",
    "      )\n",
    "    \n",
    "    # Bit hacky but couldn't work out another way to capture the index event row number\n",
    "    # and then replicate this through subsequent calls that occured within 72 hours\n",
    "    # and so were linked to the index event\n",
    "    index_ref_num = 0\n",
    "    for (row in 1:nrow(df)) {\n",
    "      #print(row)\n",
    "      if(df$index_event[row] == 1) {\n",
    "       # print('index row')\n",
    "        index_ref_num = df$row_num[row]\n",
    "        df$index_ref[row] = NA_integer_\n",
    "      } else {\n",
    "        df$index_ref[row] = index_ref_num\n",
    "      }\n",
    "      \n",
    "    }\n",
    "    \n",
    "  }\n",
    "  \n",
    "  return(df %>% select(index_event, index_ref))\n",
    "}"
   ]
  },
  {
   "cell_type": "code",
   "execution_count": null,
   "id": "30ac027b-c8a5-44cf-8afe-6d71860c87ff",
   "metadata": {},
   "outputs": [],
   "source": [
    "ac_df3 <- ac_df2 %>% \n",
    "    arrange(person_id, end) %>%\n",
    "    mutate(\n",
    "        row_num = row_number()\n",
    "    ) %>%\n",
    "    group_by(person_id) %>%\n",
    "    mutate(\n",
    "     index_event_fn(person_id, row_num, end)   \n",
    "    ) %>%\n",
    "    ungroup()"
   ]
  },
  {
   "cell_type": "code",
   "execution_count": null,
   "id": "2d8d073a-92dd-4ed8-a0d7-696a619147ad",
   "metadata": {},
   "outputs": [],
   "source": [
    "ac_df3 %>% count() # 36245 v2 24304"
   ]
  },
  {
   "cell_type": "code",
   "execution_count": null,
   "id": "379dbe3d-91a5-4ca0-95ed-57a55f3d92c8",
   "metadata": {},
   "outputs": [],
   "source": [
    "ac_df4 <- ac_df3 %>% filter(index_event == 1)"
   ]
  },
  {
   "cell_type": "code",
   "execution_count": null,
   "id": "495f6a70-b54a-4ba6-94a5-e03aeb391a5f",
   "metadata": {},
   "outputs": [],
   "source": [
    "ac_df4 %>% count() # 33332 v2 22270"
   ]
  },
  {
   "cell_type": "code",
   "execution_count": null,
   "id": "e74341b1-6214-47c5-b599-a04372ca006e",
   "metadata": {},
   "outputs": [],
   "source": [
    "saveRDS(ac_df3, 'data/ac_df_all.rds')\n",
    "saveRDS(ac_df4, 'data/ac_df_index.rds')"
   ]
  },
  {
   "cell_type": "markdown",
   "id": "4a05d93d-1a26-43df-b4b2-af8aa5e0c544",
   "metadata": {
    "tags": []
   },
   "source": [
    "# CAD data"
   ]
  },
  {
   "cell_type": "code",
   "execution_count": null,
   "id": "74f86cba-df5f-4e31-8ec8-e114827cabe4",
   "metadata": {},
   "outputs": [],
   "source": [
    "cad_tbl <- tbl(con, glue::glue(\"yhcr-prd-phm-bia-core.{db}.tbl_YAS_999\"))\n",
    "cad_tbl %>% glimpse()"
   ]
  },
  {
   "cell_type": "code",
   "execution_count": null,
   "id": "afa18ea6-029c-45ce-85fd-e655c2df843a",
   "metadata": {},
   "outputs": [],
   "source": [
    "cad_tbl %>% count() # 2491216 v2 same"
   ]
  },
  {
   "cell_type": "code",
   "execution_count": null,
   "id": "04187135-8aaa-4fdb-a2d4-7883bbea68f1",
   "metadata": {},
   "outputs": [],
   "source": [
    "# Need to exclude things like the daily log\n",
    "resource_types <- c(\"Emergency Ambulance\", \"Rapid Response\", \"Low Acuity Transport\", \"HART USAR 4X4\", \"HART Heavy Equipment\",\"Patient Transport Vehicle\",\"Specialist Paramedic\", \"Mental Health Vehicle\", \"Clinician Remote Worker\")\n",
    "\n",
    "# At the moment, the end_date is the same as start_date, so need to some stuff later to get the correct end date\n",
    "cad_tbl <- tbl(con, glue::glue(\"yhcr-prd-phm-bia-core.{db}.tbl_YAS_999\")) %>%\n",
    "    filter(ResourceType %in% resource_types) %>% #glimpse()\n",
    "    select(\n",
    "        person_id, tbl_YAS_999_start_date, TimeClear, CallNumber, MainPatientAge, MainPatientSex, ChiefComplaint, DespatchCode, GovtStdTOC\n",
    "    ) %>%\n",
    "    filter(\n",
    "        tbl_YAS_999_start_date >= start_date,\n",
    "        tbl_YAS_999_start_date < end_date\n",
    "    ) %>%\n",
    "    inner_join(person_lsoa_tbl, by=\"person_id\") %>%\n",
    "    distinct(CallNumber, .keep_all = T)"
   ]
  },
  {
   "cell_type": "code",
   "execution_count": null,
   "id": "0f03fc59-71f8-4645-9a48-a0e33f267b58",
   "metadata": {},
   "outputs": [],
   "source": [
    "cad_df <- cad_tbl %>% collect() %>% mutate(\n",
    "        unique_id = glue::glue(\"CAD_{row_number()}\")\n",
    "    )"
   ]
  },
  {
   "cell_type": "code",
   "execution_count": null,
   "id": "2b301bdc-7fdf-4efc-b8dd-b844aa62512d",
   "metadata": {},
   "outputs": [],
   "source": [
    "cad_df %>% count() # 74,611 v2 same"
   ]
  },
  {
   "cell_type": "code",
   "execution_count": null,
   "id": "cc323a48-4d30-445c-afc4-6073012abff7",
   "metadata": {},
   "outputs": [],
   "source": [
    "test_df <- cad_df %>% #head() %>%\n",
    "    transmute( \n",
    "        MainPatientAge,\n",
    "        age = as.integer(difftime(tbl_YAS_999_start_date, birth_datetime, unit = \"weeks\")/52),\n",
    "        MainPatientSex,\n",
    "        gender_source_value,\n",
    "        gender = case_when(\n",
    "         gender_source_value %in% c(\"1\", \"Male\", \"M\") ~ \"male\",\n",
    "         gender_source_value %in% c(\"2\", \"Female\", \"F\") ~ \"female\",\n",
    "         TRUE ~ NA_character_\n",
    "        ),\n",
    "        main_sex = case_when(\n",
    "         MainPatientSex == \"Male\" ~ \"male\",\n",
    "         MainPatientSex == \"Female\" ~ \"female\",\n",
    "         TRUE ~ NA_character_\n",
    "        ),\n",
    "        sex = coalesce(gender, main_sex)\n",
    "    )"
   ]
  },
  {
   "cell_type": "code",
   "execution_count": null,
   "id": "bef35752-a5ed-495d-adf3-930e880b9bed",
   "metadata": {},
   "outputs": [],
   "source": [
    "test_df %>% count(is.na(age), is.na(MainPatientAge))"
   ]
  },
  {
   "cell_type": "code",
   "execution_count": null,
   "id": "efd58061-53b9-4519-b2a7-d18785aabd42",
   "metadata": {},
   "outputs": [],
   "source": [
    "test_df %>% count(is.na(sex))"
   ]
  },
  {
   "cell_type": "code",
   "execution_count": null,
   "id": "c4736736-2024-48ab-b883-5aea297cd18e",
   "metadata": {},
   "outputs": [],
   "source": [
    "test_df %>% count(MainPatientSex)"
   ]
  },
  {
   "cell_type": "code",
   "execution_count": null,
   "id": "ba9a0497-5962-42f3-a345-d9583def513a",
   "metadata": {},
   "outputs": [],
   "source": [
    "# Had a bit of a mare with case_when...had to separate out variable creation as it failed in the next_day/same_day \n",
    "# criteria when left in situ\n",
    "cad_df1 <- cad_df %>% #head(n=500) %>%\n",
    "    #rowwise() %>%\n",
    "    transmute(\n",
    "    person_id,\n",
    "    unique_id,\n",
    "    start = tbl_YAS_999_start_date,\n",
    "    next_day = ymd_hms(glue::glue(\"{as.Date(tbl_YAS_999_start_date + days(1))} {TimeClear}\")),\n",
    "    same_day = ymd_hms(glue::glue(\"{as.Date(tbl_YAS_999_start_date)} {TimeClear}\")),\n",
    "    bool_next_day = if_else(as.integer(hour(tbl_YAS_999_start_date)) > as.integer(str_sub(TimeClear, 1, 2)), TRUE, FALSE),\n",
    "    end = case_when(\n",
    "          nchar(TimeClear) == 19 & (str_sub(TimeClear, 3,3) == '/') ~ dmy_hms(TimeClear),\n",
    "          nchar(TimeClear) == 19 & (str_sub(TimeClear, 3,3) != '/') ~ ymd_hms(TimeClear),\n",
    "          bool_next_day == TRUE ~ next_day,\n",
    "          bool_next_day == FALSE ~ same_day,\n",
    "         TRUE ~ NA_POSIXct_\n",
    "     ),\n",
    "    imd_rank,\n",
    "    ethnicity_source_value,\n",
    "    imd_decile,\n",
    "    gender = case_when(\n",
    "     gender_source_value %in% c(\"1\", \"Male\", \"M\") ~ \"male\",\n",
    "     gender_source_value %in% c(\"2\", \"Female\", \"F\") ~ \"female\",\n",
    "     TRUE ~ NA_character_\n",
    "    ),\n",
    "    main_sex = case_when(\n",
    "     MainPatientSex == \"Male\" ~ \"male\",\n",
    "     MainPatientSex == \"Female\" ~ \"female\",\n",
    "     TRUE ~ NA_character_\n",
    "    ),\n",
    "    sex = coalesce(gender, main_sex),\n",
    "    age = as.integer(difftime(tbl_YAS_999_start_date, birth_datetime, unit = \"weeks\")/52),\n",
    "    GovtStdTOC,\n",
    "    ChiefComplaint,\n",
    "    DespatchCode\n",
    "    ) %>% select(-gender, -main_sex)"
   ]
  },
  {
   "cell_type": "code",
   "execution_count": null,
   "id": "cfa99860-c5ab-4c92-a063-ae91ecb367fb",
   "metadata": {},
   "outputs": [],
   "source": [
    "cad_df1  %>% head() # filter(is.na(tbl_YAS_999_end_date))"
   ]
  },
  {
   "cell_type": "code",
   "execution_count": null,
   "id": "740d3d30-666e-4dcb-82b6-46955f0fb4e4",
   "metadata": {},
   "outputs": [],
   "source": [
    "cad_df1 <- cad_df1 %>%\n",
    "  mutate(\n",
    "    # In the event that there is no end time, assuming incident takes approx 2 hours to complete\n",
    "   end = if_else(end < start, start + hours(2), end)   \n",
    "  )"
   ]
  },
  {
   "cell_type": "code",
   "execution_count": null,
   "id": "9e5c2b39-32aa-49a5-8d0b-ace0a808775f",
   "metadata": {},
   "outputs": [],
   "source": [
    "saveRDS(cad_df1, 'data/cad_df.rds')"
   ]
  },
  {
   "cell_type": "markdown",
   "id": "8c3aefe1-7a0d-46ee-a7cf-2354d29bc650",
   "metadata": {
    "tags": []
   },
   "source": [
    "# GP data"
   ]
  },
  {
   "cell_type": "code",
   "execution_count": null,
   "id": "7c806ebd-f828-41b1-b359-855deff220c0",
   "metadata": {},
   "outputs": [],
   "source": [
    "# Set of codes I curated from OpenCodeList that denote a clinician-patient consultation\n",
    "gp_codes_df <- read_csv(\"data/richard_pilbery-primary-care-clinician-patient-interaction-72708505.csv\")#\n",
    "\n",
    "dbWriteTable(con, glue::glue(\"yhcr-prd-phm-bia-core.CB_2121.gp_codes\"), gp_codes_df, overwrite = T) \n",
    "\n",
    "gp_codes_tbl <- tbl(con, glue::glue(\"yhcr-prd-phm-bia-core.CB_2121.gp_codes\"))"
   ]
  },
  {
   "cell_type": "code",
   "execution_count": null,
   "id": "d39c52ae-e5f4-4828-a297-83e6d807ac74",
   "metadata": {},
   "outputs": [],
   "source": [
    "gp_codes_tbl %>% glimpse()"
   ]
  },
  {
   "cell_type": "code",
   "execution_count": null,
   "id": "6411709f-98ec-4208-ab30-58842b71f0c3",
   "metadata": {},
   "outputs": [],
   "source": [
    "gp_tbl <- tbl(con, glue::glue(\"yhcr-prd-phm-bia-core.{gp_db}.tbl_srcode\")) %>% glimpse()"
   ]
  },
  {
   "cell_type": "code",
   "execution_count": null,
   "id": "ca207ceb-fca6-4126-98d6-58d333678d41",
   "metadata": {},
   "outputs": [],
   "source": [
    "gp_tbl <- tbl(con, glue::glue(\"yhcr-prd-phm-bia-core.{gp_db}.tbl_srcode\")) %>% #glimpse()\n",
    "  select(\n",
    "    person_id,\n",
    "    tbl_srcode_start_date,\n",
    "    tbl_srcode_end_date,\n",
    "    ctv3code,\n",
    "    ctv3text,\n",
    "    idevent,\n",
    "    gp_surgery_id = idorganisationvisibleto\n",
    "  ) %>%\n",
    "  filter(\n",
    "    tbl_srcode_start_date >= start_date,\n",
    "    tbl_srcode_end_date < end_date\n",
    "  ) %>% distinct() %>%\n",
    "  inner_join(\n",
    "    gp_codes_tbl, by=c(\"ctv3code\"=\"code\")\n",
    "  ) %>% distinct() %>%\n",
    "  left_join(person_lsoa_tbl, by=\"person_id\") "
   ]
  },
  {
   "cell_type": "code",
   "execution_count": null,
   "id": "e1ebb664-37be-4e13-a053-42539f2ef76f",
   "metadata": {},
   "outputs": [],
   "source": [
    "gp_tbl %>% glimpse()"
   ]
  },
  {
   "cell_type": "code",
   "execution_count": null,
   "id": "2657ffc0-df5d-4e86-b774-3f9754fd177b",
   "metadata": {},
   "outputs": [],
   "source": [
    "gp_df <- gp_tbl %>% collect(page_size = 25000) # page_size to avoid bigquery errors"
   ]
  },
  {
   "cell_type": "code",
   "execution_count": null,
   "id": "deec9255-d860-4fb2-b4b5-6153e03e604a",
   "metadata": {},
   "outputs": [],
   "source": [
    "gp_df %>% count() # 2505078 v2 same"
   ]
  },
  {
   "cell_type": "code",
   "execution_count": null,
   "id": "4d09aed0-783a-41f3-9660-6cf638f0404a",
   "metadata": {},
   "outputs": [],
   "source": [
    "gp_df2 <- gp_df %>%\n",
    "  group_by(idevent) %>% \n",
    "  mutate (\n",
    "    ctv = paste0(term, collapse = \", \")\n",
    "  ) %>% \n",
    "  ungroup() %>%\n",
    "  select(-ctv3code, -ctv3text, -term) %>%\n",
    "  distinct(idevent, .keep_all = T) %>%\n",
    "  transmute(\n",
    "      person_id,\n",
    "      gp_surgery_id,\n",
    "      start = tbl_srcode_start_date,\n",
    "      # Make consultation 10 mins if end time = start time\n",
    "      end = if_else(tbl_srcode_start_date == tbl_srcode_end_date, tbl_srcode_end_date + minutes(10), tbl_srcode_end_date),\n",
    "      ctv,\n",
    "      unique_id = glue::glue(\"GP_{row_number()}\"),\n",
    "      sex = case_when(\n",
    "         gender_source_value %in% c(\"1\", \"Male\", \"M\") ~ \"male\",\n",
    "         gender_source_value %in% c(\"2\", \"Female\", \"F\") ~ \"female\",\n",
    "         TRUE ~ NA_character_\n",
    "        ),\n",
    "      age = as.integer(difftime(tbl_srcode_start_date, birth_datetime, unit = \"weeks\")/52),\n",
    "      lsoa,\n",
    "      imd_decile,\n",
    "      imd_rank,\n",
    "      ethnicity_source_value\n",
    "    )"
   ]
  },
  {
   "cell_type": "code",
   "execution_count": null,
   "id": "5143b0cb-0ee1-455d-8820-0bc56c26c743",
   "metadata": {},
   "outputs": [],
   "source": [
    "gp_df2 %>% glimpse()"
   ]
  },
  {
   "cell_type": "code",
   "execution_count": null,
   "id": "c8b27cf9-822d-4cf1-9036-8ddb8c807ecb",
   "metadata": {},
   "outputs": [],
   "source": [
    "saveRDS(gp_df2, 'data/gp_df.rds')"
   ]
  },
  {
   "cell_type": "markdown",
   "id": "ad12b2cc-05a4-4fdf-88f8-150d7bd4afa0",
   "metadata": {
    "tags": []
   },
   "source": [
    "# Hospital data"
   ]
  },
  {
   "cell_type": "markdown",
   "id": "15f2be13-72eb-4c5b-aae8-612d9209f16c",
   "metadata": {},
   "source": [
    "Avoidable ED attendance HRG  IN ('VB07Z', 'VB08Z', 'VB09Z', 'VB11Z') AND not admitted AND not referred to another healthcare specialist AND did not die : from https://bmjopen.bmj.com/content/bmjopen/10/3/e032043.full.pdf\n",
    "\n",
    "O'Keeffe definition:\n",
    "\n",
    "FROM ARCYH UEC non urgent algorithm document:\n",
    "  --non urgent attendances are a first attendance (attendance category 01) \n",
    "to a type1 ED department (department type 01)\n",
    "\n",
    "AND not investigated in ED (except by urinalysis, pregnancy test or dental investigation) ECDS codes are (1088291000000101 or blank, 27171005, 167252002 / 67900009, 53115007) (investigation)\n",
    "CDS10 codes are 24,06,21,22, blank\n",
    "\n",
    "AND Not treated in ED (except by prescription, recording vital signs, dental treatment or guidance/advice) (treatment)\n",
    "(266712008,413334001,81733005, not applicable, blank)\n",
    "(07,22,30,56,99,blank)\n",
    "\n",
    "--AND Discharged completely from care in ED or referred to their GP (attendance disposal)\n",
    "(989501000000106,1066321000000107, 1066301000000103, 1066311000000101,182992009/3780001  )\n",
    "(02,03,12)\n",
    "\n"
   ]
  },
  {
   "cell_type": "markdown",
   "id": "09ceabdf-e903-4568-8fc0-4f57a2288e45",
   "metadata": {
    "tags": []
   },
   "source": [
    "## BRI in-patient data"
   ]
  },
  {
   "cell_type": "code",
   "execution_count": null,
   "id": "88d5ac05-7f56-4c92-8e81-ed5d3362ce1a",
   "metadata": {},
   "outputs": [],
   "source": [
    "bri_ip_tbl <- tbl(con, glue::glue(\"yhcr-prd-phm-bia-core.CB_FDM_Warehouse_V3.tbl_episode\")) %>% #glimpse()\n",
    "    select(person_id, tbl_episode_start_date, tbl_episode_end_date, diagnoses, diagnosis_1, procedures, procedure_1, gender, birth_year, birth_month) %>%\n",
    "    rename(\n",
    "        hosp_sex = gender\n",
    "    )"
   ]
  },
  {
   "cell_type": "code",
   "execution_count": null,
   "id": "c170853d-888c-4784-8afe-4d3c16aba25b",
   "metadata": {},
   "outputs": [],
   "source": [
    "bri_ip_tbl %>% glimpse()"
   ]
  },
  {
   "cell_type": "code",
   "execution_count": null,
   "id": "a1159abb-39a0-4c98-ab84-970c46cd9f08",
   "metadata": {},
   "outputs": [],
   "source": [
    "bri_ip_tbl2 <- bri_ip_tbl %>%\n",
    "    filter(\n",
    "        tbl_episode_start_date >= start_date,\n",
    "        tbl_episode_end_date < end_date\n",
    "    ) %>% \n",
    "    inner_join(person_lsoa_tbl, by=\"person_id\") %>%\n",
    "    distinct()"
   ]
  },
  {
   "cell_type": "code",
   "execution_count": null,
   "id": "3854ccbb-07ba-4828-bd38-cc74c9d6e7c4",
   "metadata": {},
   "outputs": [],
   "source": [
    "bri_ip_tbl2 %>% count() # 201365 vs 211727"
   ]
  },
  {
   "cell_type": "code",
   "execution_count": null,
   "id": "c0852805-7eb4-4251-846e-e8694275673f",
   "metadata": {},
   "outputs": [],
   "source": [
    "bri_ip_df <- bri_ip_tbl2 %>% collect()"
   ]
  },
  {
   "cell_type": "code",
   "execution_count": null,
   "id": "3329247b-db9a-4149-95e3-35b1e56f6902",
   "metadata": {},
   "outputs": [],
   "source": [
    "bri_ip_df %>% glimpse()"
   ]
  },
  {
   "cell_type": "code",
   "execution_count": null,
   "id": "104f10d1-c4ca-4d30-8740-6880b274dcdc",
   "metadata": {},
   "outputs": [],
   "source": [
    "saveRDS(bri_ip_df, 'data/bri_ip_df.rds')"
   ]
  },
  {
   "cell_type": "markdown",
   "id": "1cebf376-65d7-4dd7-89a2-38efa8ee530e",
   "metadata": {
    "tags": []
   },
   "source": [
    "## BRI ED data"
   ]
  },
  {
   "cell_type": "code",
   "execution_count": null,
   "id": "4a22b93b-e944-488a-ba29-aa04e980ba7a",
   "metadata": {},
   "outputs": [],
   "source": [
    "bri_ae_tbl <- tbl(con, glue::glue(\"yhcr-prd-phm-bia-core.CB_FDM_Warehouse_V3.tbl_ae\")) %>% #glimpse()\n",
    "    select(\n",
    "        person_id, \n",
    "        hosp_age = age_at_attendance_date,\n",
    "        hosp_sex = gender,\n",
    "        tbl_ae_start_date, \n",
    "        tbl_ae_end_date, \n",
    "        department_type,\n",
    "        identifier, \n",
    "        arrival_mode_description, \n",
    "        attendance_disposal,\n",
    "        attendance_disposal_description, \n",
    "        hrg_code, \n",
    "        starts_with('investigation'), \n",
    "        starts_with('treatment'), \n",
    "        starts_with('diagnosis')\n",
    "    )"
   ]
  },
  {
   "cell_type": "code",
   "execution_count": null,
   "id": "263fe5fb-6bc6-4c3b-a25a-a55d59d1249e",
   "metadata": {},
   "outputs": [],
   "source": [
    "bri_ae_tbl2 <- bri_ae_tbl %>%\n",
    "    filter(\n",
    "        tbl_ae_start_date >= start_date,\n",
    "        tbl_ae_end_date < end_date\n",
    "    ) %>% \n",
    "    inner_join(person_lsoa_tbl, by=\"person_id\") %>%\n",
    "    distinct()"
   ]
  },
  {
   "cell_type": "code",
   "execution_count": null,
   "id": "d4d2f7a9-935f-4c68-b1bd-ee6b27ba23d0",
   "metadata": {},
   "outputs": [],
   "source": [
    "bri_ae_df <- bri_ae_tbl2 %>% collect()"
   ]
  },
  {
   "cell_type": "code",
   "execution_count": null,
   "id": "032c9c28-3bbc-4b4f-9e2a-aef7362692ca",
   "metadata": {},
   "outputs": [],
   "source": [
    "bri_ae_df %>% count() # 163319 v2 same"
   ]
  },
  {
   "cell_type": "code",
   "execution_count": null,
   "id": "dc88d259-c7af-43ac-8dd7-9599e2ab8e47",
   "metadata": {},
   "outputs": [],
   "source": [
    "bri_ae_df %>% count(attendance_disposal_description, sort = T)"
   ]
  },
  {
   "cell_type": "code",
   "execution_count": null,
   "id": "a3d39500-33a3-4fad-bca6-40642ca4ffb8",
   "metadata": {},
   "outputs": [],
   "source": [
    "# Update to Original O'Keeffee criteria:\n",
    "\n",
    "# ED Treatment complete  81370   Include as potentially avoidable \n",
    "# Admitted as inpatient 42752    **  Not avoidable **\n",
    "# Streamed to GP / primary care 11285   Include as potentially avoidable \n",
    "# Left after assessment before treatment 6333    Include as potentially avoidable \n",
    "# Left before initial assessment 4090  Include as potentially avoidable \n",
    "# Left after assessment other ED 3367   Include as potentially avoidable\n",
    "# Streamed to Urgent Care Centre 789  Include as potentially avoidable \n",
    "# Streamed to ophthalmology service 153   Include as potentially avoidable \n",
    "# Died in the Emergency Care facility 130 **  Not avoidable **\n",
    "# Streamed to Amb Care service 118 Include as potentially avoidable  - REFUTED  ** NON-AVOIDABLE **\n",
    "# System Generated 118  ??\n",
    "# Streamed to mental health service 43  Include as potentially avoidable\n",
    "# Streamed to Emergency Department 35  ?? I guess this is for cases like seeing children at STH - probably ** not avoidable **\n",
    "# Streamed to dental service 17  Include as potentially avoidable\n",
    "# Dead on Arrival 13  ** Not avoidable **\n",
    "# Discharged with Consent 5  Include as potentially avoidable\n",
    "# Streamed to pharmacy service 4  Include as potentially avoidable \n",
    "# Streamed to falls service 3  Include as potentially avoidable - REFUTED ** NON-AVOIDABLE **\n",
    "# Streamed to frailty service 1  Include as potentially avoidable - REFUTED ** NON-AVOIDABLE **"
   ]
  },
  {
   "cell_type": "code",
   "execution_count": null,
   "id": "6144d306-7a45-41d4-957e-c9f6dae9b945",
   "metadata": {},
   "outputs": [],
   "source": [
    "#avoidable_hrg_codes <- c('VB07Z', 'VB08Z', 'VB09Z', 'VB11Z')\n",
    "non_avoidable_disposal <- c('Admitted as inpatient', 'Died in the Emergency Care facility', 'Streamed to Emergency Department', 'Dead on Arrival', 'Streamed to Amb Care service', 'Streamed to falls service', 'Streamed to frailty service')\n",
    "#bri_ae_df %>% count(attendance_disposal_description, sort = T)\n",
    "avoidable_investigation_codes <- c('24', 'NULL', '06', '21', '22')\n",
    "avoidable_treatment_codes <- c('07', '22', '30', '56', '57', '99', 'NULL')\n",
    "avoidable_disposal_codes <- c('02', '03', '12')"
   ]
  },
  {
   "cell_type": "code",
   "execution_count": null,
   "id": "d472780b-fd2e-412b-a8f9-bb17f7c70e18",
   "metadata": {},
   "outputs": [],
   "source": [
    "bri_ae_df %>% count() #163319 v2 same\n"
   ]
  },
  {
   "cell_type": "code",
   "execution_count": null,
   "id": "e4010286-c665-43e4-8833-c5982420f494",
   "metadata": {},
   "outputs": [],
   "source": [
    "bri_ae_df1 <- bri_ae_df %>% #head(50) %>%\n",
    "    mutate(\n",
    "        avoid_invest = case_when(\n",
    "            #if_all(starts_with('investigation'), ~ .x == 'NULL') ~ 1,\n",
    "            if_all(starts_with('investigation'), ~ .x %in% avoidable_investigation_codes) ~ 1,\n",
    "            TRUE ~ 0\n",
    "        ),\n",
    "        avoid_treat = case_when(\n",
    "            if_all(starts_with('treatment'), ~ .x %in% avoidable_treatment_codes) ~ 1,\n",
    "            TRUE ~ 0\n",
    "        ),\n",
    "        avoid_disp = case_when(\n",
    "            # Based on Sue Croft consult, using revised version\n",
    "            #attendance_disposal %in% avoidable_disposal_codes ~ 1,\n",
    "            !attendance_disposal_description %in% non_avoidable_disposal ~ 1,\n",
    "            TRUE ~ 0\n",
    "        ),\n",
    "        avoidable_admission = if_else(avoid_invest == 1 & avoid_treat == 1 & avoid_disp == 1, 1, 0)\n",
    "    )"
   ]
  },
  {
   "cell_type": "code",
   "execution_count": null,
   "id": "5d3e59ae-8a43-4812-aab7-a29f27920c52",
   "metadata": {},
   "outputs": [],
   "source": [
    "bri_ae_df1 %>% count(avoidable_admission) # 1 - 30068 v2 1 - 27689"
   ]
  },
  {
   "cell_type": "code",
   "execution_count": null,
   "id": "77601498-c8bc-4ae3-a0de-4330d84449d1",
   "metadata": {},
   "outputs": [],
   "source": [
    "bri_ae_df2 <- bri_ae_df1 %>%\n",
    "    select(-starts_with('investigation'), -starts_with('treatment'), -starts_with('diagnosis'), -identifier, -department_type) %>%\n",
    "    distinct()"
   ]
  },
  {
   "cell_type": "code",
   "execution_count": null,
   "id": "5214f623-0913-4d6e-9075-c46174939f75",
   "metadata": {},
   "outputs": [],
   "source": [
    "bri_ae_df2 %>% glimpse()"
   ]
  },
  {
   "cell_type": "code",
   "execution_count": null,
   "id": "e350dd75-6031-4b45-aa4d-bc539b8f8b9a",
   "metadata": {},
   "outputs": [],
   "source": [
    "saveRDS(bri_ae_df2, 'data/bri_ae_df.rds')"
   ]
  },
  {
   "cell_type": "markdown",
   "id": "72dfa883-7e5a-44a6-afe1-e13fe185fe3d",
   "metadata": {
    "tags": []
   },
   "source": [
    "## Airedale IP data"
   ]
  },
  {
   "cell_type": "code",
   "execution_count": null,
   "id": "a22dae28-34bb-4528-b4c8-a54b6946dabe",
   "metadata": {},
   "outputs": [],
   "source": [
    "airedale_ip_tbla <- tbl(con, glue::glue(\"yhcr-prd-phm-bia-core.CB_FDM_Airedale.tbl_SUS_Airedale_APC_20200701_to_20220710_mrg\")) %>% #glimpse()\n",
    "    transmute(\n",
    "        person_id,\n",
    "        start = tbl_SUS_Airedale_APC_20200701_to_20220710_mrg_start_date,\n",
    "        end = tbl_SUS_Airedale_APC_20200701_to_20220710_mrg_end_date,\n",
    "        hosp_sex = sex,\n",
    "        dob\n",
    "   )\n",
    "\n",
    "airedale_ip_tblb <- tbl(con, glue::glue(\"yhcr-prd-phm-bia-core.CB_FDM_Airedale.tbl_SUS_Airedale_APC_20220601_to_Current\")) %>% #glimpse()\n",
    "    transmute(\n",
    "        person_id,\n",
    "        start = tbl_SUS_Airedale_APC_20220601_to_Current_start_date,\n",
    "        end = tbl_SUS_Airedale_APC_20220601_to_Current_end_date,\n",
    "        hosp_sex = sex,\n",
    "        dob\n",
    "   )"
   ]
  },
  {
   "cell_type": "code",
   "execution_count": null,
   "id": "abac7d3b-2eac-4295-8b98-be90d4601353",
   "metadata": {},
   "outputs": [],
   "source": [
    "airedale_ip_tbl <- airedale_ip_tbla %>% union_all(airedale_ip_tblb) %>% distinct()"
   ]
  },
  {
   "cell_type": "code",
   "execution_count": null,
   "id": "0464b782-4fb6-46eb-b1db-b00ea4cdabe7",
   "metadata": {},
   "outputs": [],
   "source": [
    "airedale_ip_tbl %>% count() # 210528 v2 231550"
   ]
  },
  {
   "cell_type": "code",
   "execution_count": null,
   "id": "ed73efa7-0888-48b4-b78e-867c884badbb",
   "metadata": {},
   "outputs": [],
   "source": [
    "airedale_ip_tbl2 <- airedale_ip_tbl %>%\n",
    "    filter(\n",
    "        start >= start_date,\n",
    "        end < end_date\n",
    "    ) %>% \n",
    "    inner_join(person_lsoa_tbl, by=\"person_id\") %>%\n",
    "    distinct()"
   ]
  },
  {
   "cell_type": "code",
   "execution_count": null,
   "id": "5baa42a9-ad93-4b9e-abdd-5f2bdca45d0d",
   "metadata": {},
   "outputs": [],
   "source": [
    "airedale_ip_tbl2 %>% count() # 83566 v2 same"
   ]
  },
  {
   "cell_type": "code",
   "execution_count": null,
   "id": "79d6da4c-1df7-4fb2-a02f-e9e9dd98779b",
   "metadata": {},
   "outputs": [],
   "source": [
    "airedale_ip_df <- airedale_ip_tbl2 %>% collect()"
   ]
  },
  {
   "cell_type": "code",
   "execution_count": null,
   "id": "f749fa90-e804-48ad-858b-9ffd8c369fad",
   "metadata": {},
   "outputs": [],
   "source": [
    "saveRDS(airedale_ip_df, 'data/airedale_ip_df.rds')"
   ]
  },
  {
   "cell_type": "markdown",
   "id": "657cb4f6-897e-469b-8baa-701e91ec6271",
   "metadata": {
    "tags": []
   },
   "source": [
    "## Airedale ED data"
   ]
  },
  {
   "cell_type": "code",
   "execution_count": null,
   "id": "df731fa7-221d-4463-90ec-9f0a61d57b12",
   "metadata": {},
   "outputs": [],
   "source": [
    "airedale_ed_tbla <- tbl(con, glue::glue(\"yhcr-prd-phm-bia-core.CB_FDM_Airedale.tbl_SUS_Airedale_ECDS_20150401_to_20220710_mrg\")) %>% #glimpse()\n",
    "    transmute(\n",
    "        person_id,\n",
    "        start = tbl_SUS_Airedale_ECDS_20150401_to_20220710_mrg_start_date,\n",
    "        end = tbl_SUS_Airedale_ECDS_20150401_to_20220710_mrg_end_date,\n",
    "        disch_dest_snmdct,\n",
    "        disch_followup_snmdct,\n",
    "        invest_group,\n",
    "        treat_group,\n",
    "        category,\n",
    "        hosp_sex = sex,\n",
    "        dateb,\n",
    "        dob\n",
    "   )\n",
    "\n",
    "airedale_ed_tblb <- tbl(con, glue::glue(\"yhcr-prd-phm-bia-core.CB_FDM_Airedale.tbl_SUS_Airedale_ECDS_20220601_to_Current\")) %>% #glimpse()\n",
    "    transmute(\n",
    "        person_id,\n",
    "        start = tbl_SUS_Airedale_ECDS_20220601_to_Current_start_date,\n",
    "        end = tbl_SUS_Airedale_ECDS_20220601_to_Current_end_date,\n",
    "        disch_dest_snmdct,\n",
    "        disch_followup_snmdct,\n",
    "        invest_group,\n",
    "        treat_group,\n",
    "        category,\n",
    "        hosp_age = age_at_cds,\n",
    "        hosp_sex = sex\n",
    "    )"
   ]
  },
  {
   "cell_type": "code",
   "execution_count": null,
   "id": "29897e6c-6b4a-46e8-937f-ae8bdbbba4f7",
   "metadata": {},
   "outputs": [],
   "source": [
    "airedale_ed_tbl <- airedale_ed_tbla %>% union_all(airedale_ed_tblb) %>% distinct()"
   ]
  },
  {
   "cell_type": "code",
   "execution_count": null,
   "id": "193e066a-a3a9-43a6-b8a9-1b4220ff00e3",
   "metadata": {},
   "outputs": [],
   "source": [
    "airedale_ed_tbl2 <- airedale_ed_tbl %>%\n",
    "    filter(\n",
    "        start >= start_date,\n",
    "        end < end_date\n",
    "    ) %>% \n",
    "    inner_join(person_lsoa_tbl, by=\"person_id\") %>%\n",
    "    distinct()"
   ]
  },
  {
   "cell_type": "code",
   "execution_count": null,
   "id": "629ac310-05fe-47a2-8c50-73de821a1649",
   "metadata": {},
   "outputs": [],
   "source": [
    "airedale_ed_tbl2 %>% count() # 71373 v2 76566"
   ]
  },
  {
   "cell_type": "code",
   "execution_count": null,
   "id": "72cbb45d-e74f-43a6-adfa-24d98814caaa",
   "metadata": {},
   "outputs": [],
   "source": [
    "airedale_ed_df <- airedale_ed_tbl2 %>% collect()"
   ]
  },
  {
   "cell_type": "code",
   "execution_count": null,
   "id": "d174de52-4b02-45a6-8efe-deb98d4b74a4",
   "metadata": {},
   "outputs": [],
   "source": [
    "airedale_ed_df %>% glimpse()"
   ]
  },
  {
   "cell_type": "code",
   "execution_count": null,
   "id": "21e05032-729d-4a2a-8e64-1200fa1074c9",
   "metadata": {},
   "outputs": [],
   "source": [
    "airedale_ed_df %>% select(invest_group) %>% head()"
   ]
  },
  {
   "cell_type": "code",
   "execution_count": null,
   "id": "448c1aeb-efeb-4bd8-b4a8-a118c346d4db",
   "metadata": {},
   "outputs": [],
   "source": [
    "airedale_ed_df2 <- airedale_ed_df %>% #head() %>%\n",
    "    mutate(\n",
    "        avoidable_admission = if_else(\n",
    "            category == \"1\" & (\n",
    "                (as.numeric(disch_dest_snmdct) %in% c(989501000000106,1066321000000107, 1066301000000103, 1066311000000101,182992009,3780001) |\n",
    "                as.numeric(disch_followup_snmdct) %in% c(989501000000106,1066321000000107, 1066301000000103, 1066311000000101,182992009,3780001)\n",
    "                 ) &\n",
    "                (grepl(\"1088291000000101|27171005|167252002|67900009|53115007\", invest_group) | is.na(invest_group)) &\n",
    "                (grepl(\"266712008|413334001|81733005\", treat_group) | is.na(treat_group))\n",
    "            ), 1, 0)\n",
    "    )"
   ]
  },
  {
   "cell_type": "code",
   "execution_count": null,
   "id": "24a0bd7b-7d1f-4327-95c8-413b3fae0f7a",
   "metadata": {},
   "outputs": [],
   "source": [
    "airedale_ed_df2 %>% count(avoidable_admission) # v2 1 - 18993"
   ]
  },
  {
   "cell_type": "code",
   "execution_count": null,
   "id": "74fcdd44-934d-4756-940c-19e1a5cedf16",
   "metadata": {},
   "outputs": [],
   "source": [
    "airedale_ed_df2 %>% glimpse()"
   ]
  },
  {
   "cell_type": "code",
   "execution_count": null,
   "id": "f610c283-5d87-4ae7-8607-0eba31a3468f",
   "metadata": {},
   "outputs": [],
   "source": [
    "saveRDS(airedale_ed_df2, 'data/airedale_ed_df.rds')"
   ]
  },
  {
   "cell_type": "markdown",
   "id": "ccef5867-e3fa-44a9-baaa-fa059b069349",
   "metadata": {},
   "source": [
    "## Calderdale IP data"
   ]
  },
  {
   "cell_type": "code",
   "execution_count": null,
   "id": "8173afe0-cb94-40c8-adfe-7370e9cf6aa6",
   "metadata": {},
   "outputs": [],
   "source": [
    "calderdale_ip_tbl <- tbl(con, glue::glue(\"yhcr-prd-phm-bia-core.CB_MYSPACE_RP_CalderdaleSUS.src_SUS_Calderdale_APC_CM_20220210_to_20231116_Part1\")) %>% #glimpse()\n",
    "    transmute(\n",
    "        person_id,\n",
    "        hosp_sex = sex,\n",
    "        dob = NA,\n",
    "        # Times are all null\n",
    "        start = PARSE_DATE('%Y%m%d',start_date_hospital_provider_spell),\n",
    "        end = PARSE_DATE('%Y%m%d',discharge_date_from_hospital_provider_spell)\n",
    "    ) "
   ]
  },
  {
   "cell_type": "code",
   "execution_count": null,
   "id": "2f31e839-e5cb-4f6e-85c6-688b997a8de7",
   "metadata": {},
   "outputs": [],
   "source": [
    "calderdale_ip_tbl %>% glimpse()"
   ]
  },
  {
   "cell_type": "code",
   "execution_count": null,
   "id": "ea304c7b-f879-4594-bf60-ee5a5b82fccd",
   "metadata": {},
   "outputs": [],
   "source": [
    "calderdale_ip_tbl %>%\n",
    "mutate(\n",
    "    themonth = LAST_DAY(start)\n",
    ") %>%\n",
    "filter(!is.na(person_id)) %>%\n",
    "count(themonth) %>%\n",
    "arrange(themonth) %>% print(n=20)"
   ]
  },
  {
   "cell_type": "code",
   "execution_count": null,
   "id": "90ca2ec7-a3c8-428b-82c9-ab5abd168f06",
   "metadata": {},
   "outputs": [],
   "source": [
    "calderdale_ip_tbl2 <- calderdale_ip_tbl %>%\n",
    "    filter(\n",
    "        start >= PARSE_DATE('%Y-%m-%d',start_date),\n",
    "        end < PARSE_DATE('%Y-%m-%d',end_date)\n",
    "    ) %>%\n",
    "    inner_join(person_lsoa_tbl, by=\"person_id\") %>%\n",
    "    distinct()"
   ]
  },
  {
   "cell_type": "code",
   "execution_count": null,
   "id": "17934d4e-d5bf-44b8-8e73-48299015e459",
   "metadata": {},
   "outputs": [],
   "source": [
    "calderdale_ip_tbl2 %>% count() # 9684 v2 same"
   ]
  },
  {
   "cell_type": "code",
   "execution_count": null,
   "id": "f030e9fb-eb8c-439a-b6c1-e9c1a06475f7",
   "metadata": {},
   "outputs": [],
   "source": [
    "# Need Jan up to mid-Feb 2022"
   ]
  },
  {
   "cell_type": "code",
   "execution_count": null,
   "id": "410001c2-3f8b-4dc9-907f-ed0be039d3cf",
   "metadata": {},
   "outputs": [],
   "source": [
    "calderdale_ip_tbl3 <- tbl(con, glue::glue(\"yhcr-prd-phm-bia-core.CB_STAGING_DATABASE_SUS_Calderdale_FDM_Format.tbl_SUS_Calderdale_APC_CM_20170618_To_20220731\")) %>% #glimpse()\n",
    "    transmute(\n",
    "        person_id,\n",
    "        hosp_sex = sex,\n",
    "        hosp_age = age_at_start_of_episode,\n",
    "        # Times are all null\n",
    "        start = PARSE_DATE('%Y%m%d',start_date_hospital_provider_spell),\n",
    "        end = PARSE_DATE('%Y%m%d',discharge_date_from_hospital_provider_spell)\n",
    "    ) "
   ]
  },
  {
   "cell_type": "code",
   "execution_count": null,
   "id": "0a45bb03-eb54-4fa9-ba8c-611363f96743",
   "metadata": {},
   "outputs": [],
   "source": [
    "calderdale_ip_tbl3 %>% glimpse()"
   ]
  },
  {
   "cell_type": "code",
   "execution_count": null,
   "id": "6ec2239a-c31d-4865-89b8-78702e9a0e4c",
   "metadata": {},
   "outputs": [],
   "source": [
    "calderdale_ip_tbl3  %>%\n",
    "mutate(\n",
    "    themonth = LAST_DAY(start)\n",
    ") %>%\n",
    "filter(!is.na(person_id)) %>%\n",
    "count(themonth) %>%\n",
    "arrange(desc(themonth)) %>% print(n=20)"
   ]
  },
  {
   "cell_type": "code",
   "execution_count": null,
   "id": "03bca842-de88-450b-b7ec-de91cd43e7ca",
   "metadata": {},
   "outputs": [],
   "source": [
    "calderdale_ip_tbl4 <- calderdale_ip_tbl3 %>%\n",
    "    filter(\n",
    "        start >= PARSE_DATE('%Y-%m-%d',start_date),\n",
    "        end < PARSE_DATE('%Y-%m-%d',end_date)\n",
    "    ) %>%\n",
    "    inner_join(gp_person_tbl, by=\"person_id\") %>%\n",
    "    distinct()"
   ]
  },
  {
   "cell_type": "code",
   "execution_count": null,
   "id": "fcd695ce-9aae-44b1-81f1-a32248758a5f",
   "metadata": {},
   "outputs": [],
   "source": [
    "calderdale_ip_tbl4 %>% count() # 4612 v2 same"
   ]
  },
  {
   "cell_type": "code",
   "execution_count": null,
   "id": "4ea5c23f-bb45-49ce-8fa2-4c42c0110483",
   "metadata": {},
   "outputs": [],
   "source": [
    "calderdale_ip_df <- calderdale_ip_tbl2 %>% collect() %>% rename(hosp_age = dob)\n",
    "calderdale_ip_df2 <- calderdale_ip_tbl4 %>% collect() %>% mutate(hosp_age = as.integer(hosp_age))"
   ]
  },
  {
   "cell_type": "code",
   "execution_count": null,
   "id": "9b2e245f-570e-4709-9090-0ccb0aaff8e0",
   "metadata": {},
   "outputs": [],
   "source": [
    "calderdale_ip_df %>% glimpse()"
   ]
  },
  {
   "cell_type": "code",
   "execution_count": null,
   "id": "7dd0731a-ad82-48a6-bc33-657d1adcb774",
   "metadata": {},
   "outputs": [],
   "source": [
    "calderdale_ip_final_df <- bind_rows(calderdale_ip_df, calderdale_ip_df2) %>% distinct()"
   ]
  },
  {
   "cell_type": "code",
   "execution_count": null,
   "id": "33ae9da0-78ad-412c-b97f-c8ec7cea23c8",
   "metadata": {},
   "outputs": [],
   "source": [
    "calderdale_ip_final_df %>% count() # 14764 v2 14296"
   ]
  },
  {
   "cell_type": "code",
   "execution_count": null,
   "id": "db6d5400-7f51-4c07-88c0-8eb21a3a0771",
   "metadata": {},
   "outputs": [],
   "source": [
    "calderdale_ip_final_df %>% glimpse()"
   ]
  },
  {
   "cell_type": "code",
   "execution_count": null,
   "id": "fabc9241-f9cb-41a3-a976-526c57a7245e",
   "metadata": {},
   "outputs": [],
   "source": [
    "saveRDS(calderdale_ip_final_df, 'data/calderdale_ip_df.rds')"
   ]
  },
  {
   "cell_type": "markdown",
   "id": "98ee0e97-cdbc-4ee1-a55e-da3c9b63427b",
   "metadata": {},
   "source": [
    "## Calderdale ED data"
   ]
  },
  {
   "cell_type": "code",
   "execution_count": null,
   "id": "a2c16dcb-36ff-4a13-8c74-a4fb36d71c09",
   "metadata": {},
   "outputs": [],
   "source": [
    "calderdale_ed_tbl <- tbl(con, \"yhcr-prd-phm-bia-core.CB_STAGING_DATABASE_SUS_Calderdale_FDM_Format.tbl_SUS_Calderdale_EC_Backward_Compatible_20170701_To_20220731\") %>% #glimpse()\n",
    "    select(\n",
    "        person_id,\n",
    "        ed_age = age_at_start_of_episode,\n",
    "        ed_sex = sex,\n",
    "        tbl_SUS_Calderdale_EC_Backward_Compatible_20170701_To_20220731_start_date,\n",
    "        tbl_SUS_Calderdale_EC_Backward_Compatible_20170701_To_20220731_end_date,\n",
    "        starts_with('accident_and_emergency_investigation'), \n",
    "        starts_with('accident_and_emergency_treatment'), \n",
    "        starts_with('accident_and_emergency_diagnosis'),\n",
    "        aande_attendance_category,\n",
    "        aande_attendance_disposal\n",
    "    ) %>%\n",
    "    mutate(\n",
    "        start = tbl_SUS_Calderdale_EC_Backward_Compatible_20170701_To_20220731_start_date,\n",
    "        end = tbl_SUS_Calderdale_EC_Backward_Compatible_20170701_To_20220731_end_date\n",
    "    )"
   ]
  },
  {
   "cell_type": "code",
   "execution_count": null,
   "id": "d35532a4-8db7-4ed0-b8bc-f7a925d6d58c",
   "metadata": {},
   "outputs": [],
   "source": [
    "calderdale_ed_tbl %>% count(aande_attendance_disposal) %>% arrange(desc(n))"
   ]
  },
  {
   "cell_type": "code",
   "execution_count": null,
   "id": "47b7f06f-3922-42e0-b703-4c15fdf85473",
   "metadata": {},
   "outputs": [],
   "source": [
    "calderdale_ed_tbl2 <- calderdale_ed_tbl %>%\n",
    "    filter(\n",
    "        start >= start_date,\n",
    "        end < end_date\n",
    "    ) %>%\n",
    "    inner_join(person_lsoa_tbl, by=\"person_id\") %>%\n",
    "    distinct()"
   ]
  },
  {
   "cell_type": "code",
   "execution_count": null,
   "id": "7538b37a-a266-4493-bbf8-f9c8fe0aef6b",
   "metadata": {},
   "outputs": [],
   "source": [
    "calderdale_ed_tbl2 %>% count() # 11807 v2 same"
   ]
  },
  {
   "cell_type": "code",
   "execution_count": null,
   "id": "efc7883d-465a-4a2b-bc65-159786ef6560",
   "metadata": {},
   "outputs": [],
   "source": [
    "calderdale_ed_tbl3 <- tbl(con, \"yhcr-prd-phm-bia-core.CB_MYSPACE_RP_CalderdaleSUS.src_SUS_Calderdale_EC_Backward_Compatible_CM_20220601_to_20230930\") %>% #glimpse()\n",
    "    select(\n",
    "        person_id,\n",
    "        ed_age = age_at_start_of_episode,\n",
    "        ed_sex = sex,\n",
    "        arrival_date,\n",
    "        arrival_time,\n",
    "        aande_departure_date,\n",
    "        aande_departure_time,\n",
    "        starts_with('accident_and_emergency_investigation'), \n",
    "        starts_with('accident_and_emergency_treatment'), \n",
    "        starts_with('accident_and_emergency_diagnosis'),\n",
    "        aande_attendance_category,\n",
    "        aande_attendance_disposal\n",
    "    ) %>%\n",
    "    inner_join(person_lsoa_tbl, by=\"person_id\") %>%\n",
    "    distinct()"
   ]
  },
  {
   "cell_type": "code",
   "execution_count": null,
   "id": "62ce6ace-c4d3-445b-8d4f-17f00088c877",
   "metadata": {},
   "outputs": [],
   "source": [
    "calderdale_ed_df <- calderdale_ed_tbl2 %>% collect() %>% select(-starts_with('tbl_SUS_Calderdale')) #%>% mutate(ed_age = as.integer(ed_age))"
   ]
  },
  {
   "cell_type": "code",
   "execution_count": null,
   "id": "fcb15311-38e8-4610-913b-e411f0b9e5c4",
   "metadata": {},
   "outputs": [],
   "source": [
    "calderdale_ed_dfa <- calderdale_ed_df %>% #head(n=100) %>%\n",
    "    transmute(\n",
    "        person_id,\n",
    "        start,\n",
    "        end,\n",
    "        ed_sex = case_when(\n",
    "            ed_sex == \"1\" ~ \"male\",\n",
    "            ed_sex == \"2\" ~ \"female\",\n",
    "            TRUE ~ NA_character_\n",
    "        ),\n",
    "        ed_age = as.integer(ed_age),\n",
    "        avoid_invest = case_when(\n",
    "            #if_all(starts_with('investigation'), ~ .x == 'NULL') ~ 1,\n",
    "            if_all(starts_with('accident_and_emergency_investigation'), ~ is.na(.x) | (.x %in% avoidable_investigation_codes)) ~ 1,\n",
    "            TRUE ~ 0\n",
    "        ),\n",
    "        avoid_treat = case_when(\n",
    "            if_all(starts_with('accident_and_emergency_treatment'), ~ is.na(.x) | (.x %in% avoidable_treatment_codes)) ~ 1,\n",
    "            TRUE ~ 0\n",
    "        ),\n",
    "        avoid_disp = case_when(\n",
    "            # Based on Sue Croft consult, using revised version\n",
    "            #attendance_disposal %in% avoidable_disposal_codes ~ 1,\n",
    "            !aande_attendance_disposal %in% avoidable_disposal_codes ~ 1,\n",
    "            TRUE ~ 0\n",
    "        ),\n",
    "        avoidable_admission = if_else(avoid_invest == 1 & avoid_treat == 1 & avoid_disp == 1, 1, 0),\n",
    "        imd_rank,\n",
    "        imd_decile,\n",
    "        lsoa,\n",
    "        birth_datetime,\n",
    "        ethnicity_source_value\n",
    "    )"
   ]
  },
  {
   "cell_type": "code",
   "execution_count": null,
   "id": "29a63cc5-c01c-41b1-949a-be35ce04e3a4",
   "metadata": {},
   "outputs": [],
   "source": [
    "calderdale_ed_dfa %>% glimpse()\n"
   ]
  },
  {
   "cell_type": "code",
   "execution_count": null,
   "id": "413b7053-bcc0-4a31-900b-e1a6319e07ac",
   "metadata": {},
   "outputs": [],
   "source": [
    "calderdale_ed_df2 <- calderdale_ed_tbl3 %>% collect()"
   ]
  },
  {
   "cell_type": "code",
   "execution_count": null,
   "id": "a2924009-26f1-466d-8d48-a4a5428efc8a",
   "metadata": {},
   "outputs": [],
   "source": [
    "# Fix new data dates"
   ]
  },
  {
   "cell_type": "code",
   "execution_count": null,
   "id": "94bf28d8-b3b3-4a4c-b0ce-eb17e6c13c5c",
   "metadata": {},
   "outputs": [],
   "source": [
    "calderdale_ed_df3 <- calderdale_ed_df2 %>% #glimpse()\n",
    "    transmute(\n",
    "        person_id,\n",
    "        ed_age = as.integer(ed_age),\n",
    "        ed_sex = case_when(\n",
    "            ed_sex == \"1\" ~ \"male\",\n",
    "            ed_sex == \"2\" ~ \"female\",\n",
    "            TRUE ~ NA_character_\n",
    "        ),\n",
    "        avoid_invest = case_when(\n",
    "            #if_all(starts_with('investigation'), ~ .x == 'NULL') ~ 1,\n",
    "            if_all(starts_with('accident_and_emergency_investigation'), ~ is.na(.x) | (.x %in% avoidable_investigation_codes)) ~ 1,\n",
    "            TRUE ~ 0\n",
    "        ),\n",
    "        avoid_treat = case_when(\n",
    "            if_all(starts_with('accident_and_emergency_treatment'), ~ is.na(.x) | (.x %in% avoidable_treatment_codes)) ~ 1,\n",
    "            TRUE ~ 0\n",
    "        ),\n",
    "        avoid_disp = case_when(\n",
    "            # Based on Sue Croft consult, using revised version\n",
    "            #attendance_disposal %in% avoidable_disposal_codes ~ 1,\n",
    "            !aande_attendance_disposal %in% avoidable_disposal_codes ~ 1,\n",
    "            TRUE ~ 0\n",
    "        ),\n",
    "        avoidable_admission = if_else(avoid_invest == 1 & avoid_treat == 1 & avoid_disp == 1, 1, 0) ,\n",
    "        #start_dt = paste(arrival_date, arrival_time),\n",
    "        #end_dt = paste(aande_departure_date, aande_departure_time),\n",
    "        start = ymd_hm(paste(arrival_date, arrival_time)),\n",
    "        end = ymd_hms(paste(aande_departure_date, aande_departure_time)),\n",
    "        imd_rank,\n",
    "        imd_decile,\n",
    "        lsoa,\n",
    "        birth_datetime,\n",
    "        ethnicity_source_value\n",
    "    ) %>%\n",
    "    filter(\n",
    "        start >= start_date,\n",
    "        end < end_date\n",
    "    )"
   ]
  },
  {
   "cell_type": "code",
   "execution_count": null,
   "id": "8a308c85-7fbc-426e-972d-d717350031f2",
   "metadata": {},
   "outputs": [],
   "source": [
    "calderdale_ed_df3 %>% count() # 22806 v2 same"
   ]
  },
  {
   "cell_type": "code",
   "execution_count": null,
   "id": "1e0017f9-b47c-4683-b95f-5d389f8028ab",
   "metadata": {},
   "outputs": [],
   "source": [
    "calderdale_ed_df3 %>% glimpse()"
   ]
  },
  {
   "cell_type": "code",
   "execution_count": null,
   "id": "08e4399f-816c-488d-ac37-38be9c7274b1",
   "metadata": {},
   "outputs": [],
   "source": [
    "calderdale_ed_df3 %>% count(avoidable_admission) # v2 1- 1713"
   ]
  },
  {
   "cell_type": "code",
   "execution_count": null,
   "id": "7051f445-bc7e-471d-a986-3079dd4b4779",
   "metadata": {},
   "outputs": [],
   "source": [
    "calderdale_ed_df4 <- bind_rows(calderdale_ed_dfa, calderdale_ed_df3)"
   ]
  },
  {
   "cell_type": "code",
   "execution_count": null,
   "id": "b4aaf0bc-c671-44c5-b495-c8a2a12088fd",
   "metadata": {},
   "outputs": [],
   "source": [
    "calderdale_ed_df4 %>% glimpse()"
   ]
  },
  {
   "cell_type": "code",
   "execution_count": null,
   "id": "ec534b8f-01ca-4720-b9fd-049b8898e1c2",
   "metadata": {},
   "outputs": [],
   "source": [
    "calderdale_ed_df4 %>% count(!is.na(end))"
   ]
  },
  {
   "cell_type": "code",
   "execution_count": null,
   "id": "36fb32e3-62ee-4529-a6db-6efab22d9d60",
   "metadata": {},
   "outputs": [],
   "source": [
    "saveRDS(calderdale_ed_df4, 'data/calderdale_ed_df.rds')"
   ]
  },
  {
   "cell_type": "markdown",
   "id": "c1a157f3-1f0e-4413-afe8-ec727c3eb7c4",
   "metadata": {},
   "source": [
    "## Combine IP data\n",
    "\n",
    "+ Will use hosp age and sex for IP"
   ]
  },
  {
   "cell_type": "code",
   "execution_count": null,
   "id": "cbdd23fd-1ea3-429e-a57d-51c04731db19",
   "metadata": {},
   "outputs": [],
   "source": [
    "#bri_ip_df <- readRDS('data/bri_ip_df.rds')\n",
    "bri_ip_df <- readRDS('data/bri_ip_df.rds') %>% #glimpse()\n",
    "    transmute(\n",
    "        person_id,\n",
    "        start = tbl_episode_start_date,\n",
    "        end = tbl_episode_end_date,\n",
    "        hosp_sex = case_when(\n",
    "            hosp_sex == \"1\" ~ \"male\",\n",
    "            hosp_sex == \"2\" ~ \"female\",\n",
    "            TRUE ~ NA_character_\n",
    "        ),\n",
    "        hosp_age = as.integer(floor(as.numeric(difftime(tbl_episode_start_date, ymd(glue::glue(\"{birth_year}-{birth_month}-14\")), units = \"weeks\"))/52.25)),\n",
    "        hosp = 'BRI',\n",
    "        lsoa,\n",
    "        imd_decile,\n",
    "        imd_rank,\n",
    "        ethnicity_source_value\n",
    "    )\n",
    "\n",
    "# Sex 1 Male, 2 Female, anything else NA"
   ]
  },
  {
   "cell_type": "code",
   "execution_count": null,
   "id": "100d1c4b-8d5c-4dff-986c-234d5c2b58a5",
   "metadata": {},
   "outputs": [],
   "source": [
    "bri_ip_df %>% glimpse()"
   ]
  },
  {
   "cell_type": "code",
   "execution_count": null,
   "id": "1ea3b933-4039-45f9-aabd-486e788085f7",
   "metadata": {},
   "outputs": [],
   "source": [
    "airedale_ip_df <- readRDS('data/airedale_ip_df.rds') %>% #glimpse()\n",
    "    transmute(\n",
    "        person_id,\n",
    "        start,\n",
    "        end,\n",
    "        hosp_sex = case_when(\n",
    "            hosp_sex == \"1\" ~ \"male\",\n",
    "            hosp_sex == \"2\" ~ \"female\",\n",
    "            TRUE ~ NA_character_\n",
    "        ),\n",
    "        hosp_age = as.integer(floor(as.numeric(difftime(start, ymd(glue::glue(\"{dob}14\")), units = \"weeks\"))/52.25)),\n",
    "        hosp = 'Airedale',\n",
    "        lsoa,\n",
    "        imd_rank,\n",
    "        imd_decile,\n",
    "        ethnicity_source_value\n",
    "    )"
   ]
  },
  {
   "cell_type": "code",
   "execution_count": null,
   "id": "c611ed05-4ef3-491b-b7c4-ecd9a99bd081",
   "metadata": {},
   "outputs": [],
   "source": [
    "airedale_ip_df %>% glimpse()"
   ]
  },
  {
   "cell_type": "code",
   "execution_count": null,
   "id": "b1cda112-2e5c-4425-b5cc-e0b266934ad1",
   "metadata": {},
   "outputs": [],
   "source": [
    "calderdale_ip_df <- readRDS('data/calderdale_ip_df.rds') %>%\n",
    "    transmute(\n",
    "        person_id, \n",
    "        start,\n",
    "        end,\n",
    "        hosp_sex = case_when(\n",
    "            hosp_sex == \"1\" ~ \"male\",\n",
    "            hosp_sex == \"2\" ~ \"female\",\n",
    "            TRUE ~ NA_character_\n",
    "        ),\n",
    "        hosp_age = bit64::as.integer.integer64(hosp_age),\n",
    "        hosp = 'Calderdale',\n",
    "        lsoa,\n",
    "        imd_rank,\n",
    "        imd_decile,\n",
    "        ethnicity_source_value\n",
    "    )"
   ]
  },
  {
   "cell_type": "code",
   "execution_count": null,
   "id": "d246fe15-2eab-4d90-8370-83863e85e5e3",
   "metadata": {},
   "outputs": [],
   "source": [
    "calderdale_ip_df %>% glimpse()"
   ]
  },
  {
   "cell_type": "code",
   "execution_count": null,
   "id": "c7065c0d-ca54-4322-b2be-689ede5ef267",
   "metadata": {},
   "outputs": [],
   "source": [
    "hosp_ip_df <- bind_rows(bri_ip_df, airedale_ip_df, calderdale_ip_df) %>% mutate(unique_id = glue::glue(\"HOSP_IP_{row_number()}\"))"
   ]
  },
  {
   "cell_type": "code",
   "execution_count": null,
   "id": "72c5a897-1a56-4255-9f26-a408976fa836",
   "metadata": {},
   "outputs": [],
   "source": [
    "hosp_ip_df %>% glimpse()"
   ]
  },
  {
   "cell_type": "code",
   "execution_count": null,
   "id": "83defafa-d9c1-44ea-b389-1e31c43d4be7",
   "metadata": {},
   "outputs": [],
   "source": [
    "saveRDS(hosp_ip_df, 'data/hosp_ip_df.rds')"
   ]
  },
  {
   "cell_type": "markdown",
   "id": "4101ca16-f1d7-4ba6-94f4-5fa7d5d29a08",
   "metadata": {},
   "source": [
    "## Combine ED data"
   ]
  },
  {
   "cell_type": "code",
   "execution_count": null,
   "id": "4b54e5b0-a426-4570-8001-b1892c948682",
   "metadata": {},
   "outputs": [],
   "source": [
    "bri_ed_df <- readRDS('data/bri_ae_df.rds') %>% #glimpse() #%>%\n",
    "    transmute(\n",
    "        person_id, \n",
    "        start = tbl_ae_start_date,\n",
    "        end = tbl_ae_end_date,\n",
    "        avoidable_admission,\n",
    "        hosp = 'BRI',\n",
    "        ed_age = as.integer(hosp_age),\n",
    "        ed_sex = case_when(\n",
    "            hosp_sex == \"1\" ~ \"male\",\n",
    "            hosp_sex == \"2\" ~ \"female\",\n",
    "            TRUE ~ NA_character_\n",
    "        ),\n",
    "        lsoa,\n",
    "        imd_rank,\n",
    "        imd_decile,\n",
    "        ethnicity_source_value\n",
    "    )"
   ]
  },
  {
   "cell_type": "code",
   "execution_count": null,
   "id": "ceff7749-0b2b-4c1f-be00-0cbd7fd0e041",
   "metadata": {},
   "outputs": [],
   "source": [
    "bri_ed_df %>% glimpse()"
   ]
  },
  {
   "cell_type": "code",
   "execution_count": null,
   "id": "eb0e3953-73dc-4588-862f-177c92849fe8",
   "metadata": {},
   "outputs": [],
   "source": [
    "airedale_ed_df <- readRDS('data/airedale_ed_df.rds') %>% #glimpse() %>%\n",
    "    transmute(\n",
    "        person_id,\n",
    "        start,\n",
    "        end,\n",
    "        avoidable_admission,\n",
    "        hosp = 'Airedale',\n",
    "        ed_age = case_when(\n",
    "         !is.na(hosp_age) ~ as.integer(hosp_age),\n",
    "         #!is.na(dob) ~ as.integer(floor(as.numeric(difftime(start, ymd(glue::glue(\"{dob}-14\")), units = \"weeks\"))/52.25)),\n",
    "         !is.na(birth_datetime) ~ as.integer(difftime(start, birth_datetime, unit = \"weeks\")/52),\n",
    "         TRUE ~ NA_integer_\n",
    "        ),\n",
    "        ed_sex = case_when(\n",
    "            hosp_sex == \"1\" ~ \"male\",\n",
    "            hosp_sex == \"2\" ~ \"female\",\n",
    "            TRUE ~ NA_character_\n",
    "        ),\n",
    "        lsoa,\n",
    "        imd_rank,\n",
    "        imd_decile,\n",
    "        ethnicity_source_value\n",
    "    )"
   ]
  },
  {
   "cell_type": "code",
   "execution_count": null,
   "id": "d90a84e9-b61c-4a3e-95c6-5a239cb019d0",
   "metadata": {},
   "outputs": [],
   "source": [
    "airedale_ed_df %>% glimpse()"
   ]
  },
  {
   "cell_type": "code",
   "execution_count": null,
   "id": "13e5768a-2d86-418b-81e6-3f18414fa1b1",
   "metadata": {},
   "outputs": [],
   "source": [
    "calderdale_ed_df <- readRDS('data/calderdale_ed_df.rds') %>% #glimpse()\n",
    "    transmute(\n",
    "        person_id,\n",
    "        start,\n",
    "        end,\n",
    "        avoidable_admission,\n",
    "        hosp = 'Calderdale',\n",
    "        ed_sex,\n",
    "        ed_age,\n",
    "        lsoa,\n",
    "        imd_rank,\n",
    "        imd_decile,\n",
    "        ethnicity_source_value\n",
    "    )"
   ]
  },
  {
   "cell_type": "code",
   "execution_count": null,
   "id": "3d847876-4544-4b0c-b81b-68269af68fe2",
   "metadata": {},
   "outputs": [],
   "source": [
    "calderdale_ed_df %>% glimpse()"
   ]
  },
  {
   "cell_type": "code",
   "execution_count": null,
   "id": "19b9c87a-db40-4fa4-9044-83105a516bd5",
   "metadata": {},
   "outputs": [],
   "source": [
    "hosp_ed_df <- bind_rows(bri_ed_df, airedale_ed_df, calderdale_ed_df) %>% mutate(unique_id = glue::glue(\"HOSP_ED_{row_number()}\"))"
   ]
  },
  {
   "cell_type": "code",
   "execution_count": null,
   "id": "d5971b5e-3c05-4b3f-99aa-90ccf66a3913",
   "metadata": {},
   "outputs": [],
   "source": [
    "hosp_ed_df %>% count(hosp) # Airedale 71311, BRI 177933, Calderdale 37414 v2 Airedale 76566, BRI 163319, Calderdale 34613"
   ]
  },
  {
   "cell_type": "code",
   "execution_count": null,
   "id": "d3aa6967-3060-4f5f-8315-03fce603cd07",
   "metadata": {},
   "outputs": [],
   "source": [
    "hosp_ed_df %>% glimpse()"
   ]
  },
  {
   "cell_type": "code",
   "execution_count": null,
   "id": "79445b15-eb0e-46cd-80fb-e30775487cb4",
   "metadata": {},
   "outputs": [],
   "source": [
    "hosp_ed_df %>% summarise(diff_time = mean(end-start)) # 293.6 minutes - round to 5 hours v2 about 4.8 hours so 5 reasonable"
   ]
  },
  {
   "cell_type": "code",
   "execution_count": null,
   "id": "22c91654-8d7b-44a4-8683-04bd122ba210",
   "metadata": {},
   "outputs": [],
   "source": [
    "# Amend the four cases where end time is less than start\n",
    "hosp_ed_df <- hosp_ed_df %>%\n",
    " mutate(\n",
    "   end = if_else(end <= start, start + hours(5), end)\n",
    " )"
   ]
  },
  {
   "cell_type": "code",
   "execution_count": null,
   "id": "ec96e565-620c-44fc-8ad8-7455ac4df4d0",
   "metadata": {},
   "outputs": [],
   "source": [
    "saveRDS(hosp_ed_df, 'data/hosp_ed_df.rds')"
   ]
  },
  {
   "cell_type": "code",
   "execution_count": null,
   "id": "785deecf-09fa-4289-93fb-5b0fe3f2b47d",
   "metadata": {},
   "outputs": [],
   "source": [
    "hosp_ed_df %>% count(hosp, avoidable_admission)"
   ]
  }
 ],
 "metadata": {
  "environment": {
   "kernel": "ir",
   "name": ".m112",
   "type": "gcloud",
   "uri": "gcr.io/deeplearning-platform-release/:m112"
  },
  "kernelspec": {
   "display_name": "R",
   "language": "R",
   "name": "ir"
  },
  "language_info": {
   "codemirror_mode": "r",
   "file_extension": ".r",
   "mimetype": "text/x-r-source",
   "name": "R",
   "pygments_lexer": "r",
   "version": "4.2.3"
  }
 },
 "nbformat": 4,
 "nbformat_minor": 5
}
