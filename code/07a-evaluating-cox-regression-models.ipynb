{
 "cells": [
  {
   "cell_type": "markdown",
   "id": "d6de237e-82de-4164-acae-14655c66d733",
   "metadata": {},
   "source": [
    "# Models need to adhere to the proportional hazards assumption\n",
    "Let's see if ours do!\n",
    "\n",
    "| |Index events defining group of interest|Index events defining comparison group|Excluded|\n",
    "|-|-------------|---------------|-------------|\n",
    "| Grouping 1 |Abandoned 111 calls with triaged call in previous 72 hours|Triaged 111 calls with no abandoned call in following 72 hours|**+** Abandoned call without triaged 111 call in previous 72 hours **+** Triaged or abandoned 111 calls occurring in follow-up for index events (these are outcomes)|\n",
    "|Grouping 2|Abandoned 111 calls without triaged 111 call in previous 72 hours|Triaged 111 calls|Triaged or abandoned 111 calls occurring in follow-up for index events (these are outcomes)|\n",
    "|Grouping 3|Abandoned 111 calls with or without triaged 111 call in previous 72 hours|Triaged 111 calls with no abandoned call in following 72 hours|Triaged or abandoned 111 calls occurring in follow-up for index events (these are outcomes)|"
   ]
  },
  {
   "cell_type": "code",
   "execution_count": null,
   "id": "7f67a15c-2874-42fe-acb0-64366964db32",
   "metadata": {},
   "outputs": [],
   "source": [
    "suppressPackageStartupMessages(library(tidyverse))\n",
    "suppressPackageStartupMessages(library(lubridate))\n",
    "suppressPackageStartupMessages(library(glue))\n",
    "suppressPackageStartupMessages(library(survival))\n",
    "suppressPackageStartupMessages(library(ggplot2))\n",
    "suppressPackageStartupMessages(library(ggfortify))\n",
    "suppressPackageStartupMessages(library(patchwork))\n",
    "suppressPackageStartupMessages(library(ggsurvfit))\n",
    "suppressPackageStartupMessages(library(tidycmprsk))\n",
    "suppressPackageStartupMessages(library(survminer))\n",
    "suppressPackageStartupMessages(library(gtsummary))\n",
    "suppressPackageStartupMessages(library(flextable))\n",
    "suppressPackageStartupMessages(library(coxme))\n",
    "suppressPackageStartupMessages(library(flextable))\n",
    "suppressPackageStartupMessages(library(locfit))"
   ]
  },
  {
   "cell_type": "code",
   "execution_count": null,
   "id": "a5097e93-d852-4331-8d03-d38b42db6887",
   "metadata": {},
   "outputs": [],
   "source": [
    "options(repr.plot.width=14, repr.plot.height=6)"
   ]
  },
  {
   "cell_type": "code",
   "execution_count": null,
   "id": "6713ccc6-767c-4c72-b64d-bb78fd3b5e4e",
   "metadata": {},
   "outputs": [],
   "source": [
    "grouping_number = 3\n",
    "\n",
    "follow_up_time = 72\n",
    "\n",
    "follow_up_time_str = \"\"\n",
    "if(follow_up_time != 72) {\n",
    " follow_up_time_str <- glue::glue(\"_{follow_up_time}\")   \n",
    "}"
   ]
  },
  {
   "cell_type": "code",
   "execution_count": null,
   "id": "dbe6f1f9-1f55-49ee-8273-ec811135ae63",
   "metadata": {},
   "outputs": [],
   "source": [
    "grouping_df <- readRDS(glue::glue('data/grouping{grouping_number}_survival_df{follow_up_time_str}.rds')) %>%\n",
    "    filter(!is.na(age) & age >= 18) # ADults only 2024-04-19"
   ]
  },
  {
   "cell_type": "code",
   "execution_count": null,
   "id": "e0130c6f-799c-44c3-b5a6-a1fb28a258f7",
   "metadata": {},
   "outputs": [],
   "source": [
    "imd_ethnicity_fn <- function(df) {\n",
    " df %>%\n",
    "    mutate(\n",
    "        person_id = bit64::as.integer.integer64(person_id),\n",
    "        imd_quintile = as.factor(case_when(\n",
    "            bit64::as.integer.integer64(imd_decile) %in% c(1, 2) ~ 1,\n",
    "            bit64::as.integer.integer64(imd_decile) %in% c(3, 4) ~ 2,\n",
    "            bit64::as.integer.integer64(imd_decile) %in% c(5, 6) ~ 3,\n",
    "            bit64::as.integer.integer64(imd_decile) %in% c(7, 8) ~ 4,\n",
    "            bit64::as.integer.integer64(imd_decile) %in% c(9, 10) ~ 5,\n",
    "            TRUE ~ NA_integer_\n",
    "        )),\n",
    "        # Small number of cases where birthdate calculation results in age being -1\n",
    "        age = case_when(\n",
    "            age < 0 ~ 0.0,\n",
    "            age > 107 ~ NA_real_,\n",
    "            TRUE ~ as.numeric(as.character(age))\n",
    "        ),\n",
    "        age_cat = case_when(\n",
    "            between(age, 18, 64) ~ \"18-64\",\n",
    "            age > 64 ~ \"over 65\"\n",
    "        ),\n",
    "        ethnicity_simple = fct_relevel(as.factor(str_extract(ethnicity_source_value, \"[^:]+\")), 'White'),\n",
    "        gp_visit_non_avoid = as.factor(if_else(!is.na(num_GP_contacts_to_ED_non_avoid_attend), \"gp_visit\", \"no_gp_visit\")),\n",
    "        gp_visit = as.factor(if_else(!is.na(num_GP_contacts_to_ED_attend), \"gp_visit\", \"no_gp_visit\")),\n",
    "    ) %>% filter(!is.na(age))\n",
    "}"
   ]
  },
  {
   "cell_type": "code",
   "execution_count": null,
   "id": "068fb64c-5aae-4fef-af59-82479b019c2b",
   "metadata": {},
   "outputs": [],
   "source": [
    "groupinga_df <- imd_ethnicity_fn(grouping_df)"
   ]
  },
  {
   "cell_type": "code",
   "execution_count": null,
   "id": "4977c8dc-feb0-4af8-8ded-e6667c4255a8",
   "metadata": {},
   "outputs": [],
   "source": [
    "#groupinga_df %>% glimpse()"
   ]
  },
  {
   "cell_type": "markdown",
   "id": "76fcc838-f919-4ea4-a56b-5ba532913e7b",
   "metadata": {},
   "source": [
    "# Kaplan-Meier plots\n",
    "Simple model looking at cohort only"
   ]
  },
  {
   "cell_type": "code",
   "execution_count": null,
   "id": "9bdd2d4a-1514-4ac7-ac76-29c954b01ef5",
   "metadata": {},
   "outputs": [],
   "source": [
    "# https://www.danieldsjoberg.com/ggsurvfit/reference/ggsurvfit.html\n",
    "km_plot_fn <- function(df, miny = 0, maxy = 0.99, grouping_num = 1, legend_pos = 'LOW', covars = \"cohort\", non_avoid_var = \"_non_avoid\", type=\"km\") {\n",
    "    \n",
    "    legend_pos_y = 0.25\n",
    "    if(legend_pos != 'LOW') {\n",
    "        legend_pos_y = 0.75\n",
    "    }\n",
    "    \n",
    "    km_formula <- glue::glue(\"Surv(fu_time{non_avoid_var}, status{non_avoid_var}) ~ {covars}\")\n",
    "    \n",
    "    km_fit <- survfit2(as.formula(km_formula), data = df)\n",
    "    \n",
    "    if(type == \"cloglog\") {\n",
    "        # Inspired by: https://grodri.github.io/survival/cox\n",
    "        dkm <- tibble(\n",
    "            time = km_fit$time, \n",
    "            survival = km_fit$surv,\n",
    "            group = factor(rep(names(km_fit$strata), km_fit$strata)),\n",
    "            lls = log(-log(survival))\n",
    "        )\n",
    "        \n",
    "        plot <- dkm %>%\n",
    "            ggplot(aes(x = log(time), y = lls, color=group)) + \n",
    "                #geom_point() +\n",
    "                geom_line() + \n",
    "                ylab(\"log(-log(S(t)))\") +\n",
    "                theme_minimal() +\n",
    "                theme(plot.margin = margin(0, 0, 50, 0, \"pt\"),plot.title=element_text(face=\"bold\")) +\n",
    "                ggtitle(glue::glue(\"Log-log plot for {covars} {if_else(non_avoid_var == '_non_avoid', 'non_avoidable ED attendance', 'All ED attendance')} grouping {grouping_number}\"))\n",
    "                #theme(legend.position = \"bottom\")\n",
    "    } else if(type == \"ci\") {\n",
    "        cum_df <- df %>% mutate(\n",
    "            fu_time,\n",
    "            fu_time_non_avoid,\n",
    "            status = as.factor(status),\n",
    "            status_non_avoid = as.factor(status_non_avoid)\n",
    "        )\n",
    "        plot <- cuminc(as.formula(km_formula), data = cum_df) %>% \n",
    "          ggcuminc() +\n",
    "          labs(\n",
    "            title = glue::glue(\"Cumulative incidence of {if_else(non_avoid_var == '_non_avoid', 'non-avoidable ED attendance', 'All ED attendance')} grouping {grouping_number}\"),\n",
    "            x = \"Hours\",\n",
    "            y = \"Cumulative Incidence\"\n",
    "            ) + \n",
    "          scale_y_continuous(limits = c(miny, maxy), label = scales::label_percent()) +\n",
    "          scale_x_continuous(limits = c(0, 72), label = seq(0, 72, 12), breaks = seq(0, 72, 12)) +\n",
    "          add_confidence_interval() +\n",
    "          #add_risktable() +\n",
    "          theme(legend.position.inside = c(0.85, legend_pos_y)) \n",
    "    } else {\n",
    "        plot <- km_fit %>% \n",
    "          ggsurvfit() +\n",
    "          labs(\n",
    "            title = glue::glue(\"{if_else(non_avoid_var == '_non_avoid', 'Non-avoidable ED attendances', 'All ED attendances')} grouping {grouping_number}\"),\n",
    "            x = \"Hours\",\n",
    "            y = \"Probability of NOT attending ED\"\n",
    "            ) + \n",
    "          scale_y_continuous(limits = c(miny, maxy), label = scales::label_percent()) +\n",
    "          scale_x_continuous(limits = c(0, 72), label = seq(0, 72, 12), breaks = seq(0, 72, 12)) +\n",
    "          add_confidence_interval() +\n",
    "          #add_risktable() +\n",
    "          theme(legend.position.inside = c(0.85, legend_pos_y)) \n",
    "    }\n",
    "    \n",
    "    return(list(plot, km_fit))\n",
    "    \n",
    "}"
   ]
  },
  {
   "cell_type": "code",
   "execution_count": null,
   "id": "db82e463-5782-4246-b889-04ade20f12e6",
   "metadata": {},
   "outputs": [],
   "source": [
    "cum_incidence <- km_list_non_avoid <- km_plot_fn(df = groupinga_df, grouping_num = grouping_number, type=\"ci\")\n",
    "cum_incidence_all <- km_plot_fn(df = groupinga_df, grouping_num = grouping_number, non_avoid = \"\", type=\"ci\")\n",
    "final_plot_ci <- patchwork::wrap_plots(wrap_elements(cum_incidence[[1]]), wrap_elements(cum_incidence_all[[1]]), ncol = 2)\n",
    "ggsave(plot = final_plot_ci, file = glue::glue(\"output/ci_plots_grouping{grouping_number}.pdf\"), width = 12)\n",
    "final_plot_ci"
   ]
  },
  {
   "cell_type": "code",
   "execution_count": null,
   "id": "8e930b87-fa80-4590-aff5-763bad9ff76d",
   "metadata": {},
   "outputs": [],
   "source": [
    "km_list_non_avoid <- km_plot_fn(df = groupinga_df, grouping_num = grouping_number)\n",
    "saveRDS(km_list_non_avoid[[1]], glue::glue(\"output/km_non_avoid_plot_grouping{grouping_number}.rds\"))\n",
    "km_list_all <- km_plot_fn(df = groupinga_df, grouping_num = grouping_number, non_avoid = \"\")\n",
    "final_plot <- patchwork::wrap_plots(wrap_elements(km_list_non_avoid[[1]]), wrap_elements(km_list_all[[1]]), ncol = 2)\n",
    "ggsave(plot = final_plot, file = glue::glue(\"output/km_plots_grouping{grouping_number}.pdf\"), width = 12)\n",
    "final_plot"
   ]
  },
  {
   "cell_type": "code",
   "execution_count": null,
   "id": "42f0133c-4611-4cd8-a319-72ef0e4253ca",
   "metadata": {},
   "outputs": [],
   "source": [
    "km_surv_diff <- survdiff(Surv(fu_time_non_avoid, status_non_avoid) ~ cohort, data = groupinga_df)"
   ]
  },
  {
   "cell_type": "code",
   "execution_count": null,
   "id": "bf98d45f-7b0f-4bc1-9ea2-50e3a38b7b85",
   "metadata": {},
   "outputs": [],
   "source": [
    "grouping_df %>% filter(status_non_avoid == 1) %>% \n",
    "    group_by(cohort) %>%\n",
    "    summarise(\n",
    "        med = median(fu_time_non_avoid, na.rm = T)\n",
    "    ) %>% ungroup()"
   ]
  },
  {
   "cell_type": "code",
   "execution_count": null,
   "id": "9b05a20e-e100-43b3-b122-fe22d065d399",
   "metadata": {},
   "outputs": [],
   "source": [
    "grouping_df %>% filter(status_non_avoid == 1) %>% \n",
    "    count(cohort, fu_time_non_avoid) %>%\n",
    "    ggplot(aes(x = fu_time_non_avoid, y =n, fill = cohort)) +\n",
    "    geom_col() +\n",
    "    facet_wrap(~cohort)"
   ]
  },
  {
   "cell_type": "code",
   "execution_count": null,
   "id": "49dfec24-20bb-41f8-8219-d648295e691f",
   "metadata": {},
   "outputs": [],
   "source": [
    "km_surv_diff"
   ]
  },
  {
   "cell_type": "markdown",
   "id": "b6d133b5-c01b-45f9-814c-6cb18af98e74",
   "metadata": {},
   "source": [
    "# Log-log plot\n",
    "\n",
    "From: https://bookdown.org/sestelo/sa_financial/how-to-evaluate-the-ph-assumption.html\n",
    "\n",
    "This expression indicates that if we use a Cox model (well-used) and plot the estimated log-log survival curves for individuals on the same graph, the two plots would be approximately parallel. The distance between the two curves is the linear expression involving the differences in predictor values, which does not involve time.\n",
    "\n",
    "Note that there is an important problem associated with this approach, that is, how to decide “how parallel is parallel?”. This fact can be subjective, thus the proposal is to be conservative for this decision by assuming the PH assumption is satisfied unless there is strong evidence of nonparallelism of the log–log curves."
   ]
  },
  {
   "cell_type": "code",
   "execution_count": null,
   "id": "78c989b2-e03b-4e12-ba6f-d299ca6360a6",
   "metadata": {},
   "outputs": [],
   "source": [
    "km_list_non_avoid <- km_plot_fn(df = groupinga_df, grouping_num = grouping_number, type = \"cloglog\")\n",
    "km_list_all <- km_plot_fn(df = groupinga_df, grouping_num = grouping_number, non_avoid = \"\", type = \"cloglog\")\n",
    "final_plot_ll <- patchwork::wrap_plots(wrap_elements(km_list_non_avoid[[1]]), wrap_elements(km_list_all[[1]]), ncol = 2)\n",
    "final_plot_ll"
   ]
  },
  {
   "cell_type": "code",
   "execution_count": null,
   "id": "e16d1f7b-aeb2-4d88-9237-fbf5cbf71b92",
   "metadata": {},
   "outputs": [],
   "source": [
    "cox_fn <- function(\n",
    "    df, \n",
    "    grouping = 1, \n",
    "    non_avoid = FALSE, \n",
    "    basic = FALSE,\n",
    "    basic_covar = \"cohort\",\n",
    "    null_model = FALSE,\n",
    "    custom_formula = \"\"\n",
    ") {\n",
    " \n",
    "\n",
    "    non_avoid_var <- if_else(non_avoid == TRUE, \"_non_avoid\", \"\")\n",
    "\n",
    "    cox_formula = glue::glue(\"Surv(fu_time{non_avoid_var}, status{non_avoid_var}) ~ {basic_covar}\")\n",
    "    if(basic == FALSE) {\n",
    "        cox_formula = glue::glue(\"Surv(fu_time{non_avoid_var}, status{non_avoid_var}) ~ cohort + age + sex + imd_quintile + ethnicity_simple + ooh + gp_visit{non_avoid_var}\")\n",
    "        if(custom_formula != \"\") {\n",
    "            cox_formula = glue::glue(\"Surv(fu_time{non_avoid_var}, status{non_avoid_var}) ~ {custom_formula}\")\n",
    "        }\n",
    "    } \n",
    "    if(null_model == TRUE) {\n",
    "        cox_formula = glue::glue(\"Surv(fu_time{non_avoid_var}, status{non_avoid_var}) ~ 1\")\n",
    "    }\n",
    "    print(glue::glue(\"Grouping {grouping_number}: Formula will be: {cox_formula}\"))\n",
    "\n",
    "    cox <- coxph(as.formula(cox_formula), data = df)\n",
    "        \n",
    "    m_resid = residuals(cox, type = \"martingale\")\n",
    "\n",
    "    if(null_model == TRUE) {\n",
    "        final_df <- NULL\n",
    "    } else {\n",
    "        final_df <- broom::tidy(cox, exponentiate = TRUE, conf.int = TRUE) %>% \n",
    "            select(-statistic, -std.error) %>% \n",
    "            mutate(\n",
    "                across(where(is.numeric), ~round(.x, 3))\n",
    "            ) %>%\n",
    "            select(term, estimate, conf.low, conf.high, p.value)   \n",
    "    }\n",
    "\n",
    "\n",
    "    return(list(cox, final_df, m_resid, df))\n",
    "    \n",
    "}"
   ]
  },
  {
   "cell_type": "markdown",
   "id": "890dc8a9-fa4a-404f-b8ea-42ede514915d",
   "metadata": {},
   "source": [
    "## Non-avoidable ED attendances"
   ]
  },
  {
   "cell_type": "code",
   "execution_count": null,
   "id": "8a7a9ed2-09b2-4bd2-a718-619a1338b4a5",
   "metadata": {},
   "outputs": [],
   "source": [
    "cox_non_avoid_cohort_model <- cox_fn(groupinga_df, grouping_number, non_avoid = TRUE, basic = TRUE)"
   ]
  },
  {
   "cell_type": "code",
   "execution_count": null,
   "id": "5c403924-ad93-4002-b64e-d32e54194b41",
   "metadata": {},
   "outputs": [],
   "source": [
    "cox_non_avoid_cohort_model[[1]]"
   ]
  },
  {
   "cell_type": "markdown",
   "id": "15753fbc-014c-4cdb-9add-e59a5fba3439",
   "metadata": {},
   "source": [
    "## All ED attendances"
   ]
  },
  {
   "cell_type": "code",
   "execution_count": null,
   "id": "38b8b15b-781b-4047-b84f-965f3a9c5a72",
   "metadata": {},
   "outputs": [],
   "source": [
    "cox_all_cohort_model <- cox_fn(groupinga_df, grouping_number, non_avoid = FALSE, basic = TRUE)"
   ]
  },
  {
   "cell_type": "code",
   "execution_count": null,
   "id": "17ddb2c8-bb4d-49dc-83ea-69da50831aed",
   "metadata": {},
   "outputs": [],
   "source": [
    "cox_all_cohort_model[[1]]"
   ]
  },
  {
   "cell_type": "markdown",
   "id": "88bcd919-52ea-471c-b40e-668912fb1d39",
   "metadata": {},
   "source": [
    "# Assessing Goodness-of-Fit using residuals\n",
    "Chapter 7, Applied Survival Analysis Using R text (https://xsliulab.github.io/Workshop/2021/week3/survival-analysis-book.pdf)\n",
    "\n",
    "\n",
    "Bradburn, M. J., Clark, T. G., Love, S. B., & Altman, D. G. (2003). Survival Analysis Part III: Multivariate data analysis – choosing a model and assessing its adequacy and fit. British Journal of Cancer, 89(4), 605–611. https://doi.org/10.1038/sj.bjc.6601120"
   ]
  },
  {
   "cell_type": "markdown",
   "id": "4c9708ef-6106-4831-b3f8-fcb90195cc8c",
   "metadata": {},
   "source": [
    "# Martingale residuals\n",
    "p88 has some info about why Martingale residuals are useful. In a nutshell: These residuals are symmetrically distributed with expected value 0 (if the fitted model is correct). This primarily is a test for non-linearity, I'm not sure they are useful."
   ]
  },
  {
   "cell_type": "code",
   "execution_count": null,
   "id": "2b7a6fc8-79ae-40f8-82c7-c6871f6fb8ba",
   "metadata": {},
   "outputs": [],
   "source": [
    "null_non_avoid_model <- cox_fn(df = groupinga_df, grouping = grouping_number, non_avoid = TRUE, null_model = TRUE)"
   ]
  },
  {
   "cell_type": "code",
   "execution_count": null,
   "id": "7bb7820e-ac78-45fa-b43c-9be3629b682c",
   "metadata": {},
   "outputs": [],
   "source": [
    "null_all_model <- cox_fn(df = groupinga_df, grouping = grouping_number, non_avoid = FALSE, null_model = TRUE)"
   ]
  },
  {
   "cell_type": "code",
   "execution_count": null,
   "id": "98909522-62a1-4db9-9b55-46c024dc9407",
   "metadata": {},
   "outputs": [],
   "source": [
    "martingale_plot_distribution <- function(model, covar, transform = \"none\") {\n",
    "    \n",
    "    #print(glue::glue(\"Covar is {covar}\"))    \n",
    "    resid <- model[[3]]\n",
    "    \n",
    "    if(transform == \"log\") {\n",
    "        resid <- log(resid)\n",
    "    }\n",
    "\n",
    "    df <- tibble(\n",
    "        resid = resid,\n",
    "        covar = model[[4]] %>% select(all_of(covar)) %>% pull()\n",
    "    )\n",
    "    \n",
    "    return(df)\n",
    "}\n",
    "\n",
    "plot_martingale_resid_fn <- function(model, covar, transform = \"none\") {\n",
    "    \n",
    "    df <- martingale_plot_distribution(model, covar, transform)\n",
    "    \n",
    "    gplot <- df %>% ggplot(aes(x = covar, y = resid)) \n",
    "\n",
    "    \n",
    "    if(is.character(df$covar) | is.factor(df$covar)) {\n",
    "        \n",
    "        gplot + geom_boxplot() +\n",
    "            scale_x_discrete(name = covar)\n",
    "        \n",
    "    } else {\n",
    "        \n",
    "        points_data <- df\n",
    "        if(nrow(df) > 10000) {\n",
    "            points_data <- df %>% sample_n(8000)\n",
    "        }\n",
    "        \n",
    "        gplot +\n",
    "            geom_point(col = \"grey\", alpha = 0.1, data = points_data) +\n",
    "            geom_smooth(col = \"blue\", se = TRUE, method = \"locfit\",\n",
    "                                             linewidth = 1, alpha = 0.3) +\n",
    "            scale_x_continuous(name = covar)\n",
    "    }\n",
    "    \n",
    "}\n",
    "\n",
    "plot_a_list <- function(master_list_with_plots, no_of_rows, no_of_cols) {\n",
    "\n",
    "  patchwork::wrap_plots(master_list_with_plots, \n",
    "                        nrow = no_of_rows, ncol = no_of_cols)\n",
    "}\n",
    "\n",
    "martingale_plots <- function(model, non_avoid = TRUE) {\n",
    "    \n",
    "    options(repr.plot.width=14, repr.plot.height=6)\n",
    "    #cols <- colnames(model[[4]])\n",
    "    cols <- c(\"age\")\n",
    "    plots <- map(cols, plot_martingale_resid_fn, model = model)\n",
    "    \n",
    "    final_plot <- plot_a_list(plots, 1, 1)\n",
    "    final_plot\n",
    "}\n",
    "\n"
   ]
  },
  {
   "cell_type": "markdown",
   "id": "0151de73-3530-4a99-a703-3a150cd39255",
   "metadata": {},
   "source": [
    "## Non-avoidable ED attendance"
   ]
  },
  {
   "cell_type": "code",
   "execution_count": null,
   "id": "ccc2f23c-fcd2-442a-a7ed-6e360790b98e",
   "metadata": {},
   "outputs": [],
   "source": [
    "martingale_plots(null_non_avoid_model)"
   ]
  },
  {
   "cell_type": "markdown",
   "id": "61ef664a-27e8-49f0-aa8a-dac56f53ac74",
   "metadata": {},
   "source": [
    "## All ED attendances"
   ]
  },
  {
   "cell_type": "code",
   "execution_count": null,
   "id": "b438af1b-8176-4275-857c-3dcdacb93f9c",
   "metadata": {},
   "outputs": [],
   "source": [
    "martingale_plots(null_all_model)"
   ]
  },
  {
   "cell_type": "markdown",
   "id": "49aa1394-ba43-4299-8b36-637b31e18a60",
   "metadata": {},
   "source": [
    "# Influential values with dfbeta\n",
    "Note using non-random effects model for all of this stuff for now..."
   ]
  },
  {
   "cell_type": "code",
   "execution_count": null,
   "id": "0f0258fc-c4ef-4f63-80f7-20c8b9bb231c",
   "metadata": {},
   "outputs": [],
   "source": [
    "cox_non_avoid_model <- cox_fn(groupinga_df, grouping_number, non_avoid = TRUE, basic = FALSE)\n",
    "cox_non_avoid <- cox_non_avoid_model[[1]]\n",
    "\n",
    "cox_all_model <- cox_fn(groupinga_df, grouping_number, non_avoid = FALSE, basic = FALSE)\n",
    "cox_all <- cox_all_model[[1]]"
   ]
  },
  {
   "cell_type": "code",
   "execution_count": null,
   "id": "0ee90c4f-032e-4686-a2d6-c6f5ea95b6b7",
   "metadata": {},
   "outputs": [],
   "source": [
    "ggcoxdiag <- function(\n",
    "    fit, \n",
    "    type = c(\"martingale\", \"deviance\", \"score\", \"schoenfeld\",\n",
    "                               \"dfbeta\", \"dfbetas\", \"scaledsch\",\"partial\"),\n",
    "    linear.predictions = type %in% c(\"martingale\", \"deviance\"),\n",
    "    ox.scale = if_else(linear.predictions, \"linear.predictions\", \"observation.id\"),\n",
    "    ...,\n",
    "    hline = TRUE,\n",
    "    sline = TRUE, \n",
    "    sline.se = TRUE,\n",
    "    hline.col = \"red\", hline.size = 1, hline.alpha = 0.5, hline.yintercept = 0, hline.lty = 'dashed',\n",
    "    sline.col = \"blue\", sline.size = 1, sline.alpha = 0.3, sline.lty = 'dashed',\n",
    "    point.col = \"black\", point.size = 1, point.shape = 19, point.alpha = 0.3,\n",
    "    points = FALSE,\n",
    "    title = NULL, subtitle = NULL, caption = NULL,\n",
    "    ggtheme = ggplot2::theme_bw(),\n",
    "    df_only = FALSE\n",
    ") {\n",
    "    \n",
    "    model <- fit\n",
    "    type <- match.arg(type)\n",
    "    res <- as.data.frame(resid(fit, type = type))\n",
    "            \n",
    "    if(type %in% c(\"martingale\", \"deviance\")) col_names <- \"residuals\" else col_names <- names(stats::coef(fit))\n",
    "    colnames(res) <- col_names    \n",
    "    \n",
    "    xlabel <- \"The index number of observations\"\n",
    "    ylabel <- paste0(\"Residuals (type = \", type, \")\" )\n",
    "    \n",
    "    switch(ox.scale,\n",
    "         linear.predictions = {\n",
    "           if (!(type %in% c(\"martingale\", \"deviance\")))\n",
    "             warning(\"ox.scale='linear.predictions' works only with type=martingale/deviance\")\n",
    "           xval <- predict(fit, type=\"lp\")\n",
    "           xlabel <- \"Linear Predictions\"\n",
    "         },\n",
    "         observation.id = {\n",
    "           xval <- 1:nrow(res)\n",
    "           xlabel <- \"Observation Id\"\n",
    "         },\n",
    "         time = {\n",
    "           if (!(type %in% c(\"schoenfeld\", \"scaledsch\")))\n",
    "             warning(\"ox.scale='time' works only with type=schoenfeld/scaledsch\")\n",
    "           #xval <- as.numeric(rownames(res))\n",
    "           xval <- as.numeric(substring(rownames(res),2))\n",
    "           xlabel <- \"Time\"\n",
    "         },\n",
    "         {warning(\"ox.scale should be one of linear.predictions/observation.id/time\")})\n",
    "\n",
    "    res$xval <- xval\n",
    "                      \n",
    "    data2plot <- tidyr::pivot_longer(res, cols = all_of(col_names),\n",
    "                              names_to = \"covariate\", values_to = \"res\")\n",
    "\n",
    "    if(df_only) {\n",
    "        return(data2plot)\n",
    "    }\n",
    "    \n",
    "    tot_d2p <- nrow(data2plot)\n",
    "    \n",
    "    gplot <- ggplot(aes(xval, res), data = data2plot)\n",
    "    \n",
    "    if (points) {\n",
    "        \n",
    "        points_data <- data2plot\n",
    "        if(tot_d2p > 10000) {\n",
    "            points_data <- data2plot %>% sample_n(8000)\n",
    "        }\n",
    "        \n",
    "        gplot <- gplot + geom_point(\n",
    "            data = points_data,\n",
    "            col = point.col, \n",
    "            shape = point.shape, \n",
    "            size = point.size, \n",
    "            alpha = point.alpha\n",
    "        )\n",
    "    }\n",
    "    \n",
    "    if (hline) gplot <- gplot + geom_hline(yintercept=hline.yintercept, col = hline.col,\n",
    "                                         linewidth = hline.size, lty = hline.lty, alpha = hline.alpha)\n",
    "\n",
    "    if (sline) gplot <- gplot + geom_smooth(col = sline.col, se = sline.se, method = \"locfit\",\n",
    "                                         linewidth = sline.size, lty = sline.lty, alpha = sline.alpha)\n",
    "\n",
    "    gplot <- gplot + labs(x = xlabel, y = ylabel, title = title, subtitle = subtitle, caption = caption) + ggtheme\n",
    "    # customization\n",
    "    gplot <- ggpubr::ggpar(gplot, ...)\n",
    "\n",
    "    gplot <- gplot + facet_wrap(~covariate, scales = \"free\")\n",
    "    gplot\n",
    "    \n",
    "}"
   ]
  },
  {
   "cell_type": "markdown",
   "id": "e388ca16-4b16-4095-9fc4-b40e0efc2724",
   "metadata": {},
   "source": [
    "## Non-avoidable ED attendances"
   ]
  },
  {
   "cell_type": "code",
   "execution_count": null,
   "id": "8e693051-4278-4b17-a68d-81741b8a0eaa",
   "metadata": {},
   "outputs": [],
   "source": [
    "options(repr.plot.width=14, repr.plot.height=14)\n",
    "cox_diag_non_avoid <- ggcoxdiag(fit = cox_non_avoid, type = \"dfbeta\", ox.scale = \"observation.id\", points = T)"
   ]
  },
  {
   "cell_type": "code",
   "execution_count": null,
   "id": "97f9f64e-9484-4f36-9d49-e87585531ccf",
   "metadata": {},
   "outputs": [],
   "source": [
    "cox_diag_non_avoid"
   ]
  },
  {
   "cell_type": "code",
   "execution_count": null,
   "id": "8d42fb28-9cbc-458c-b12a-7f3845e390ce",
   "metadata": {},
   "outputs": [],
   "source": [
    "# Let's remove outliers (2s.d.) and see what happens"
   ]
  },
  {
   "cell_type": "code",
   "execution_count": null,
   "id": "5c8216ef-4b17-4e29-9714-b4aa642c3af7",
   "metadata": {},
   "outputs": [],
   "source": [
    "non_avoid_dfbeta_df <- ggcoxdiag(fit = cox_non_avoid, type = \"dfbeta\", ox.scale = \"observation.id\", points = T, df_only = TRUE)\n",
    "non_avoid_dfbeta_df %>% glimpse()"
   ]
  },
  {
   "cell_type": "code",
   "execution_count": null,
   "id": "b36c49ff-4368-42bb-af29-8329afc7250b",
   "metadata": {},
   "outputs": [],
   "source": [
    "# https://cran.r-project.org/web/packages/olsrr/vignettes/influence_measures.html#:~:text=In%20general%2C%20large%20values%20of,as%20a%20size%2Dadjusted%20cutoff.\n",
    "n_rows <- nrow(non_avoid_dfbeta_df)\n",
    "non_avoid_dfbeta_df2 <- non_avoid_dfbeta_df %>% \n",
    "    group_by(covariate) %>% \n",
    "    mutate(\n",
    "        two_sd = if_else((abs(res) <= 2*sd(res)), 1, 0),\n",
    "        bkw = if_else((abs(res) <= 2/sqrt(n_rows)), 1, 0)\n",
    "    ) %>% ungroup()"
   ]
  },
  {
   "cell_type": "code",
   "execution_count": null,
   "id": "3e99fdb0-42c4-4f38-9e74-856dc46cd5d1",
   "metadata": {},
   "outputs": [],
   "source": [
    "# Get number of covariates that should be present:\n",
    "n_cov <- non_avoid_dfbeta_df2 %>% count(covariate) %>% nrow()\n",
    "non_avoid_dfbeta_df3 <- non_avoid_dfbeta_df2 %>% filter(two_sd == 1) %>% count(xval) %>% filter(n == n_cov)\n",
    "non_avoid_dfbeta_df3a <- non_avoid_dfbeta_df2 %>% filter(bkw == 1) %>% count(xval) %>% filter(n == n_cov)"
   ]
  },
  {
   "cell_type": "code",
   "execution_count": null,
   "id": "f051d4cc-9ed8-405f-917a-b646ad56f13a",
   "metadata": {},
   "outputs": [],
   "source": [
    "groupinga_df %>% count()"
   ]
  },
  {
   "cell_type": "code",
   "execution_count": null,
   "id": "6f100a55-d980-4f84-8379-330c43e86cba",
   "metadata": {},
   "outputs": [],
   "source": [
    "non_avoid_dfbeta_df3 %>% count()"
   ]
  },
  {
   "cell_type": "code",
   "execution_count": null,
   "id": "95531b72-712c-4fb5-bd5f-504c94e2e83f",
   "metadata": {},
   "outputs": [],
   "source": [
    "non_avoid_dfbeta_df3a %>% count()"
   ]
  },
  {
   "cell_type": "code",
   "execution_count": null,
   "id": "a05e8b53-da76-4e9d-92a4-159086da3458",
   "metadata": {},
   "outputs": [],
   "source": [
    "grouping_no_outliers_df <- groupinga_df %>% mutate(row_id = row_number()) %>% semi_join(non_avoid_dfbeta_df3a, by=c(\"row_id\" = \"xval\")) %>% select(-row_id)\n",
    "cox_non_avoid_no_outliers_model <- cox_fn(grouping_no_outliers_df, grouping_number, non_avoid = TRUE, basic = FALSE)\n",
    "cox_non_avoid_no_outlier <- cox_non_avoid_no_outliers_model[[1]]"
   ]
  },
  {
   "cell_type": "code",
   "execution_count": null,
   "id": "23b67cf2-8408-470b-b7c9-8036a821c8a7",
   "metadata": {},
   "outputs": [],
   "source": [
    "cox_non_avoid_no_outlier_diag <- ggcoxdiag(fit = cox_non_avoid_no_outlier, type = \"dfbeta\", ox.scale = \"observation.id\", points = T)"
   ]
  },
  {
   "cell_type": "code",
   "execution_count": null,
   "id": "3d3c3175-115c-44a2-80db-19120ad2a4b4",
   "metadata": {},
   "outputs": [],
   "source": [
    "cox_non_avoid_no_outlier_diag"
   ]
  },
  {
   "cell_type": "markdown",
   "id": "6643c23f-b7da-485b-94f5-a5d6a6532b25",
   "metadata": {},
   "source": [
    "## All ED attendances"
   ]
  },
  {
   "cell_type": "code",
   "execution_count": null,
   "id": "a7c9c961-ca3b-43f0-922d-9b8a923e2345",
   "metadata": {},
   "outputs": [],
   "source": [
    "ggcoxdiag(fit = cox_all, type = \"dfbeta\", ox.scale = \"observation.id\", points = T)"
   ]
  },
  {
   "cell_type": "markdown",
   "id": "d25a6f7f-df2f-462a-a8c5-fc0c11ebf9c3",
   "metadata": {},
   "source": [
    "# Checking the proportional hazards assumption\n",
    "From cox.zph: terms - if TRUE, do a test for each term in the model rather than for each separate covariate. For a factor variable with k levels, for instance, this would lead to a k-1 degree of freedom test. The plot for such variables will be a single curve evaluating the linear predictor over time."
   ]
  },
  {
   "cell_type": "markdown",
   "id": "c85db8dc-13db-408d-9668-7adc9f7891d6",
   "metadata": {},
   "source": [
    "## Non-avoidable ED attendances"
   ]
  },
  {
   "cell_type": "code",
   "execution_count": null,
   "id": "816090ce-4318-4369-9bd7-3bacd0bcf161",
   "metadata": {},
   "outputs": [],
   "source": [
    "zph_non_avoid <- cox.zph(cox_non_avoid, terms = TRUE)\n",
    "zph_non_avoid"
   ]
  },
  {
   "cell_type": "code",
   "execution_count": null,
   "id": "5483359b-c934-4b40-bed0-8d17ed881f2d",
   "metadata": {},
   "outputs": [],
   "source": [
    "zph_non_avoid_dfbeta <- cox.zph(cox_non_avoid_no_outlier, terms = TRUE)\n",
    "zph_non_avoid_dfbeta"
   ]
  },
  {
   "cell_type": "markdown",
   "id": "54bbcbc9-7c60-45db-bf83-6bc3cdef2fbf",
   "metadata": {},
   "source": [
    "## All ED attendances"
   ]
  },
  {
   "cell_type": "code",
   "execution_count": null,
   "id": "3b17e343-b032-49fb-8780-cafc83e08e70",
   "metadata": {},
   "outputs": [],
   "source": [
    "zph_all <- cox.zph(cox_all, terms = TRUE)\n",
    "zph_all"
   ]
  },
  {
   "cell_type": "code",
   "execution_count": null,
   "id": "459e65ad-64d2-4d85-b613-8bbf76dfee15",
   "metadata": {},
   "outputs": [],
   "source": [
    "cox.zph(cox_all, terms = FALSE)"
   ]
  },
  {
   "cell_type": "markdown",
   "id": "578b4ad0-3a18-47d8-a2c7-7581e40cf2e1",
   "metadata": {},
   "source": [
    "# Log-log plots"
   ]
  },
  {
   "cell_type": "code",
   "execution_count": null,
   "id": "ca4a8f36-8d04-48ab-972e-ed87647cf9b7",
   "metadata": {},
   "outputs": [],
   "source": [
    "#grouping_df %>% glimpse()"
   ]
  },
  {
   "cell_type": "code",
   "execution_count": null,
   "id": "253a2e84-a6ab-45dc-8189-f1ba072661f8",
   "metadata": {},
   "outputs": [],
   "source": [
    "ll_plots <- function(df, grouping_number, non_avoid) {\n",
    "\n",
    "    cols <- c(\"cohort\", \"age\", \"age_cat\", \"sex\", \"ooh\", \"imd_quintile\", \"ethnicity_simple\")\n",
    "    \n",
    "    plots <- map(cols, ~ km_plot_fn(covars = .x, df = df, grouping_num = grouping_number, non_avoid = non_avoid, type = \"cloglog\"))\n",
    "    \n",
    "    # Need map statement to get first item (the plot) from each list item)\n",
    "    final_plot <- plot_a_list(map(plots, 1), length(cols), 1)\n",
    "    final_plot\n",
    "}"
   ]
  },
  {
   "cell_type": "markdown",
   "id": "4787f950-fa48-4ce5-9d12-5706e4673ff2",
   "metadata": {},
   "source": [
    "## Non-avoidable ED attendances"
   ]
  },
  {
   "cell_type": "code",
   "execution_count": null,
   "id": "58e58bb8-e009-4a3d-a6ba-619d87352ffb",
   "metadata": {},
   "outputs": [],
   "source": [
    "zph_non_avoid"
   ]
  },
  {
   "cell_type": "code",
   "execution_count": null,
   "id": "bd70f5b2-2dd1-4b02-ba20-6d96eda7c392",
   "metadata": {},
   "outputs": [],
   "source": [
    "options(repr.plot.width=14, repr.plot.height=40)\n",
    "ll_plots(groupinga_df, grouping_number, \"_non_avoid\")"
   ]
  },
  {
   "cell_type": "markdown",
   "id": "d4692cc3-c4df-4892-8456-b96584e922e0",
   "metadata": {},
   "source": [
    "# All ED attendances"
   ]
  },
  {
   "cell_type": "code",
   "execution_count": null,
   "id": "23a8cdd8-9674-4ada-8887-9e39be306904",
   "metadata": {},
   "outputs": [],
   "source": [
    "zph_all"
   ]
  },
  {
   "cell_type": "code",
   "execution_count": null,
   "id": "bf4a36f3-8a9d-4563-8610-b2cfa5c1584a",
   "metadata": {},
   "outputs": [],
   "source": [
    "options(repr.plot.width=14, repr.plot.height=40)\n",
    "ll_plots(groupinga_df, grouping_number, \"\")"
   ]
  },
  {
   "cell_type": "markdown",
   "id": "99b627c7-d4f1-4459-851b-ea49e1adc8ee",
   "metadata": {},
   "source": [
    "# Schoenfeld residuals"
   ]
  },
  {
   "cell_type": "markdown",
   "id": "0f85b308-1e6a-4dbd-98da-1ecebbe14c71",
   "metadata": {},
   "source": [
    "## Non-avoidable ED attendances"
   ]
  },
  {
   "cell_type": "code",
   "execution_count": null,
   "id": "ece8a686-2920-4220-b2f1-e2f3a76693d7",
   "metadata": {},
   "outputs": [],
   "source": [
    "options(repr.plot.width=14, repr.plot.height=20)\n",
    "ggcoxzph(zph_non_avoid, resid = TRUE, point.alpha = 0.1, point.col = 'cadetblue3')"
   ]
  },
  {
   "cell_type": "markdown",
   "id": "e8691b26-18b3-424f-b09f-8508621d2b69",
   "metadata": {},
   "source": [
    "## All ED attendances"
   ]
  },
  {
   "cell_type": "code",
   "execution_count": null,
   "id": "4875916e-6d9e-4e6f-adae-a5980246c43a",
   "metadata": {},
   "outputs": [],
   "source": [
    "ggcoxzph(zph_all, resid = TRUE, point.alpha = 0.1, point.col = 'cadetblue3')"
   ]
  }
 ],
 "metadata": {
  "environment": {
   "kernel": "ir",
   "name": ".m112",
   "type": "gcloud",
   "uri": "gcr.io/deeplearning-platform-release/:m112"
  },
  "kernelspec": {
   "display_name": "R",
   "language": "R",
   "name": "ir"
  },
  "language_info": {
   "codemirror_mode": "r",
   "file_extension": ".r",
   "mimetype": "text/x-r-source",
   "name": "R",
   "pygments_lexer": "r",
   "version": "4.2.3"
  }
 },
 "nbformat": 4,
 "nbformat_minor": 5
}
