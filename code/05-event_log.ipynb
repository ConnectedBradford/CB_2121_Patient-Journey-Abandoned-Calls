{
 "cells": [
  {
   "cell_type": "markdown",
   "id": "587ef918-1062-4be3-8b26-c041aea8f57e",
   "metadata": {},
   "source": [
    "# Event log creation"
   ]
  },
  {
   "cell_type": "code",
   "execution_count": null,
   "id": "6918bcbd-4e8d-4cb9-ad3f-cc4cf2ca7086",
   "metadata": {
    "vscode": {
     "languageId": "r"
    }
   },
   "outputs": [],
   "source": [
    "suppressPackageStartupMessages(library(tidyverse))\n",
    "library(lubridate)\n",
    "library(glue)\n",
    "suppressPackageStartupMessages(library(bupaR))\n",
    "library(processanimateR)\n",
    "library(ggplot2)\n",
    "library(ggfortify)\n",
    "# # Debian / Ubuntu sudo apt-get install libv8-dev using a terminal window first before gtsummary\n",
    "library(gtsummary)\n",
    "library(networkD3)\n",
    "suppressPackageStartupMessages(library(flextable))"
   ]
  },
  {
   "cell_type": "code",
   "execution_count": null,
   "id": "613760bf-9166-4a07-be4b-dda0cd0647ea",
   "metadata": {
    "vscode": {
     "languageId": "r"
    }
   },
   "outputs": [],
   "source": [
    "grouping_number = 1"
   ]
  },
  {
   "cell_type": "code",
   "execution_count": null,
   "id": "3d541057-a934-4f83-8142-0ab7b7d83ac1",
   "metadata": {
    "vscode": {
     "languageId": "r"
    }
   },
   "outputs": [],
   "source": [
    "cohort_iuc_df <- readRDS(glue::glue(\"data/grouping{grouping_number}_iuc_combo_df.rds\"))\n",
    "cohort_ac_df <- readRDS(glue::glue(\"data/grouping{grouping_number}_ac_combo_df.rds\"))"
   ]
  },
  {
   "cell_type": "code",
   "execution_count": null,
   "id": "fffcd995-827e-41a5-a539-7c48c3af582d",
   "metadata": {
    "vscode": {
     "languageId": "r"
    }
   },
   "outputs": [],
   "source": [
    "event_iuc_df <- cohort_iuc_df %>%\n",
    "  # Exclude children\n",
    "  filter(!is.na(age) & age >= 18 & age <= 107) %>%\n",
    "  rename(\n",
    "    complete = end\n",
    "  ) %>%\n",
    "  mutate(\n",
    "    activity = as.factor(activity),\n",
    "    resource_id = unique_id,\n",
    "  ) %>%\n",
    "  activitylog(\n",
    "    case_id = \"activity_instance_id\",\n",
    "    activity_id = \"activity\",\n",
    "    resource_id = \"resource_id\",\n",
    "    timestamps = c(\"start\", \"complete\")\n",
    "  ) %>% \n",
    "  # Process Maps requires the data to be in eventlog format it appears\n",
    "  to_eventlog()"
   ]
  },
  {
   "cell_type": "code",
   "execution_count": null,
   "id": "1a04e0b3-9481-4540-827b-53ef2324d1f4",
   "metadata": {
    "vscode": {
     "languageId": "r"
    }
   },
   "outputs": [],
   "source": [
    "event_ac_df <- cohort_ac_df %>% \n",
    "  # Exclude children\n",
    "  filter(!is.na(age) & age >= 18) %>%\n",
    "  rename(\n",
    "    complete = end\n",
    "  ) %>%\n",
    "  mutate(\n",
    "    activity = as.factor(activity),\n",
    "    resource_id = unique_id,\n",
    "  ) %>%\n",
    "  activitylog(\n",
    "    case_id = \"activity_instance_id\",\n",
    "    activity_id = \"activity\",\n",
    "    resource_id = \"resource_id\",\n",
    "    timestamps = c(\"start\", \"complete\")\n",
    "  ) %>% \n",
    "  to_eventlog()"
   ]
  },
  {
   "cell_type": "code",
   "execution_count": null,
   "id": "139b226b-6b68-4f28-a923-8c75a06d72e2",
   "metadata": {
    "vscode": {
     "languageId": "r"
    }
   },
   "outputs": [],
   "source": [
    "combo_df <- bind_rows(event_ac_df, event_iuc_df)"
   ]
  },
  {
   "cell_type": "code",
   "execution_count": null,
   "id": "32969fc6-bb74-4b7d-be29-38bbf3290fdf",
   "metadata": {
    "vscode": {
     "languageId": "r"
    }
   },
   "outputs": [],
   "source": [
    "combo_df <- combo_df %>% group_by(person_id) %>% \n",
    "    mutate(sex = first(sex), age = first(age)) %>% # Fix for missing sex in one or more fields\n",
    "    ungroup()"
   ]
  },
  {
   "cell_type": "code",
   "execution_count": null,
   "id": "b8ea897f-8f43-4d7c-a400-21839997429a",
   "metadata": {
    "vscode": {
     "languageId": "r"
    }
   },
   "outputs": [],
   "source": [
    "saveRDS(combo_df, glue::glue(\"data/grouping{grouping_number}_event_log_combo_df.rds\"))\n",
    "#combo_df <- readRDS(glue::glue(\"data/grouping{grouping_number}_event_log_combo_df.rds\"))"
   ]
  },
  {
   "cell_type": "code",
   "execution_count": null,
   "id": "a75bf955-6bdd-4b45-be3c-56176362f536",
   "metadata": {
    "vscode": {
     "languageId": "r"
    }
   },
   "outputs": [],
   "source": [
    "combo_df %>% glimpse()"
   ]
  },
  {
   "cell_type": "code",
   "execution_count": null,
   "id": "815c15e6-68b8-4cee-8e42-a62d828ae908",
   "metadata": {
    "vscode": {
     "languageId": "r"
    }
   },
   "outputs": [],
   "source": [
    "ooh <- function(timestamps) {\n",
    "  a <- map_chr(timestamps, function(x) {\n",
    "    if(lubridate::wday(x,week_start = 1) > 5 | !between(lubridate::hour(x), 8, 17)) {\n",
    "      return('Out-of-hours')\n",
    "    } else {\n",
    "      return('In-hours')\n",
    "    }\n",
    "  })\n",
    "  \n",
    "  return(a)\n",
    "}"
   ]
  },
  {
   "cell_type": "code",
   "execution_count": null,
   "id": "d66aaedd-867b-4dc3-ad70-ebdb779c8713",
   "metadata": {
    "vscode": {
     "languageId": "r"
    }
   },
   "outputs": [],
   "source": [
    "summary_df <- combo_df %>% \n",
    "    filter(lifecycle_id == \"complete\") %>% #head(n=1000) %>% \n",
    "    arrange(activity_instance_id_by_bupar) %>%\n",
    "    mutate(\n",
    "        theday = wday(timestamp, label=T, week_start = 1),   \n",
    "        ooh = ooh(timestamp),\n",
    "        imd_rank = bit64::as.integer.integer64(imd_rank),\n",
    "        imd_decile = as.factor(bit64::as.integer.integer64(imd_decile)),\n",
    "    ) %>%\n",
    "    group_by(activity_instance_id) %>%\n",
    "      arrange(activity_instance_id_by_bupar) %>%\n",
    "      mutate(\n",
    "        current_activity = activity,\n",
    "        next_activity = lead(activity),\n",
    "      ) %>% \n",
    "      summarise(\n",
    "        person_id = bit64::as.integer.integer64(first(person_id)),\n",
    "          # Note typo: symtom_group_desc\n",
    "        across(c(ooh, age, sex, imd_rank, imd_decile, final_dx_code, symtom_group_desc, symptom_discriminator_desc, gp_surgery_id), first),\n",
    "        ethnicity = str_trunc(str_replace(first(ethnicity_source_value), \" - England and Wales ethnic category 2011 census\", \"\"),80, ellipsis = \"\"),\n",
    "\n",
    "        first_current = first(current_activity),\n",
    "        first_next = first(next_activity),\n",
    "        first_next = if_else(is.na(first_next), 'No further healthcare contact', first_next),\n",
    "        hosp = case_when(\n",
    "         any(activity == \"ED\") ~ first(hosp[activity == \"ED\"]),\n",
    "         TRUE ~ NA_character_\n",
    "        ),\n",
    "          \n",
    "        time_to_ED_non_avoid = case_when(\n",
    "            any(activity == 'ED' & !is.na(avoidable_admission) & avoidable_admission == 0) ~ \n",
    "                as.integer(\n",
    "                    difftime(\n",
    "                        first(timestamp[activity == \"ED\" & !is.na(avoidable_admission) & avoidable_admission == 0]), \n",
    "                        first(timestamp[activity %in% c(\"AC_INDEX\", \"IUC_INDEX\")]), unit = \"hours\")\n",
    "                ),\n",
    "                TRUE ~ NA_integer_\n",
    "        ),\n",
    "                                                                                                            \n",
    "        time_to_ED = case_when(\n",
    "            any(activity == \"ED\") ~ \n",
    "                as.integer(\n",
    "                    difftime(\n",
    "                        first(timestamp[activity == \"ED\"]), \n",
    "                        first(timestamp[activity %in% c(\"AC_INDEX\", \"IUC_INDEX\")]), unit = \"hours\")\n",
    "                ),\n",
    "                TRUE ~ NA_integer_\n",
    "        ),\n",
    "                                                                                                            \n",
    "        num_contacts_to_ED_non_avoid_attend = case_when(\n",
    "          any(activity == 'ED' & !is.na(avoidable_admission) & avoidable_admission == 0) ~ first(row_number()[activity == 'ED' & !is.na(avoidable_admission) & avoidable_admission == 0]-1),\n",
    "          TRUE ~ NA_integer_\n",
    "        ),\n",
    "        \n",
    "        num_GP_contacts_to_ED_attend = case_when(\n",
    "          any(activity == 'ED') ~ sum(row_number()[activity == 'GP'] < first(row_number()[activity == \"ED\"])),\n",
    "          TRUE ~ NA_integer_\n",
    "        ),\n",
    "        num_GP_contacts_to_ED_non_avoid_attend = case_when(\n",
    "          any(activity == 'ED' & !is.na(avoidable_admission) & avoidable_admission == 0) ~ sum(row_number()[activity == 'GP'] < first(row_number()[activity == 'ED' & !is.na(avoidable_admission) & avoidable_admission == 0]), na.rm = T),\n",
    "          TRUE ~ NA_integer_\n",
    "        ),\n",
    "        non_avoid_adn = sum(avoidable_admission == 0, na.rm = T),\n",
    "        sum_contacts_CAD = sum(activity == \"999\", na.rm = T),\n",
    "        sum_contacts_AC = sum(activity == \"AC\", na.rm = T),\n",
    "        sum_contacts_ED = sum(activity == \"ED\", na.rm = T),\n",
    "        sum_contacts_GP = sum(activity == \"GP\", na.rm = T),\n",
    "        sum_contacts_IP = sum(activity == \"IP\", na.rm = T),\n",
    "        sum_contacts_IUC = sum(activity == \"IUC\", na.rm = T),\n",
    "        one_or_more_CAD = if_else(sum_contacts_CAD > 0, 1, 0),\n",
    "        one_or_more_AC = if_else(sum_contacts_AC > 0, 1, 0),\n",
    "        one_or_more_ED = if_else(sum_contacts_ED > 0, 1, 0),\n",
    "        one_or_more_GP = if_else(sum_contacts_GP > 0, 1, 0),\n",
    "        one_or_more_IP = if_else(sum_contacts_IP > 0, 1, 0),\n",
    "        one_or_more_IUC = if_else(sum_contacts_IUC > 0, 1, 0),\n",
    "      ) %>% ungroup() "
   ]
  },
  {
   "cell_type": "code",
   "execution_count": null,
   "id": "0df3f901-a287-4805-bc78-b169d352f852",
   "metadata": {
    "vscode": {
     "languageId": "r"
    }
   },
   "outputs": [],
   "source": [
    "#summary_df %>% filter(!is.na(time_to_ED) & time_to_ED != time_to_ED_non_avoid) %>% glimpse()"
   ]
  },
  {
   "cell_type": "code",
   "execution_count": null,
   "id": "9d29a514-21af-4228-a0fd-e52e5a623b5a",
   "metadata": {
    "vscode": {
     "languageId": "r"
    }
   },
   "outputs": [],
   "source": [
    "summary_df1 <- summary_df %>%\n",
    "    mutate(\n",
    "      strata = if_else(grepl(\"ABN\", activity_instance_id), \"ABN\", \"IUC\")   \n",
    "    ) %>%\n",
    "    select(\n",
    "        person_id, \n",
    "        strata, \n",
    "        ooh, \n",
    "        age, \n",
    "        sex, \n",
    "        imd_decile, \n",
    "        ethnicity, \n",
    "        non_avoid_adn, \n",
    "        hosp, \n",
    "        gp_surgery_id, \n",
    "        first_next, \n",
    "        starts_with(\"num_\"),\n",
    "        starts_with(\"one_or_more\"),\n",
    "        starts_with(\"sum_contacts\"),\n",
    "        starts_with(\"time_to_ED\")\n",
    "    )                                                        "
   ]
  },
  {
   "cell_type": "code",
   "execution_count": null,
   "id": "04e82957-7485-4e38-bde1-7480453a0c18",
   "metadata": {
    "vscode": {
     "languageId": "r"
    }
   },
   "outputs": [],
   "source": [
    "summary_df1 %>% glimpse()"
   ]
  },
  {
   "cell_type": "code",
   "execution_count": null,
   "id": "13022b17-9d87-4de5-9132-090237886d1d",
   "metadata": {
    "vscode": {
     "languageId": "r"
    }
   },
   "outputs": [],
   "source": [
    "summary_df1 %>% saveRDS(glue::glue(\"output/grouping{grouping_number}_summary_df.rds\"))"
   ]
  },
  {
   "cell_type": "markdown",
   "id": "709521a9-6c68-4635-9ee4-66c87018f52a",
   "metadata": {},
   "source": [
    "# Sankey"
   ]
  },
  {
   "cell_type": "code",
   "execution_count": null,
   "id": "aa4a6050-a8a5-4884-96f3-cc7ab16e5bfc",
   "metadata": {
    "vscode": {
     "languageId": "r"
    }
   },
   "outputs": [],
   "source": [
    "sankey_df_fn <- function(df) {\n",
    "    sankey_df1 <- df %>% \n",
    "      filter(lifecycle_id == \"complete\") %>%\n",
    "      group_by(activity_instance_id) %>%\n",
    "      arrange(activity_instance_id_by_bupar) %>%\n",
    "      transmute(\n",
    "        activity_instance_id_by_bupar,\n",
    "        # Rename index cases to avoid removal later on\n",
    "        source = case_when(\n",
    "            activity == \"AC_INDEX\" ~ \"ACINDEX\",\n",
    "            activity == \"IUC_INDEX\" ~ \"IUCINDEX\",\n",
    "            TRUE ~ activity\n",
    "        ),\n",
    "        target = lead(activity)\n",
    "      ) %>% \n",
    "      ungroup() %>%\n",
    "      mutate(\n",
    "        target = if_else(is.na(target), 'End', target)\n",
    "      )\n",
    "    \n",
    "    sankey_df2 <- sankey_df1 %>%\n",
    "      mutate(\n",
    "        source_num = 1,\n",
    "        target_num = 1\n",
    "      ) %>%\n",
    "      arrange(activity_instance_id, activity_instance_id_by_bupar) %>%\n",
    "      group_by(activity_instance_id) %>%\n",
    "      mutate(\n",
    "        source_num = case_when(\n",
    "          row_number() == 1 ~ 1,\n",
    "          TRUE ~ as.numeric(row_number()) - 1\n",
    "        ),\n",
    "        target_num = case_when(\n",
    "          row_number() == 1 ~ 1,\n",
    "          TRUE ~ as.numeric(row_number())\n",
    "        )\n",
    "      ) %>% ungroup() \n",
    "    \n",
    "    \n",
    "    sankey_df3 <- sankey_df2 %>%\n",
    "      transmute(\n",
    "        source = paste(source, source_num, sep=\"_\"),\n",
    "        target = paste(target, target_num, sep=\"_\")\n",
    "      ) %>%\n",
    "      group_by(source, target) %>%\n",
    "      summarise(\n",
    "        counts2 = n()\n",
    "      ) %>% ungroup()\n",
    "    \n",
    "    sankey_df4 <- sankey_df3 %>%\n",
    "      rename(\n",
    "        value = counts2\n",
    "      ) %>%\n",
    "      separate(source, c('rawsource', 'iteration'), sep=\"_\", remove = F) %>%\n",
    "      filter(as.numeric(iteration) < 5) %>%\n",
    "      select(-rawsource, -iteration)\n",
    "\n",
    "    a <- sankey_df4 %>% distinct(source) \n",
    "    b <- sankey_df4 %>% distinct(target) %>% rename(source = target)\n",
    "    c <- distinct(bind_rows(a, b)) %>% mutate(id = row_number()-1) \n",
    "    \n",
    "    sankey_df5 <- sankey_df4 %>%\n",
    "      left_join(c, by=c(\"source\"=\"source\")) %>%\n",
    "      select(-source) %>%\n",
    "      rename(\n",
    "        source = id\n",
    "      ) %>%\n",
    "      left_join(c, by=c(\"target\" = \"source\")) %>%\n",
    "      select(-target) %>%\n",
    "      rename(\n",
    "        target = id\n",
    "      ) %>% as.data.frame()\n",
    "\n",
    "    nodes <- c %>%\n",
    "      rename(\n",
    "        name = source\n",
    "      ) %>% as.data.frame()\n",
    "    \n",
    "    return(list(sankey_df5, nodes))\n",
    "    \n",
    "    \n",
    "}"
   ]
  },
  {
   "cell_type": "code",
   "execution_count": null,
   "id": "c28f5c38-5161-4586-b60e-6782afce10b9",
   "metadata": {
    "vscode": {
     "languageId": "r"
    }
   },
   "outputs": [],
   "source": [
    "sankey_ac_list <- sankey_df_fn(event_ac_df)"
   ]
  },
  {
   "cell_type": "code",
   "execution_count": null,
   "id": "d4d24468-61b1-4d36-ba58-29d549dbfd5a",
   "metadata": {
    "vscode": {
     "languageId": "r"
    }
   },
   "outputs": [],
   "source": [
    "links <- sankey_ac_list[[1]]\n",
    "nodes <- sankey_ac_list[[2]]\n",
    "\n",
    "p <- sankeyNetwork(\n",
    "    Links = links,\n",
    "    Nodes = nodes,\n",
    "    Source = 'source',\n",
    "    Target = 'target',\n",
    "    Value = 'value',\n",
    "    NodeID = 'name', \n",
    "    fontSize = 12, \n",
    "    nodeWidth = 30, \n",
    "    units = 'n', \n",
    "    sinksRight = F\n",
    ")\n",
    "\n",
    "saveRDS(p, glue::glue(\"output/grouping{grouping_number}_AC_sankey.rds\"))\n",
    "\n",
    "p"
   ]
  },
  {
   "cell_type": "markdown",
   "id": "c077a116-2171-471b-b735-c0cd8f92d940",
   "metadata": {
    "tags": []
   },
   "source": [
    "## Figure above: Abandoned Calls sankey"
   ]
  },
  {
   "cell_type": "code",
   "execution_count": null,
   "id": "0c3f3cdf-3606-4901-8412-a477597208e5",
   "metadata": {
    "vscode": {
     "languageId": "r"
    }
   },
   "outputs": [],
   "source": [
    "sankey_iuc_list <- sankey_df_fn(event_iuc_df)\n",
    "links <- sankey_iuc_list[[1]]\n",
    "nodes <- sankey_iuc_list[[2]]\n",
    "\n",
    "r <- sankeyNetwork(\n",
    "    Links = links,\n",
    "    Nodes = nodes,\n",
    "    Source = 'source',\n",
    "    Target = 'target',\n",
    "    Value = 'value',\n",
    "    NodeID = 'name', \n",
    "    fontSize = 12, \n",
    "    nodeWidth = 30, \n",
    "    units = 'n', \n",
    "    sinksRight = F\n",
    ")\n",
    "\n",
    "saveRDS(r, glue::glue(\"output/grouping{grouping_number}_IUC_sankey.rds\"))\n",
    "\n",
    "r"
   ]
  },
  {
   "cell_type": "code",
   "execution_count": null,
   "id": "c9101f5f-d600-4856-9659-cc071d1b10d1",
   "metadata": {
    "vscode": {
     "languageId": "r"
    }
   },
   "outputs": [],
   "source": [
    "iuc_sankey <- readRDS(glue::glue(\"output/grouping{grouping_number}_IUC_sankey.rds\"))"
   ]
  },
  {
   "cell_type": "code",
   "execution_count": null,
   "id": "5f7d77d4-86b9-47c0-a65c-c1bc6f60e7dc",
   "metadata": {
    "vscode": {
     "languageId": "r"
    }
   },
   "outputs": [],
   "source": [
    "iuc_sankey"
   ]
  },
  {
   "cell_type": "code",
   "execution_count": null,
   "id": "7f78e388-845e-4e8f-bbcf-f489a402aaf5",
   "metadata": {
    "vscode": {
     "languageId": "r"
    }
   },
   "outputs": [],
   "source": [
    "saveNetwork(iuc_sankey, glue::glue(\"output/grouping{grouping_number}_IUC_sankey.html\"), selfcontained = TRUE)"
   ]
  },
  {
   "cell_type": "code",
   "execution_count": null,
   "id": "884d07ba-edeb-4520-b5bf-7de1310eaec4",
   "metadata": {
    "vscode": {
     "languageId": "r"
    }
   },
   "outputs": [],
   "source": [
    "ac_sankey <- readRDS(glue::glue(\"output/grouping{grouping_number}_AC_sankey.rds\"))"
   ]
  },
  {
   "cell_type": "code",
   "execution_count": null,
   "id": "773b9dd7-ea09-45d5-a2e2-f6f4ed47b714",
   "metadata": {
    "vscode": {
     "languageId": "r"
    }
   },
   "outputs": [],
   "source": [
    "ac_sankey"
   ]
  },
  {
   "cell_type": "code",
   "execution_count": null,
   "id": "7cf5a2f5-38b4-4ece-9911-e53e87ef3d01",
   "metadata": {
    "vscode": {
     "languageId": "r"
    }
   },
   "outputs": [],
   "source": [
    "saveNetwork(ac_sankey, glue::glue(\"output/grouping{grouping_number}_AC_sankey.html\"), selfcontained = TRUE)"
   ]
  }
 ],
 "metadata": {
  "environment": {
   "kernel": "ir",
   "name": ".m112",
   "type": "gcloud",
   "uri": "gcr.io/deeplearning-platform-release/:m112"
  },
  "kernelspec": {
   "display_name": "R",
   "language": "R",
   "name": "ir"
  },
  "language_info": {
   "codemirror_mode": "r",
   "file_extension": ".r",
   "mimetype": "text/x-r-source",
   "name": "R",
   "pygments_lexer": "r",
   "version": "4.2.3"
  }
 },
 "nbformat": 4,
 "nbformat_minor": 5
}
