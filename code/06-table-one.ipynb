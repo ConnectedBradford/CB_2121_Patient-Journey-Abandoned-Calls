{
 "cells": [
  {
   "cell_type": "markdown",
   "id": "587ef918-1062-4be3-8b26-c041aea8f57e",
   "metadata": {},
   "source": [
    "# Event log creation - version 2\n",
    "\n",
    "Following feedback from statisticians, this script (which should be run after step 6) will revise certain fields to conform with subsequent survival analysis and regression analysis."
   ]
  },
  {
   "cell_type": "code",
   "execution_count": null,
   "id": "6918bcbd-4e8d-4cb9-ad3f-cc4cf2ca7086",
   "metadata": {},
   "outputs": [],
   "source": [
    "suppressPackageStartupMessages(library(tidyverse))\n",
    "library(lubridate)\n",
    "library(glue)\n",
    "suppressPackageStartupMessages(library(bupaR))\n",
    "library(processanimateR)\n",
    "library(ggplot2)\n",
    "library(ggfortify)\n",
    "# # Debian / Ubuntu sudo apt-get install libv8-dev using a terminal window first before gtsummary\n",
    "library(gtsummary)\n",
    "library(networkD3)\n",
    "suppressPackageStartupMessages(library(flextable))"
   ]
  },
  {
   "cell_type": "code",
   "execution_count": null,
   "id": "69ce6b38-2219-4128-a101-67f0c9325d50",
   "metadata": {},
   "outputs": [],
   "source": [
    "imd_ethnicity_fn <- function(df) {\n",
    " df %>%\n",
    "    mutate(\n",
    "        imd_quintile = as.factor(case_when(\n",
    "            as.integer(imd_decile) %in% c(1, 2) ~ 1,\n",
    "            as.integer(imd_decile) %in% c(3, 4) ~ 2,\n",
    "            as.integer(imd_decile) %in% c(5, 6) ~ 3,\n",
    "            as.integer(imd_decile) %in% c(7, 8) ~ 4,\n",
    "            as.integer(imd_decile) %in% c(9, 10) ~ 5,\n",
    "            TRUE ~ NA_integer_\n",
    "        )),\n",
    "        ethnicity_simple = fct_relevel(str_extract(ethnicity, \"[^:]+\"), 'White')\n",
    "    ) %>%\n",
    "    filter( age <= 107)\n",
    "}"
   ]
  },
  {
   "cell_type": "code",
   "execution_count": null,
   "id": "d9c18624-b1a0-47be-99e2-0cefc4555d41",
   "metadata": {},
   "outputs": [],
   "source": [
    "#summary_df1 <- readRDS(glue::glue(\"output/grouping1_summary_df.rds\"))"
   ]
  },
  {
   "cell_type": "code",
   "execution_count": null,
   "id": "13022b17-9d87-4de5-9132-090237886d1d",
   "metadata": {},
   "outputs": [],
   "source": [
    "summary_df1 <- readRDS(glue::glue(\"output/grouping1_summary_df.rds\")) %>%\n",
    "    imd_ethnicity_fn()\n",
    "summary_df2 <- readRDS(glue::glue(\"output/grouping2_summary_df.rds\")) %>%\n",
    "    imd_ethnicity_fn()\n",
    "summary_df3 <- readRDS(glue::glue(\"output/grouping3_summary_df.rds\")) %>%\n",
    "    imd_ethnicity_fn()"
   ]
  },
  {
   "cell_type": "code",
   "execution_count": null,
   "id": "23ab0bfe-9a44-47b6-90d7-828190ac5564",
   "metadata": {},
   "outputs": [],
   "source": [
    "summary_df1 %>% count(strata)"
   ]
  },
  {
   "cell_type": "code",
   "execution_count": null,
   "id": "d9062562-c0a2-4fda-b0c3-be110d300ae3",
   "metadata": {},
   "outputs": [],
   "source": [
    "summarise_data_fn <- function(summary_df) {\n",
    "    summary_df %>% select(\n",
    "        strata, \n",
    "        ooh, \n",
    "        age, \n",
    "        sex, \n",
    "        imd_quintile, \n",
    "        ethnicity_simple, \n",
    "        hosp, \n",
    "        first_next, \n",
    "        non_avoid_adn, \n",
    "        sum_contacts_ED,\n",
    "        sum_contacts_CAD,\n",
    "        sum_contacts_AC, \n",
    "        sum_contacts_GP, \n",
    "        sum_contacts_IP, \n",
    "        sum_contacts_IUC\n",
    "    ) %>%\n",
    "    #glimpse()\n",
    "    tbl_summary(\n",
    "     by = \"strata\",\n",
    "     type = list(starts_with(\"sum_contacts_\") ~ \"continuous\", non_avoid_adn ~ 'continuous'),\n",
    "     statistic = list(\n",
    "         ooh ~ \"{n} ({p}%)\",\n",
    "         age ~ \"{median} ({p25}, {p75})\",\n",
    "         sex ~ \"{n} ({p}%)\",\n",
    "         imd_quintile ~ \"{n} ({p}%)\",\n",
    "         ethnicity_simple ~  \"{n} ({p}%)\",\n",
    "         non_avoid_adn ~ \"{sum}\",\n",
    "         hosp ~ \"{n} ({p}%)\",\n",
    "         first_next ~ \"{n} ({p}%)\",\n",
    "         sum_contacts_CAD ~ \"{sum}\",\n",
    "         sum_contacts_AC  ~ \"{sum}\",\n",
    "         sum_contacts_ED  ~ \"{sum}\",\n",
    "         sum_contacts_GP  ~ \"{sum}\",\n",
    "         sum_contacts_IP  ~ \"{sum}\",\n",
    "         sum_contacts_IUC ~ \"{sum}\"\n",
    "     ),\n",
    "     label = list(\n",
    "         ooh ~ \"Out-of-hours\",\n",
    "         age ~ \"Age in years\",\n",
    "         sex ~ \"Sex\",\n",
    "         imd_quintile ~ \"IMD quintile\",\n",
    "         ethnicity_simple ~ \"Ethnicity\",\n",
    "         non_avoid_adn ~ \"Non-avoidable ED attendances\",\n",
    "         hosp ~ \"Hospital ED attendance\",\n",
    "         first_next ~ \"First healthcare contact after index call\",\n",
    "         sum_contacts_CAD ~ \"999 ambulance calls\",\n",
    "         sum_contacts_AC ~ \"Abandoned calls\",\n",
    "         sum_contacts_ED ~ \"ED attendances\",\n",
    "         sum_contacts_GP ~ \"GP contacts\",\n",
    "         sum_contacts_IP ~ \"In-patient admissions\",\n",
    "         sum_contacts_IUC ~ \"Triaged 111 calls\"\n",
    "     )\n",
    "    ) %>% bold_labels() %>% add_stat_label() %>%\n",
    "    modify_header(\n",
    "        update = list(\n",
    "          stat_1 ~ \"**Abandoned Call** (n={n})\",\n",
    "          stat_2 ~ \"**Triaged 111 Call** (n={n})\"\n",
    "        ))\n",
    "}"
   ]
  },
  {
   "cell_type": "code",
   "execution_count": null,
   "id": "cfa821c7-08b4-44f0-908c-0b61c73331a3",
   "metadata": {},
   "outputs": [],
   "source": [
    "st1 <- summarise_data_fn(summary_df1)\n",
    "st2 <- summarise_data_fn(summary_df2)\n",
    "st3 <- summarise_data_fn(summary_df3)\n",
    "# st4 <- summarise_data_fn(summary_df4)"
   ]
  },
  {
   "cell_type": "code",
   "execution_count": null,
   "id": "c1a49512-67f3-45a1-b7d2-fb2056b571da",
   "metadata": {},
   "outputs": [],
   "source": [
    "st_merged <- tbl_merge(list(st1, st2, st3), tab_spanner = c('Grouping 1', 'Grouping 2', 'Grouping 3'))"
   ]
  },
  {
   "cell_type": "code",
   "execution_count": null,
   "id": "bc902b57-bf71-4621-b440-9a22a7021edb",
   "metadata": {},
   "outputs": [],
   "source": [
    "st_merged %>% as_tibble()"
   ]
  },
  {
   "cell_type": "code",
   "execution_count": null,
   "id": "8acc0d4c-1148-4004-936b-1d44efc79dc9",
   "metadata": {},
   "outputs": [],
   "source": [
    "saveRDS(st_merged, 'output/st_merged_table_one.rds')"
   ]
  },
  {
   "cell_type": "code",
   "execution_count": null,
   "id": "de8fb738-2cf5-4060-98dc-af138b03dcb7",
   "metadata": {},
   "outputs": [],
   "source": [
    "st_merged %>%\n",
    "    as_gt() %>%\n",
    "    gt::gtsave(filename = glue::glue(\"output/table1_all_cohorts.html\"))"
   ]
  },
  {
   "cell_type": "code",
   "execution_count": null,
   "id": "7942a10b-4c02-4a04-8817-5d3f0ad7768a",
   "metadata": {},
   "outputs": [],
   "source": [
    "st_merged %>%\n",
    "    as_flex_table() %>%\n",
    "    save_as_docx(path = glue::glue(\"output/table1_all_cohorts.docx\"))"
   ]
  }
 ],
 "metadata": {
  "environment": {
   "kernel": "ir",
   "name": ".m112",
   "type": "gcloud",
   "uri": "gcr.io/deeplearning-platform-release/:m112"
  },
  "kernelspec": {
   "display_name": "R",
   "language": "R",
   "name": "ir"
  },
  "language_info": {
   "codemirror_mode": "r",
   "file_extension": ".r",
   "mimetype": "text/x-r-source",
   "name": "R",
   "pygments_lexer": "r",
   "version": "4.2.3"
  }
 },
 "nbformat": 4,
 "nbformat_minor": 5
}
