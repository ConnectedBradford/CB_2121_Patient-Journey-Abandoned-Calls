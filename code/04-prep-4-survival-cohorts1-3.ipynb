{
 "cells": [
  {
   "cell_type": "markdown",
   "id": "df49145c-4c9a-4366-847a-f36b4607a5e9",
   "metadata": {},
   "source": [
    "# Survival cohort preparation"
   ]
  },
  {
   "cell_type": "code",
   "execution_count": null,
   "id": "43cc3281-bd51-4fcb-a3f8-1e127a9caa6f",
   "metadata": {},
   "outputs": [],
   "source": [
    "grouping_number = 3 # This notebook will need to be run 3 times, adjusting the grouping to 1, 2 or 3\n",
    "\n",
    "follow_up_time = 72\n",
    "\n",
    "follow_up_time_str = \"\"\n",
    "if(follow_up_time != 72) {\n",
    " follow_up_time_str <- glue::glue(\"_{follow_up_time}\")   \n",
    "}"
   ]
  },
  {
   "cell_type": "code",
   "execution_count": null,
   "id": "2f3cd00c-3586-4a10-9757-8f313743eccd",
   "metadata": {},
   "outputs": [],
   "source": [
    "suppressPackageStartupMessages(library(tidyverse))\n",
    "library(lubridate)\n",
    "library(glue)\n",
    "suppressPackageStartupMessages(library(bupaR))\n",
    "# library(processanimateR)\n",
    "library(survival)\n",
    "library(ggplot2)\n",
    "library(ggfortify)"
   ]
  },
  {
   "cell_type": "code",
   "execution_count": null,
   "id": "e9ef7ba8-2f00-44ef-9061-b1a20dc224d8",
   "metadata": {},
   "outputs": [],
   "source": [
    "ab_df <- readRDS(glue::glue(\"data/final_abandoned_call_nest_df{follow_up_time_str}.rds\")) %>% filter(start >= ymd_hms('2022-01-01 00:00:00'))\n",
    "ab_df %>% glimpse()"
   ]
  },
  {
   "cell_type": "code",
   "execution_count": null,
   "id": "eff46bba-1d8b-40fd-b66f-ce71ad2f14dc",
   "metadata": {},
   "outputs": [],
   "source": [
    "if(grouping_number == 1) {\n",
    "    print('Grouping 1: Abandoned calls with previous 111 triage')\n",
    "    ab_dfa <- ab_df %>%\n",
    "        filter(contacted_iuc_b4_ac == 1)\n",
    "} else if(grouping_number == 2) {\n",
    "    print('Grouping 2: Abandoned calls with no previous 111 triage')\n",
    "    ab_dfa <- ab_df %>%\n",
    "    filter(contacted_iuc_b4_ac == 0)\n",
    "} else if(grouping_number == 3) {\n",
    "     print('Grouping 3: All abandoned calls irrespective of previous 111 triage')   \n",
    "    ab_dfa <- ab_df\n",
    "}"
   ]
  },
  {
   "cell_type": "code",
   "execution_count": null,
   "id": "5bf226d1-66da-40c9-b10b-f36b310477b3",
   "metadata": {},
   "outputs": [],
   "source": [
    "ab_dfa %>% count() # Grouping 1: 1866 Grouping 2: 28713 Grouping 3: 30579"
   ]
  },
  {
   "cell_type": "markdown",
   "id": "f634967f-6208-4ee1-851d-510693a013fe",
   "metadata": {},
   "source": [
    "# Unnest files"
   ]
  },
  {
   "cell_type": "code",
   "execution_count": null,
   "id": "a4e2dee6-2abd-4c96-9af1-7c5d91fd2fee",
   "metadata": {},
   "outputs": [],
   "source": [
    "# Need to provide an instance ID for each grouping of times e.g. GP start and end time\n",
    "# Cannot use index_rn for this as there may be multiple GP/ED/EPR records in a 72 hours period\n",
    "\n",
    "process_nest <- function(df, nest_df_name, nest_df_name_count, activity) {\n",
    "    \n",
    "    if(activity == 'IUC') {\n",
    "        df %>%\n",
    "            filter(!! rlang::sym(nest_df_name_count) > 0) %>%\n",
    "            select(unique_id, !! rlang::sym(nest_df_name)) %>%\n",
    "            rename(activity_instance_id = unique_id) %>%\n",
    "            unnest(!! rlang::sym(nest_df_name)) %>%\n",
    "            transmute(\n",
    "                activity_instance_id,\n",
    "                person_id,\n",
    "                unique_id,\n",
    "                start,\n",
    "                end,\n",
    "                age,\n",
    "                sex,\n",
    "                imd_rank,\n",
    "                imd_decile,\n",
    "                ethnicity_source_value,\n",
    "                final_dx_code,\n",
    "                symtom_group_desc,\n",
    "                symptom_discriminator_desc,\n",
    "                avoidable_admission = NA,\n",
    "                hosp = NA,\n",
    "                activity = !! activity,\n",
    "                gp_practice_id = gp_surgery_id\n",
    "            ) %>% distinct(activity_instance_id, start, end, .keep_all = T)\n",
    "    } else if (activity == 'ED') {\n",
    "        df %>%\n",
    "            filter(!! rlang::sym(nest_df_name_count) > 0) %>%\n",
    "            select(unique_id, !! rlang::sym(nest_df_name)) %>%\n",
    "            rename(activity_instance_id = unique_id) %>%\n",
    "            unnest(!! rlang::sym(nest_df_name)) %>%\n",
    "            transmute(\n",
    "                activity_instance_id,\n",
    "                person_id,\n",
    "                unique_id,\n",
    "                start,\n",
    "                end,\n",
    "                age = ed_age,\n",
    "                sex = ed_sex,\n",
    "                avoidable_admission,\n",
    "                final_dx_code = NA,\n",
    "                symtom_group_desc = NA,\n",
    "                symptom_discriminator_desc = NA,\n",
    "                hosp,\n",
    "                activity = !! activity,\n",
    "                imd_rank,\n",
    "                imd_decile,\n",
    "                ethnicity_source_value,\n",
    "                gp_practice_id = NA\n",
    "            ) %>% distinct(activity_instance_id, start, end, .keep_all = T)\n",
    "    } else if (activity == 'IP') {\n",
    "        df %>%\n",
    "            filter(!! rlang::sym(nest_df_name_count) > 0) %>%\n",
    "            select(unique_id, !! rlang::sym(nest_df_name)) %>%\n",
    "            rename(activity_instance_id = unique_id) %>%\n",
    "            unnest(!! rlang::sym(nest_df_name)) %>%\n",
    "            transmute(\n",
    "                activity_instance_id,\n",
    "                person_id,\n",
    "                unique_id,\n",
    "                start,\n",
    "                end,\n",
    "                age = hosp_age,\n",
    "                sex = hosp_sex,\n",
    "                avoidable_admission = NA,\n",
    "                final_dx_code = NA,\n",
    "                symtom_group_desc = NA,\n",
    "                symptom_discriminator_desc = NA,\n",
    "                hosp,\n",
    "                activity = !! activity,\n",
    "                imd_rank,\n",
    "                imd_decile,\n",
    "                ethnicity_source_value,\n",
    "                gp_practice_id = NA\n",
    "            ) %>% distinct(activity_instance_id, start, end, .keep_all = T)\n",
    "    } else if (activity == 'GP') {\n",
    "        df %>%\n",
    "            filter(!! rlang::sym(nest_df_name_count) > 0) %>%\n",
    "            select(unique_id, !! rlang::sym(nest_df_name)) %>%\n",
    "            rename(activity_instance_id = unique_id) %>%\n",
    "            unnest(!! rlang::sym(nest_df_name)) %>%\n",
    "            transmute(\n",
    "                activity_instance_id,\n",
    "                person_id,\n",
    "                unique_id,\n",
    "                start,\n",
    "                end,\n",
    "                age = age,\n",
    "                sex = sex,\n",
    "                avoidable_admission = NA,\n",
    "                final_dx_code = NA,\n",
    "                symtom_group_desc = NA,\n",
    "                symptom_discriminator_desc = NA,\n",
    "                hosp = NA,\n",
    "                activity = !! activity,\n",
    "                imd_rank,\n",
    "                imd_decile,\n",
    "                ethnicity_source_value,\n",
    "                # Won't interfere with IUC data which includes gp_surgery_id\n",
    "                # already allocated to IUC index cases\n",
    "                gp_practice_id = gp_surgery_id\n",
    "            ) %>% distinct(activity_instance_id, start, end, .keep_all = T)\n",
    "    } else {\n",
    "        df1 <- df %>%\n",
    "            filter(!! rlang::sym(nest_df_name_count) > 0)\n",
    "        #print(nrow(df1))\n",
    "        if(nrow(df1) > 0) {\n",
    "            df1 %>%\n",
    "            select(unique_id, !! rlang::sym(nest_df_name)) %>%\n",
    "            rename(activity_instance_id = unique_id) %>%\n",
    "            unnest(!! rlang::sym(nest_df_name)) %>% #glimpse()\n",
    "            transmute(\n",
    "                activity_instance_id,\n",
    "                person_id,\n",
    "                unique_id,\n",
    "                start,\n",
    "                end,\n",
    "                age,\n",
    "                sex,\n",
    "                imd_rank,\n",
    "                imd_decile,\n",
    "                ethnicity_source_value,\n",
    "                avoidable_admission = NA,\n",
    "                final_dx_code = NA,\n",
    "                symtom_group_desc = NA,\n",
    "                symptom_discriminator_desc = NA,\n",
    "                activity = !! activity,\n",
    "                hosp = NA,\n",
    "                gp_practice_id = NA\n",
    "                # There are some duplications of In-patient and ED cases but they all have the same start and end date times.\n",
    "            ) %>% distinct(activity_instance_id, start, end, .keep_all = T)\n",
    "        }\n",
    "\n",
    "    }\n",
    "\n",
    "  \n",
    "}"
   ]
  },
  {
   "cell_type": "code",
   "execution_count": null,
   "id": "8acfb74d-2dff-4ccc-97ce-e7ed40e7f778",
   "metadata": {},
   "outputs": [],
   "source": [
    "gp_df <- process_nest(ab_dfa, glue::glue(\"gp_nest_visit_{follow_up_time}_df\"), glue::glue(\"gp_nest_calls_in_{follow_up_time}_hrs\"), \"GP\")"
   ]
  },
  {
   "cell_type": "code",
   "execution_count": null,
   "id": "cb712849-3e7a-4ec7-a396-b9fc9bd0a887",
   "metadata": {},
   "outputs": [],
   "source": [
    "gp_df %>% glimpse()"
   ]
  },
  {
   "cell_type": "code",
   "execution_count": null,
   "id": "249f3bd8-3d33-4d37-aeba-2b63155dd6ba",
   "metadata": {},
   "outputs": [],
   "source": [
    "gp_df %>% count() # Grouping 1: 771 Grouping 2: 3571 Grouping 3: 4342"
   ]
  },
  {
   "cell_type": "code",
   "execution_count": null,
   "id": "fb9f0d79-41e1-4ea4-ab55-f55ab262764b",
   "metadata": {},
   "outputs": [],
   "source": [
    "iuc_df <- process_nest(ab_dfa, glue::glue(\"iuc_nest_visit_{follow_up_time}_df\"), glue::glue(\"iuc_nest_calls_in_{follow_up_time}_hrs\"), \"IUC\")"
   ]
  },
  {
   "cell_type": "code",
   "execution_count": null,
   "id": "9f0f105e-c866-48d4-9457-7c76b39ccd5c",
   "metadata": {},
   "outputs": [],
   "source": [
    "iuc_df %>% glimpse()"
   ]
  },
  {
   "cell_type": "code",
   "execution_count": null,
   "id": "a7c2bd36-c9b4-4235-99b4-3d6c9cd77770",
   "metadata": {},
   "outputs": [],
   "source": [
    "iuc_df %>% count() # Grouping 1: 924 Grouping 2: 3952 Grouping 3: 4876"
   ]
  },
  {
   "cell_type": "code",
   "execution_count": null,
   "id": "3da192de-11ee-423b-9ea9-171038ca7803",
   "metadata": {},
   "outputs": [],
   "source": [
    "cad_df <- process_nest(ab_dfa, glue::glue(\"cad_nest_visit_{follow_up_time}_df\"), glue::glue(\"cad_nest_calls_in_{follow_up_time}_hrs\"), \"999\")"
   ]
  },
  {
   "cell_type": "code",
   "execution_count": null,
   "id": "035e2a52-f7d2-4ee7-b9d8-8b395f0342f4",
   "metadata": {},
   "outputs": [],
   "source": [
    "cad_df %>% glimpse()"
   ]
  },
  {
   "cell_type": "code",
   "execution_count": null,
   "id": "ce58f7c7-7d20-496c-8da8-8936867c7ec5",
   "metadata": {},
   "outputs": [],
   "source": [
    "cad_df %>% count() # Grouping 1: 166 Grouping 2: 733 Grouping 3: 899"
   ]
  },
  {
   "cell_type": "code",
   "execution_count": null,
   "id": "bca5c278-1d0b-4ac9-b19c-fdd77f8a2f54",
   "metadata": {},
   "outputs": [],
   "source": [
    "hosp_ed_df <- process_nest(ab_dfa, glue::glue(\"hosp_ed_nest_visit_{follow_up_time}_df\"), glue::glue(\"hosp_ed_nest_calls_in_{follow_up_time}_hrs\"), \"ED\")"
   ]
  },
  {
   "cell_type": "code",
   "execution_count": null,
   "id": "5cce833c-f44f-4986-b2e7-855d1a080f30",
   "metadata": {},
   "outputs": [],
   "source": [
    "hosp_ed_df %>% glimpse()"
   ]
  },
  {
   "cell_type": "code",
   "execution_count": null,
   "id": "3351ba7a-9215-423a-99f2-6fbb31869365",
   "metadata": {},
   "outputs": [],
   "source": [
    "hosp_ed_df %>% count() # Grouping 1: 360 Grouping 2: 2678 Grouping 3: 3112"
   ]
  },
  {
   "cell_type": "code",
   "execution_count": null,
   "id": "137c81fd-bed4-4225-a1b8-13584a77b4c1",
   "metadata": {},
   "outputs": [],
   "source": [
    "hosp_ip_df <- process_nest(ab_dfa, glue::glue(\"hosp_ip_nest_visit_{follow_up_time}_df\"), glue::glue(\"hosp_ip_nest_calls_in_{follow_up_time}_hrs\"), \"IP\")"
   ]
  },
  {
   "cell_type": "code",
   "execution_count": null,
   "id": "82ae5751-dca9-4dd0-9cf1-fbbde8a546bd",
   "metadata": {},
   "outputs": [],
   "source": [
    "hosp_ip_df %>% glimpse()"
   ]
  },
  {
   "cell_type": "code",
   "execution_count": null,
   "id": "659f70bd-1416-4efd-8f25-84a20949c1d9",
   "metadata": {},
   "outputs": [],
   "source": [
    "hosp_ip_df %>% count() # Cohort 1: 146 Cohort 2: 911 Cohort 3: 1090"
   ]
  },
  {
   "cell_type": "code",
   "execution_count": null,
   "id": "cee3bd75-071d-49ec-9fd1-03c162380fb1",
   "metadata": {},
   "outputs": [],
   "source": [
    "ac_df <- process_nest(ab_dfa, glue::glue(\"ac_nest_visit_{follow_up_time}_df\"), glue::glue(\"ac_nest_calls_in_{follow_up_time}_hrs\"), \"AC\")"
   ]
  },
  {
   "cell_type": "code",
   "execution_count": null,
   "id": "db942638-2e92-4cde-b6b4-7e946a43377f",
   "metadata": {},
   "outputs": [],
   "source": [
    "ac_df %>% glimpse()"
   ]
  },
  {
   "cell_type": "code",
   "execution_count": null,
   "id": "196372fc-dff9-4561-b5c4-4a6a655e8d44",
   "metadata": {},
   "outputs": [],
   "source": [
    "ac_df %>% count() # Grouping 1: 204 Grouping 2: 958 Grouping 3: 1162"
   ]
  },
  {
   "cell_type": "code",
   "execution_count": null,
   "id": "99b9dd8a-0284-4204-88fa-621243dc8294",
   "metadata": {},
   "outputs": [],
   "source": [
    "ooh <- function(timestamps) {\n",
    "  a <- map_chr(timestamps, function(x) {\n",
    "    if(lubridate::wday(x,week_start = 1) > 5 | !between(lubridate::hour(x), 8, 17)) {\n",
    "      return('Out-of-hours')\n",
    "    } else {\n",
    "      return('In-hours')\n",
    "    }\n",
    "  })\n",
    "  \n",
    "  return(a)\n",
    "}"
   ]
  },
  {
   "cell_type": "code",
   "execution_count": null,
   "id": "e8cb932b-3840-470f-a5be-64dd3255b7c5",
   "metadata": {},
   "outputs": [],
   "source": [
    "# Tidy up main ab_df dataframe before joining the datasets together\n",
    "ab_df1 <- ab_dfa %>%\n",
    "    transmute(\n",
    "        unique_id,\n",
    "        person_id,\n",
    "        ethnicity_source_value,\n",
    "        age,\n",
    "        sex,\n",
    "        imd_rank,\n",
    "        imd_decile,\n",
    "        activity_instance_id = unique_id,\n",
    "        start,\n",
    "        end,\n",
    "        ooh = ooh(start),\n",
    "        avoidable_admission = NA,\n",
    "        final_dx_code = NA,\n",
    "        symtom_group_desc = NA,\n",
    "        symptom_discriminator_desc = NA,\n",
    "        activity = 'AC_INDEX',\n",
    "        hosp = NA_character_,\n",
    "        gp_surgery_id = NA\n",
    "        \n",
    "    ) %>% distinct(activity_instance_id, start, end, .keep_all = T)"
   ]
  },
  {
   "cell_type": "code",
   "execution_count": null,
   "id": "c2333e64-84b6-4e22-9d89-3a8ee5290e3f",
   "metadata": {},
   "outputs": [],
   "source": [
    "ab_df1 %>% glimpse()"
   ]
  },
  {
   "cell_type": "code",
   "execution_count": null,
   "id": "8a6c5c1c-c08a-46c1-9f75-5a95ea165ecc",
   "metadata": {},
   "outputs": [],
   "source": [
    "df <- bind_rows(ab_df1, gp_df, iuc_df, cad_df, hosp_ed_df, hosp_ip_df, ac_df) %>%\n",
    "    arrange(start)"
   ]
  },
  {
   "cell_type": "code",
   "execution_count": null,
   "id": "6c0ee4f2-5624-437e-bfd6-229e33ea2458",
   "metadata": {},
   "outputs": [],
   "source": [
    "df %>% glimpse() # Grouping 1: 4436 Grouping 2: 41516 Grouping 3: 46060"
   ]
  },
  {
   "cell_type": "code",
   "execution_count": null,
   "id": "afd5d644-c65e-472d-b9f5-bb69d35d0caf",
   "metadata": {},
   "outputs": [],
   "source": [
    "df1 <- df %>% \n",
    "    group_by(person_id) %>% \n",
    "    mutate(\n",
    "        gp_surgery_id = if_else(any(is.na(gp_surgery_id) & !is.na(gp_practice_id)), first(gp_practice_id[!is.na(gp_practice_id)]), first(gp_surgery_id))\n",
    "    ) %>%\n",
    "    ungroup()"
   ]
  },
  {
   "cell_type": "code",
   "execution_count": null,
   "id": "1cec10b3-56b1-4b55-888b-61a7b03048ac",
   "metadata": {},
   "outputs": [],
   "source": [
    "df1 %>% count(is.na(gp_surgery_id)) "
   ]
  },
  {
   "cell_type": "code",
   "execution_count": null,
   "id": "f732ce2a-60f5-473b-8a94-e8c5e3519e50",
   "metadata": {},
   "outputs": [],
   "source": [
    "saveRDS(df1, glue::glue(\"data/grouping{grouping_number}_ac_combo_df{follow_up_time_str}.rds\"))"
   ]
  },
  {
   "cell_type": "code",
   "execution_count": null,
   "id": "ab36a9be-7b51-4ff4-96cb-9e32f55b2d40",
   "metadata": {},
   "outputs": [],
   "source": [
    "# df1 <- readRDS(glue::glue(\"data/grouping{grouping_number}_ac_combo_df.rds\"))\n",
    "# df1 %>% filter(activity_instance_id\t == \"ABN_10030\")"
   ]
  },
  {
   "cell_type": "markdown",
   "id": "7ecdcd46-babd-406f-9f8c-e41c4a7b0014",
   "metadata": {},
   "source": [
    "# 111 data"
   ]
  },
  {
   "cell_type": "code",
   "execution_count": null,
   "id": "55fc6820-e750-40f2-a355-354ab038f80f",
   "metadata": {},
   "outputs": [],
   "source": [
    "grouping_iuc_df <- readRDS(glue::glue(\"data/grouping{grouping_number}_iuc_nest_df{follow_up_time_str}.rds\"))"
   ]
  },
  {
   "cell_type": "code",
   "execution_count": null,
   "id": "976c1860-c94d-4aad-916b-c64a13781976",
   "metadata": {},
   "outputs": [],
   "source": [
    "grouping_iuc_df %>% glimpse()"
   ]
  },
  {
   "cell_type": "code",
   "execution_count": null,
   "id": "81a180e8-51da-4e96-9743-829bd236cc9e",
   "metadata": {},
   "outputs": [],
   "source": [
    "grouping_iuc_df1 <- grouping_iuc_df %>%\n",
    "    transmute(\n",
    "        unique_id,\n",
    "        person_id,\n",
    "        age,\n",
    "        sex,\n",
    "        activity_instance_id = unique_id,\n",
    "        start,\n",
    "        end,\n",
    "        ooh = ooh(start),\n",
    "        avoidable_admission = NA,\n",
    "        final_dx_code,\n",
    "        symtom_group_desc,\n",
    "        symptom_discriminator_desc,\n",
    "        activity = 'IUC_INDEX',\n",
    "        hosp = NA,\n",
    "        ethnicity_source_value,\n",
    "        imd_rank,\n",
    "        imd_decile,\n",
    "        gp_practice_id = gp_surgery_id\n",
    "    ) %>% distinct()"
   ]
  },
  {
   "cell_type": "code",
   "execution_count": null,
   "id": "6b5a6173-8853-49e5-92a6-c809ce0bb3a9",
   "metadata": {},
   "outputs": [],
   "source": [
    "iuc_gp_df <- process_nest(grouping_iuc_df, glue::glue(\"gp_nest_visit_{follow_up_time}_df\"), glue::glue(\"gp_nest_calls_in_{follow_up_time}_hrs\"), \"GP\")"
   ]
  },
  {
   "cell_type": "code",
   "execution_count": null,
   "id": "be4d41cf-4b01-4dff-9aea-b6738561ed96",
   "metadata": {},
   "outputs": [],
   "source": [
    "iuc_gp_df %>% count() # Group 1: 57671 GRoup 2: 56810 GRoup 3: 56285"
   ]
  },
  {
   "cell_type": "code",
   "execution_count": null,
   "id": "acd9542a-4f58-44b5-9508-b158d70fdd30",
   "metadata": {},
   "outputs": [],
   "source": [
    "iuc_iuc_df <- process_nest(grouping_iuc_df, glue::glue(\"iuc_nest_visit_{follow_up_time}_df\"), glue::glue(\"iuc_nest_calls_in_{follow_up_time}_hrs\"), \"IUC\")"
   ]
  },
  {
   "cell_type": "code",
   "execution_count": null,
   "id": "05e33032-41be-481f-a347-98a9c7ac1b4c",
   "metadata": {},
   "outputs": [],
   "source": [
    "iuc_iuc_df %>% count() # Grouping 1: 25110 Grouping 2: 25166 grouping 3: 24409"
   ]
  },
  {
   "cell_type": "code",
   "execution_count": null,
   "id": "80d15065-e09a-42f4-b6c1-360237a8770e",
   "metadata": {},
   "outputs": [],
   "source": [
    "iuc_cad_df <- process_nest(grouping_iuc_df, glue::glue(\"cad_nest_visit_{follow_up_time}_df\"), glue::glue(\"cad_nest_calls_in_{follow_up_time}_hrs\"), \"999\")"
   ]
  },
  {
   "cell_type": "code",
   "execution_count": null,
   "id": "c298b71f-0629-4206-9a22-9abad5e162bb",
   "metadata": {},
   "outputs": [],
   "source": [
    "iuc_cad_df %>% count() # Grouping 1: 20495 Grouping 2 20212 Grouping 3: 20095"
   ]
  },
  {
   "cell_type": "code",
   "execution_count": null,
   "id": "5346f954-2ca1-4644-83a5-7f7b39d54b93",
   "metadata": {},
   "outputs": [],
   "source": [
    "iuc_hosp_ed_df <- process_nest(grouping_iuc_df, glue::glue(\"hosp_ed_nest_visit_{follow_up_time}_df\"), glue::glue(\"hosp_ed_nest_calls_in_{follow_up_time}_hrs\"), \"ED\")"
   ]
  },
  {
   "cell_type": "code",
   "execution_count": null,
   "id": "fad4119a-ba28-4a9f-a169-02a3d47a85c6",
   "metadata": {},
   "outputs": [],
   "source": [
    "iuc_hosp_ed_df %>% count() # Grouping 1 40372 Grouping 2 39849 Grouping 3: 39438"
   ]
  },
  {
   "cell_type": "code",
   "execution_count": null,
   "id": "d19c659b-185d-40d8-b36a-546fdef17677",
   "metadata": {},
   "outputs": [],
   "source": [
    "iuc_hosp_ip_df <- process_nest(grouping_iuc_df, glue::glue(\"hosp_ip_nest_visit_{follow_up_time}_df\"), glue::glue(\"hosp_ip_nest_calls_in_{follow_up_time}_hrs\"), \"IP\")"
   ]
  },
  {
   "cell_type": "code",
   "execution_count": null,
   "id": "77395050-4e6a-4ddc-a543-c9852f742f96",
   "metadata": {},
   "outputs": [],
   "source": [
    "iuc_hosp_ip_df %>% count() # Grouping 1 13194 Grouping 2 13068 Grouping 3: 12960"
   ]
  },
  {
   "cell_type": "code",
   "execution_count": null,
   "id": "abf58ee8-f2d9-4e81-9977-243f79737a69",
   "metadata": {},
   "outputs": [],
   "source": [
    "grouping_iuc_df2 <- bind_rows(grouping_iuc_df1, iuc_gp_df, iuc_iuc_df, iuc_cad_df, iuc_hosp_ed_df, iuc_hosp_ip_df) %>%\n",
    "    arrange(start)"
   ]
  },
  {
   "cell_type": "code",
   "execution_count": null,
   "id": "2ae94a6e-b726-45f7-ad47-406f314852a3",
   "metadata": {},
   "outputs": [],
   "source": [
    "grouping_iuc_df2 %>% glimpse()"
   ]
  },
  {
   "cell_type": "code",
   "execution_count": null,
   "id": "fee1ed69-8a67-4bae-a251-ab8cd8defeb8",
   "metadata": {},
   "outputs": [],
   "source": [
    "saveRDS(grouping_iuc_df2, glue::glue(\"data/grouping{grouping_number}_iuc_combo_df{follow_up_time_str}.rds\"))"
   ]
  },
  {
   "cell_type": "code",
   "execution_count": null,
   "id": "c729494a-b715-471c-92ea-7a81f5ee5285",
   "metadata": {},
   "outputs": [],
   "source": [
    "#grouping_iuc_df2 <- readRDS(glue::glue(\"data/grouping{grouping_number}_iuc_combo_df.rds\"))"
   ]
  },
  {
   "cell_type": "code",
   "execution_count": null,
   "id": "7c672c83-aa66-49ca-a0ac-18be0c29cd7e",
   "metadata": {},
   "outputs": [],
   "source": [
    "#grouping_iuc_df2 %>% filter(grepl(\"IUC\", activity)) "
   ]
  },
  {
   "cell_type": "markdown",
   "id": "b3f7185f-0ccc-4105-bdd3-2b51a85523d7",
   "metadata": {},
   "source": [
    "# Create Survival analysis dataset"
   ]
  },
  {
   "cell_type": "markdown",
   "id": "7966949c-0c06-4a0d-8593-02a9b106ccfa",
   "metadata": {},
   "source": [
    "## Abandoned calls"
   ]
  },
  {
   "cell_type": "code",
   "execution_count": null,
   "id": "7623e2e0-d108-49fa-a895-a38a1e5ed962",
   "metadata": {},
   "outputs": [],
   "source": [
    "df2 <- df1 %>% group_by(activity_instance_id) %>% \n",
    "    arrange(start) %>%\n",
    "    summarise(\n",
    "        person_id = first(person_id),\n",
    "        ethnicity_source_value = first(ethnicity_source_value),\n",
    "        age = first(age),\n",
    "        sex = first(sex),\n",
    "        ooh = first(ooh),\n",
    "        imd_rank = first(imd_rank),\n",
    "        imd_decile = first(imd_decile),\n",
    "        gp_surgery_id = if_else(any(!is.na(gp_surgery_id)), first(gp_surgery_id[!is.na(gp_surgery_id)]), NA),\n",
    "        \n",
    "        fu_time = case_when(\n",
    "            n() == 1 ~ follow_up_time, # Only abandoned call in group, end time of call\n",
    "            any(activity == \"ED\") ~ as.integer(difftime(first(start[activity == \"ED\"]), first(start), unit = \"hours\")), # ED attendance in dataset, so get first attendance\n",
    "            TRUE ~ follow_up_time\n",
    "        ),\n",
    "        fu_time = if_else(fu_time > follow_up_time, follow_up_time, fu_time), # Truncate all values to follow_up_time\n",
    "        fu_time_non_avoid = case_when(\n",
    "            n() == 1 ~ follow_up_time, # Only abandoned call in group, end time of call\n",
    "            any(activity == \"ED\" & !is.na(avoidable_admission) & avoidable_admission == 0) ~ as.integer(difftime(first(start[activity == \"ED\" & !is.na(avoidable_admission) & avoidable_admission == 0]), first(start), unit = \"hours\")), # ED attendance in dataset, so get first attendance\n",
    "            TRUE ~ follow_up_time\n",
    "        ),\n",
    "        fu_time_non_avoid = if_else(fu_time_non_avoid > follow_up_time, follow_up_time, fu_time_non_avoid),\n",
    "        \n",
    "        num_contacts_to_ED_attend = case_when(\n",
    "          any(activity == 'ED') ~ first(row_number()[activity == \"ED\"]-1),\n",
    "          TRUE ~ NA_integer_\n",
    "        ),\n",
    "        num_contacts_to_ED_non_avoid_attend = case_when(\n",
    "          any(activity == 'ED' & !is.na(avoidable_admission) & avoidable_admission == 0) ~ first(row_number()[activity == 'ED' & !is.na(avoidable_admission) & avoidable_admission == 0]-1),\n",
    "          TRUE ~ NA_integer_\n",
    "        ),\n",
    "        \n",
    "        num_GP_contacts_to_ED_attend = case_when(\n",
    "          any(activity == 'ED') ~ sum(row_number()[activity == 'GP'] < first(row_number()[activity == \"ED\"])),\n",
    "          TRUE ~ NA_integer_\n",
    "        ),\n",
    "        num_GP_contacts_to_ED_non_avoid_attend = case_when(\n",
    "          any(activity == 'ED' & !is.na(avoidable_admission) & avoidable_admission == 0) ~ sum(row_number()[activity == 'GP'] < first(row_number()[activity == 'ED' & !is.na(avoidable_admission) & avoidable_admission == 0]), na.rm = T),\n",
    "          TRUE ~ NA_integer_\n",
    "        ),\n",
    "        \n",
    "        status = case_when(\n",
    "            n() == 1 ~ 0,\n",
    "            any(activity == \"ED\") ~ 1, \n",
    "            TRUE ~ 0\n",
    "        ),\n",
    "        status_non_avoid = case_when(\n",
    "            n() == 1 ~ 0, # Censored\n",
    "            any(activity == \"ED\" & !is.na(avoidable_admission) & avoidable_admission == 0) ~ 1,\n",
    "            TRUE ~ 0\n",
    "        ),\n",
    "        hosp = case_when(\n",
    "         any(activity == \"ED\") ~ first(hosp[activity == \"ED\"]),\n",
    "         TRUE ~ NA_character_\n",
    "        )\n",
    "    ) %>% ungroup()"
   ]
  },
  {
   "cell_type": "code",
   "execution_count": null,
   "id": "c69c6129-5e21-4e89-a52a-51e853326c38",
   "metadata": {},
   "outputs": [],
   "source": [
    "df2 %>% glimpse()"
   ]
  },
  {
   "cell_type": "markdown",
   "id": "9d094431-9d43-4ca5-b96e-3e21372bba7d",
   "metadata": {},
   "source": [
    "## 111 calls"
   ]
  },
  {
   "cell_type": "code",
   "execution_count": null,
   "id": "f21e6cb3-b389-4495-9701-1360624865f7",
   "metadata": {},
   "outputs": [],
   "source": [
    "grouping_iuc_df3 <- grouping_iuc_df2 %>% #head() %>%\n",
    "    group_by(activity_instance_id) %>% \n",
    "    arrange(start) %>%\n",
    "    summarise(\n",
    "        person_id = first(person_id),\n",
    "        ethnicity_source_value = first(ethnicity_source_value),\n",
    "        age = first(age),\n",
    "        sex = first(sex),\n",
    "        ooh = first(ooh),\n",
    "        imd_rank = first(imd_rank),\n",
    "        imd_decile = first(imd_decile),\n",
    "        gp_surgery_id = if_else(any(!is.na(gp_practice_id)), first(gp_practice_id[!is.na(gp_practice_id)]), NA),\n",
    "        \n",
    "        fu_time = case_when(\n",
    "            n() == 1 ~ follow_up_time, # Only abandoned call in group, end time of call\n",
    "            any(activity == \"ED\") ~ as.integer(difftime(first(start[activity == \"ED\"]), first(start), unit = \"hours\")), # ED attendance in dataset, so get first attendance\n",
    "            TRUE ~ follow_up_time\n",
    "        ),\n",
    "        fu_time = if_else(fu_time > follow_up_time, follow_up_time, fu_time), # Truncate all values to 72 hours\n",
    "        \n",
    "        fu_time_non_avoid = case_when(\n",
    "            n() == 1 ~ follow_up_time, # Only abandoned call in group, end time of call\n",
    "            any(activity == \"ED\" & !is.na(avoidable_admission) & avoidable_admission == 0) ~ as.integer(difftime(first(start[activity == \"ED\" & !is.na(avoidable_admission) & avoidable_admission == 0]), first(start), unit = \"hours\")), # ED attendance in dataset, so get first attendance\n",
    "            TRUE ~ follow_up_time\n",
    "        ),\n",
    "        fu_time_non_avoid = if_else(fu_time_non_avoid > follow_up_time, follow_up_time, fu_time_non_avoid),\n",
    "        \n",
    "        num_contacts_to_ED_attend = case_when(\n",
    "          any(activity == 'ED') ~ first(row_number()[activity == \"ED\"]-1),\n",
    "          TRUE ~ NA_integer_\n",
    "        ),\n",
    "        num_contacts_to_ED_non_avoid_attend = case_when(\n",
    "          any(activity == 'ED' & !is.na(avoidable_admission) & avoidable_admission == 0) ~ first(row_number()[activity == 'ED' & !is.na(avoidable_admission) & avoidable_admission == 0]-1),\n",
    "          TRUE ~ NA_integer_\n",
    "        ),\n",
    "        \n",
    "        num_GP_contacts_to_ED_attend = case_when(\n",
    "          any(activity == 'ED') ~ sum(row_number()[activity == 'GP'] < first(row_number()[activity == \"ED\"])),\n",
    "          TRUE ~ NA_integer_\n",
    "        ),\n",
    "        num_GP_contacts_to_ED_non_avoid_attend = case_when(\n",
    "          any(activity == 'ED' & !is.na(avoidable_admission) & avoidable_admission == 0) ~ sum(row_number()[activity == 'GP'] < first(row_number()[activity == 'ED' & !is.na(avoidable_admission) & avoidable_admission == 0]), na.rm = T),\n",
    "          TRUE ~ NA_integer_\n",
    "        ),\n",
    "                                                                                                                            \n",
    "        status = case_when(\n",
    "            # Only index call present\n",
    "            n() == 1 ~ 0,\n",
    "            any(activity == \"ED\") ~ 1, \n",
    "            TRUE ~ 0\n",
    "        ),\n",
    "        status_non_avoid = case_when(\n",
    "            n() == 1 ~ 0, # Censored\n",
    "            any(activity == \"ED\" & !is.na(avoidable_admission) & avoidable_admission == 0) ~ 1,\n",
    "            TRUE ~ 0\n",
    "        ),\n",
    "        hosp = case_when(\n",
    "         any(activity == \"ED\") ~ first(hosp[activity == \"ED\"]),\n",
    "         TRUE ~ NA_character_\n",
    "        )\n",
    "    ) %>% ungroup()"
   ]
  },
  {
   "cell_type": "code",
   "execution_count": null,
   "id": "cb8d782f-6d7a-41fd-8895-e8cb290a2856",
   "metadata": {},
   "outputs": [],
   "source": [
    "grouping_iuc_df3 %>% glimpse()"
   ]
  },
  {
   "cell_type": "code",
   "execution_count": null,
   "id": "f24b3eee-241f-4452-9d20-50e1d4d131a2",
   "metadata": {},
   "outputs": [],
   "source": [
    "#grouping_iuc_df3 %>% count(num_contacts_to_ED_attend)\n",
    "#grouping_iuc_df3 %>% count(num_GP_contacts_to_ED_non_avoid_attend)"
   ]
  },
  {
   "cell_type": "markdown",
   "id": "46425dc9-e5e0-490c-9cdc-2123fa5e9789",
   "metadata": {},
   "source": [
    "## Combined cohort survival dataframe"
   ]
  },
  {
   "cell_type": "code",
   "execution_count": null,
   "id": "d1b15f93-8158-4155-942a-723a34894354",
   "metadata": {},
   "outputs": [],
   "source": [
    "grouping_survival_df <- bind_rows(\n",
    "        df2 %>% mutate(cohort = 'AC'),\n",
    "        grouping_iuc_df3 %>% mutate(cohort = 'IUC')\n",
    ")"
   ]
  },
  {
   "cell_type": "code",
   "execution_count": null,
   "id": "49157f0c-d1a5-4b81-acd5-9d7aa4b33a81",
   "metadata": {},
   "outputs": [],
   "source": [
    "grouping_survival_df %>% glimpse()"
   ]
  },
  {
   "cell_type": "code",
   "execution_count": null,
   "id": "4bf5ee05-b827-49da-8d24-f20bd02aa5e9",
   "metadata": {},
   "outputs": [],
   "source": [
    "saveRDS(grouping_survival_df, glue::glue(\"data/grouping{grouping_number}_survival_df{follow_up_time_str}.rds\"))"
   ]
  },
  {
   "cell_type": "code",
   "execution_count": null,
   "id": "df661032-3e95-4312-bd8f-7569ed0c5fa1",
   "metadata": {},
   "outputs": [],
   "source": [
    "grouping_survival_df %>% count(num_GP_contacts_to_ED_attend)"
   ]
  },
  {
   "cell_type": "markdown",
   "id": "5fbd233e-7d1c-41c8-b6c5-78bf540e9c72",
   "metadata": {},
   "source": [
    "# Exploration of index calls dispositions"
   ]
  },
  {
   "cell_type": "code",
   "execution_count": null,
   "id": "e20d4400-3ddb-4b7d-948f-661aeafa40eb",
   "metadata": {},
   "outputs": [],
   "source": [
    "iuc_calls_dispostion_df <- readRDS(glue::glue(\"data/grouping{grouping_number}_iuc_combo_df.rds\"))"
   ]
  },
  {
   "cell_type": "code",
   "execution_count": null,
   "id": "577c45e7-c879-403a-af06-ba806671a7ab",
   "metadata": {},
   "outputs": [],
   "source": [
    "iuc_calls_dispostion_df %>% glimpse()"
   ]
  },
  {
   "cell_type": "code",
   "execution_count": null,
   "id": "374624fe-8154-451a-b23c-7ad899dbd631",
   "metadata": {},
   "outputs": [],
   "source": [
    "iuc_calls_disposition_df2 <- iuc_calls_dispostion_df %>% #head() %>%\n",
    "    group_by(activity_instance_id) %>% \n",
    "    arrange(start) %>%\n",
    "    summarise(\n",
    "        person_id = first(person_id),\n",
    "        sym_desc = first(symtom_group_desc),\n",
    "        sym_discr = first(symptom_discriminator_desc),\n",
    "        dx_code = first(final_dx_code),\n",
    "        \n",
    "        fu_time = case_when(\n",
    "            n() == 1 ~ follow_up_time, # Only abandoned call in group, end time of call\n",
    "            any(activity == \"ED\") ~ as.integer(difftime(first(start[activity == \"ED\"]), first(start), unit = \"hours\")), # ED attendance in dataset, so get first attendance\n",
    "            TRUE ~ follow_up_time\n",
    "        ),\n",
    "        fu_time = if_else(fu_time > follow_up_time, follow_up_time, fu_time), # Truncate all values to 72 hours\n",
    "        \n",
    "        fu_time_non_avoid = case_when(\n",
    "            n() == 1 ~ follow_up_time, # Only abandoned call in group, end time of call\n",
    "            any(activity == \"ED\" & !is.na(avoidable_admission) & avoidable_admission == 0) ~ as.integer(difftime(first(start[activity == \"ED\" & !is.na(avoidable_admission) & avoidable_admission == 0]), first(start), unit = \"hours\")), # ED attendance in dataset, so get first attendance\n",
    "            TRUE ~ follow_up_time\n",
    "        ),\n",
    "        fu_time_non_avoid = if_else(fu_time_non_avoid > follow_up_time, follow_up_time, fu_time_non_avoid),\n",
    "                                                                                                                            \n",
    "        status = case_when(\n",
    "            # Only index call present\n",
    "            n() == 1 ~ 0,\n",
    "            any(activity == \"ED\") ~ 1, \n",
    "            TRUE ~ 0\n",
    "        ),\n",
    "        status_non_avoid = case_when(\n",
    "            n() == 1 ~ 0, # Censored\n",
    "            any(activity == \"ED\" & !is.na(avoidable_admission) & avoidable_admission == 0) ~ 1,\n",
    "            TRUE ~ 0\n",
    "        ),\n",
    "        \n",
    "    ) %>% ungroup()"
   ]
  },
  {
   "cell_type": "code",
   "execution_count": null,
   "id": "f9dc1797-c852-44fb-adfa-50874c0f8605",
   "metadata": {},
   "outputs": [],
   "source": [
    "iuc_calls_disposition_df2  %>% glimpse()"
   ]
  },
  {
   "cell_type": "code",
   "execution_count": null,
   "id": "9cce9c6d-02b6-41b3-a258-fda9f8240994",
   "metadata": {},
   "outputs": [],
   "source": [
    "#iuc_calls_disposition_df2 %>% count(status_non_avoid, sym_discr, sort = T)"
   ]
  },
  {
   "cell_type": "code",
   "execution_count": null,
   "id": "aaf888b9-72e9-42fc-bc38-37d7cd36ca4e",
   "metadata": {},
   "outputs": [],
   "source": [
    "iuc_disposition_df3 <- iuc_calls_disposition_df2 %>%\n",
    "    mutate(\n",
    "        go_to_ed_incl_amb = if_else(grepl(\"ED|AMB\", sym_discr), 1, 0),\n",
    "        ed_only = if_else(grepl(\"ED\", sym_discr), 1, 0)\n",
    "    )"
   ]
  },
  {
   "cell_type": "code",
   "execution_count": null,
   "id": "3f29e777-89c8-4156-a2aa-b313890d417f",
   "metadata": {},
   "outputs": [],
   "source": [
    "iuc_disposition_df3 %>% count(status_non_avoid, go_to_ed_incl_amb)"
   ]
  },
  {
   "cell_type": "code",
   "execution_count": null,
   "id": "e7269a07-e73f-483d-8632-2d2bebcdb71a",
   "metadata": {},
   "outputs": [],
   "source": [
    "iuc_disposition_df3 %>% count(status_non_avoid, ed_only)"
   ]
  }
 ],
 "metadata": {
  "environment": {
   "kernel": "ir",
   "name": ".m112",
   "type": "gcloud",
   "uri": "gcr.io/deeplearning-platform-release/:m112"
  },
  "kernelspec": {
   "display_name": "R",
   "language": "R",
   "name": "ir"
  },
  "language_info": {
   "codemirror_mode": "r",
   "file_extension": ".r",
   "mimetype": "text/x-r-source",
   "name": "R",
   "pygments_lexer": "r",
   "version": "4.2.3"
  }
 },
 "nbformat": 4,
 "nbformat_minor": 5
}
