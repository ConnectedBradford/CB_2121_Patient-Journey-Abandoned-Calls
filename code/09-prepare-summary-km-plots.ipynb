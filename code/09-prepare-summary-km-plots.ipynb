{
 "cells": [
  {
   "cell_type": "code",
   "execution_count": null,
   "id": "8d8f158f-2b31-4b3c-9123-7339237a2216",
   "metadata": {
    "vscode": {
     "languageId": "r"
    }
   },
   "outputs": [],
   "source": [
    "suppressPackageStartupMessages(library(tidyverse))\n",
    "suppressPackageStartupMessages(library(patchwork))\n",
    "library(ggsurvfit)"
   ]
  },
  {
   "cell_type": "code",
   "execution_count": null,
   "id": "035f432f-f687-43b0-acbb-751ef0261dae",
   "metadata": {
    "vscode": {
     "languageId": "r"
    }
   },
   "outputs": [],
   "source": [
    "km_1 <- readRDS('output/km_non_avoid_plot_grouping1.rds')\n",
    "km_2 <- readRDS('output/km_non_avoid_plot_grouping2.rds')\n",
    "km_3 <- readRDS('output/km_non_avoid_plot_grouping3.rds')"
   ]
  },
  {
   "cell_type": "code",
   "execution_count": null,
   "id": "96aac85f-60d2-446a-b899-2990e24380b2",
   "metadata": {
    "vscode": {
     "languageId": "r"
    }
   },
   "outputs": [],
   "source": [
    "options(repr.plot.width=14, repr.plot.height=6)"
   ]
  },
  {
   "cell_type": "code",
   "execution_count": null,
   "id": "871642e8-6825-400d-875c-b688688fdd09",
   "metadata": {
    "vscode": {
     "languageId": "r"
    }
   },
   "outputs": [],
   "source": [
    "final_plot <- patchwork::wrap_plots(\n",
    "    wrap_elements(km_1), \n",
    "    wrap_elements(km_2),\n",
    "    wrap_elements(km_3),\n",
    "    ncol = 3\n",
    ")\n",
    "ggsave(plot = final_plot, file = glue::glue(\"output/km_plot_summary.pdf\"), width = 14)\n",
    "final_plot"
   ]
  },
  {
   "cell_type": "code",
   "execution_count": null,
   "id": "543a61e1-4a7f-46e0-8779-78b97f3b9347",
   "metadata": {
    "vscode": {
     "languageId": "r"
    }
   },
   "outputs": [],
   "source": []
  }
 ],
 "metadata": {
  "environment": {
   "kernel": "ir",
   "name": ".m112",
   "type": "gcloud",
   "uri": "gcr.io/deeplearning-platform-release/:m112"
  },
  "kernelspec": {
   "display_name": "R",
   "language": "R",
   "name": "ir"
  },
  "language_info": {
   "codemirror_mode": "r",
   "file_extension": ".r",
   "mimetype": "text/x-r-source",
   "name": "R",
   "pygments_lexer": "r",
   "version": "4.2.3"
  }
 },
 "nbformat": 4,
 "nbformat_minor": 5
}
